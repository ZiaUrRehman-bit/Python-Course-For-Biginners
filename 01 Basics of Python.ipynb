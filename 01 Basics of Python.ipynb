{
 "cells": [
  {
   "cell_type": "markdown",
   "metadata": {},
   "source": [
    "# <Center>Basics of Python</center>\n",
    "## <Center>(Strings, Input Statement, Decision Making Statements, List, Dictionaries etc.)</center>"
   ]
  },
  {
   "cell_type": "markdown",
   "metadata": {},
   "source": [
    "### Task 01: Create variable of all types, print values and types of all variables."
   ]
  },
  {
   "cell_type": "code",
   "execution_count": 1,
   "metadata": {},
   "outputs": [
    {
     "name": "stdout",
     "output_type": "stream",
     "text": [
      "The data type of i is  <class 'int'>\n"
     ]
    }
   ],
   "source": [
    "i = 10\n",
    "print(\"The data type of i is \", type(i))"
   ]
  },
  {
   "cell_type": "code",
   "execution_count": 2,
   "metadata": {},
   "outputs": [
    {
     "name": "stdout",
     "output_type": "stream",
     "text": [
      "The data type of x is  <class 'str'>\n"
     ]
    }
   ],
   "source": [
    "x = 'abc'\n",
    "print(\"The data type of x is \", type(x))"
   ]
  },
  {
   "cell_type": "code",
   "execution_count": 3,
   "metadata": {},
   "outputs": [
    {
     "name": "stdout",
     "output_type": "stream",
     "text": [
      "The data type of z is  <class 'complex'>\n"
     ]
    }
   ],
   "source": [
    "z = 2+3j\n",
    "print(\"The data type of z is \", type(z))"
   ]
  },
  {
   "cell_type": "code",
   "execution_count": 4,
   "metadata": {},
   "outputs": [
    {
     "name": "stdout",
     "output_type": "stream",
     "text": [
      "The data type of j is  <class 'float'>\n"
     ]
    }
   ],
   "source": [
    "j = 0.9\n",
    "print(\"The data type of j is \", type(j))"
   ]
  },
  {
   "cell_type": "code",
   "execution_count": 5,
   "metadata": {},
   "outputs": [
    {
     "name": "stdout",
     "output_type": "stream",
     "text": [
      "The data type of check is  <class 'bool'>\n"
     ]
    }
   ],
   "source": [
    "check = True\n",
    "print(\"The data type of check is \", type(check))"
   ]
  },
  {
   "cell_type": "markdown",
   "metadata": {},
   "source": [
    "### Task 02: Take input from user(two numbers) and perfrom all arithmetic and logical operations on it and print results."
   ]
  },
  {
   "cell_type": "code",
   "execution_count": 7,
   "metadata": {},
   "outputs": [
    {
     "data": {
      "text/plain": [
       "'3'"
      ]
     },
     "execution_count": 7,
     "metadata": {},
     "output_type": "execute_result"
    }
   ],
   "source": [
    "num1 = input(\"Enter 1st Number = \")\n",
    "num1"
   ]
  },
  {
   "cell_type": "markdown",
   "metadata": {},
   "source": [
    "\"input\" function always takes input in string data type, So we have to convert it into integer data type to perform arithmetic operations"
   ]
  },
  {
   "cell_type": "code",
   "execution_count": 8,
   "metadata": {},
   "outputs": [
    {
     "data": {
      "text/plain": [
       "3"
      ]
     },
     "execution_count": 8,
     "metadata": {},
     "output_type": "execute_result"
    }
   ],
   "source": [
    "num1 = int(num1)\n",
    "num1"
   ]
  },
  {
   "cell_type": "code",
   "execution_count": 9,
   "metadata": {},
   "outputs": [
    {
     "data": {
      "text/plain": [
       "2"
      ]
     },
     "execution_count": 9,
     "metadata": {},
     "output_type": "execute_result"
    }
   ],
   "source": [
    "num2 = int(input(\"Enter 2nd Number = \"))\n",
    "num2"
   ]
  },
  {
   "cell_type": "markdown",
   "metadata": {},
   "source": [
    "#### Addition"
   ]
  },
  {
   "cell_type": "code",
   "execution_count": 11,
   "metadata": {},
   "outputs": [
    {
     "data": {
      "text/plain": [
       "5"
      ]
     },
     "execution_count": 11,
     "metadata": {},
     "output_type": "execute_result"
    }
   ],
   "source": [
    "add = num1 + num2\n",
    "add"
   ]
  },
  {
   "cell_type": "markdown",
   "metadata": {},
   "source": [
    "#### Subtraction "
   ]
  },
  {
   "cell_type": "code",
   "execution_count": 12,
   "metadata": {},
   "outputs": [
    {
     "data": {
      "text/plain": [
       "1"
      ]
     },
     "execution_count": 12,
     "metadata": {},
     "output_type": "execute_result"
    }
   ],
   "source": [
    "Sub = num1 - num2\n",
    "Sub"
   ]
  },
  {
   "cell_type": "markdown",
   "metadata": {},
   "source": [
    "#### Multiplication "
   ]
  },
  {
   "cell_type": "code",
   "execution_count": 13,
   "metadata": {},
   "outputs": [
    {
     "data": {
      "text/plain": [
       "6"
      ]
     },
     "execution_count": 13,
     "metadata": {},
     "output_type": "execute_result"
    }
   ],
   "source": [
    "Mul = num1 * num2\n",
    "Mul"
   ]
  },
  {
   "cell_type": "markdown",
   "metadata": {},
   "source": [
    "#### Division "
   ]
  },
  {
   "cell_type": "code",
   "execution_count": 14,
   "metadata": {},
   "outputs": [
    {
     "data": {
      "text/plain": [
       "1.5"
      ]
     },
     "execution_count": 14,
     "metadata": {},
     "output_type": "execute_result"
    }
   ],
   "source": [
    "Div = num1 / num2\n",
    "Div"
   ]
  },
  {
   "cell_type": "markdown",
   "metadata": {},
   "source": [
    "#### Mod"
   ]
  },
  {
   "cell_type": "code",
   "execution_count": 16,
   "metadata": {},
   "outputs": [
    {
     "data": {
      "text/plain": [
       "1"
      ]
     },
     "execution_count": 16,
     "metadata": {},
     "output_type": "execute_result"
    }
   ],
   "source": [
    "Mod = num1%num2\n",
    "Mod"
   ]
  },
  {
   "cell_type": "markdown",
   "metadata": {},
   "source": [
    "#### Exponent"
   ]
  },
  {
   "cell_type": "code",
   "execution_count": 19,
   "metadata": {},
   "outputs": [
    {
     "data": {
      "text/plain": [
       "9"
      ]
     },
     "execution_count": 19,
     "metadata": {},
     "output_type": "execute_result"
    }
   ],
   "source": [
    "exp = num1**num2\n",
    "exp"
   ]
  },
  {
   "cell_type": "code",
   "execution_count": 1,
   "metadata": {},
   "outputs": [
    {
     "name": "stdout",
     "output_type": "stream",
     "text": [
      "The addition of numbers is  7\n",
      "The subtraction of numbers is  -1\n",
      "The multiplication of numbers is  12\n",
      "The division of numbers is  0.75\n",
      "The modulus of numbers is  3\n",
      "The exponent of numbers is  81\n",
      "The AND of numbers is  4\n",
      "The OR of numbers is  3\n",
      "The NOT of numbers is  False\n"
     ]
    }
   ],
   "source": [
    "x1 = input('Enter 1st number = ')\n",
    "y1 = input('Enter 2nd number = ')\n",
    "x=int(x1)\n",
    "y=int(y1)\n",
    "add=x+y\n",
    "sub=x-y\n",
    "mul=x*y\n",
    "div=x/y\n",
    "mod=x%y\n",
    "exp=x**y\n",
    "a=x and y\n",
    "b=x or y\n",
    "c=not x \n",
    "#print\n",
    "print(\"The addition of numbers is \",add) \n",
    "print(\"The subtraction of numbers is \", sub) \n",
    "print(\"The multiplication of numbers is \",mul) \n",
    "print(\"The division of numbers is \",div) \n",
    "print(\"The modulus of numbers is \", mod) \n",
    "print(\"The exponent of numbers is \",exp) \n",
    "print(\"The AND of numbers is \",a) \n",
    "print(\"The OR of numbers is \",b)\n",
    "print(\"The NOT of numbers is \",c)"
   ]
  },
  {
   "cell_type": "code",
   "execution_count": null,
   "metadata": {},
   "outputs": [],
   "source": []
  },
  {
   "cell_type": "markdown",
   "metadata": {},
   "source": [
    "### Task 03: Take a string (a long Statement) from user\n",
    "- Find the length of the string\n",
    "- Display the first and last character of the string\n",
    "- Capitalize all alphabets\n",
    "- Split string in to words (split using ‘ ’)\n",
    "- count the occurrence of an Alphabet (i.e : a)\n",
    "- replace the second word of a string with ‘Artificial’\n",
    "- reverse the complete string \n"
   ]
  },
  {
   "cell_type": "code",
   "execution_count": 2,
   "metadata": {},
   "outputs": [],
   "source": [
    "longStr=input(\"Enter a long string : \")"
   ]
  },
  {
   "cell_type": "code",
   "execution_count": 3,
   "metadata": {},
   "outputs": [
    {
     "data": {
      "text/plain": [
       "'Hi, My Name is Engr. Zia Ur Rehman. I am Lab engineer in Computer Engineering department of KICSIT.'"
      ]
     },
     "execution_count": 3,
     "metadata": {},
     "output_type": "execute_result"
    }
   ],
   "source": [
    "longStr"
   ]
  },
  {
   "cell_type": "code",
   "execution_count": 7,
   "metadata": {},
   "outputs": [
    {
     "name": "stdout",
     "output_type": "stream",
     "text": [
      "The length of given string is 99 includig spaces.\n"
     ]
    }
   ],
   "source": [
    "print(f\"The length of given string is {len(longStr)} includig spaces.\")"
   ]
  },
  {
   "cell_type": "code",
   "execution_count": 8,
   "metadata": {},
   "outputs": [
    {
     "name": "stdout",
     "output_type": "stream",
     "text": [
      "The first character of the given string is  H\n"
     ]
    }
   ],
   "source": [
    "print(\"The first character of the given string is \", longStr[0])"
   ]
  },
  {
   "cell_type": "code",
   "execution_count": 9,
   "metadata": {},
   "outputs": [
    {
     "name": "stdout",
     "output_type": "stream",
     "text": [
      "The last character of the given string is .\n"
     ]
    }
   ],
   "source": [
    "print(f\"The last character of the given string is {longStr[-1]}\")"
   ]
  },
  {
   "cell_type": "code",
   "execution_count": 10,
   "metadata": {},
   "outputs": [
    {
     "name": "stdout",
     "output_type": "stream",
     "text": [
      "The given string in upper case : \n",
      " HI, MY NAME IS ENGR. ZIA UR REHMAN. I AM LAB ENGINEER IN COMPUTER ENGINEERING DEPARTMENT OF KICSIT.\n"
     ]
    }
   ],
   "source": [
    "print(f\"The given string in upper case : \\n {longStr.upper()}\")"
   ]
  },
  {
   "cell_type": "code",
   "execution_count": 12,
   "metadata": {},
   "outputs": [
    {
     "name": "stdout",
     "output_type": "stream",
     "text": [
      "The splited string : \n",
      " ['Hi,', 'My', 'Name', 'is', 'Engr.', 'Zia', 'Ur', 'Rehman.', 'I', 'am', 'Lab', 'engineer', 'in', 'Computer', 'Engineering', 'department', 'of', 'KICSIT.']\n"
     ]
    }
   ],
   "source": [
    "print(f\"The splited string : \\n {longStr.split(' ')}\") "
   ]
  },
  {
   "cell_type": "code",
   "execution_count": 14,
   "metadata": {},
   "outputs": [
    {
     "name": "stdout",
     "output_type": "stream",
     "text": [
      "In the given string 'a' has occured : 6 \n"
     ]
    }
   ],
   "source": [
    "print(f\"In the given string 'a' has occured : {longStr.count('a')} \")"
   ]
  },
  {
   "cell_type": "code",
   "execution_count": null,
   "metadata": {},
   "outputs": [],
   "source": [
    "print(\"The replaced string is up: \",str.replace('!!!','Artifical'))"
   ]
  },
  {
   "cell_type": "code",
   "execution_count": 15,
   "metadata": {},
   "outputs": [
    {
     "name": "stdout",
     "output_type": "stream",
     "text": [
      "The reversed string is : .TISCIK fo tnemtraped gnireenignE retupmoC ni reenigne baL ma I .namheR rU aiZ .rgnE si emaN yM ,iH\n"
     ]
    }
   ],
   "source": [
    "print(f\"The reversed string is : {longStr[::-1]}\")"
   ]
  },
  {
   "cell_type": "markdown",
   "metadata": {},
   "source": []
  }
 ],
 "metadata": {
  "kernelspec": {
   "display_name": "Python 3",
   "language": "python",
   "name": "python3"
  },
  "language_info": {
   "codemirror_mode": {
    "name": "ipython",
    "version": 3
   },
   "file_extension": ".py",
   "mimetype": "text/x-python",
   "name": "python",
   "nbconvert_exporter": "python",
   "pygments_lexer": "ipython3",
   "version": "3.9.1"
  },
  "orig_nbformat": 4
 },
 "nbformat": 4,
 "nbformat_minor": 2
}
