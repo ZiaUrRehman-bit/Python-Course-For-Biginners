{
 "cells": [
  {
   "cell_type": "markdown",
   "metadata": {},
   "source": [
    "# <Center>02</center>\n",
    "## <Center>(Numpy, Pandas, Matplotlib)</center>"
   ]
  },
  {
   "cell_type": "markdown",
   "metadata": {},
   "source": [
    "# 01. Numpy"
   ]
  },
  {
   "cell_type": "markdown",
   "metadata": {},
   "source": [
    "### Introduction to NUMPY\n",
    "### What is NumPy?\n",
    "- NumPy is a Python library used for working with arrays.\n",
    "- It also has functions for working in domain of linear algebra, fourier transform, and matrices.\n",
    "- NumPy was created in 2005 by Travis Oliphant. It is an open source project and you can use it freely.\n",
    "- NumPy stands for Numerical Python.\n",
    "\n",
    "### Why Use NumPy?\n",
    "- In Python we have lists that serve the purpose of arrays, but they are slow to process.\n",
    "- NumPy aims to provide an array object that is up to 50x faster than traditional Python lists.\n",
    "- The array object in NumPy is called ndarray, it provides a lot of supporting functions that make working with ndarray very easy.\n",
    "- Arrays are very frequently used in data science, where speed and resources are very important.\n",
    "\n",
    "### Why is NumPy Faster Than Lists?\n",
    "\n",
    "- NumPy arrays are stored at one continuous place in memory unlike lists, so processes can access and manipulate them very efficiently.\n",
    "- This behavior is called locality of reference in computer science.\n",
    "- This is the main reason why NumPy is faster than lists. Also it is optimized to work with latest CPU architectures.\n",
    "\n"
   ]
  },
  {
   "cell_type": "markdown",
   "metadata": {},
   "source": [
    "### Example 01\n",
    "- Take 2 lists and multiply both you’ll see that error occurs repeat the process but by  coverting them toarray by numpy.array()"
   ]
  },
  {
   "cell_type": "code",
   "execution_count": 1,
   "metadata": {},
   "outputs": [
    {
     "ename": "TypeError",
     "evalue": "can't multiply sequence by non-int of type 'list'",
     "output_type": "error",
     "traceback": [
      "\u001b[1;31m---------------------------------------------------------------------------\u001b[0m",
      "\u001b[1;31mTypeError\u001b[0m                                 Traceback (most recent call last)",
      "\u001b[1;32mc:\\Users\\hp\\Google Drive\\Fiverr Work\\2022\\47. Python Course\\02 Numpy Pandas Matplotlib.ipynb Cell 4\u001b[0m line \u001b[0;36m4\n\u001b[0;32m      <a href='vscode-notebook-cell:/c%3A/Users/hp/Google%20Drive/Fiverr%20Work/2022/47.%20Python%20Course/02%20Numpy%20Pandas%20Matplotlib.ipynb#W1sZmlsZQ%3D%3D?line=0'>1</a>\u001b[0m l1 \u001b[39m=\u001b[39m [\u001b[39m1\u001b[39m,\u001b[39m2\u001b[39m,\u001b[39m3\u001b[39m]\n\u001b[0;32m      <a href='vscode-notebook-cell:/c%3A/Users/hp/Google%20Drive/Fiverr%20Work/2022/47.%20Python%20Course/02%20Numpy%20Pandas%20Matplotlib.ipynb#W1sZmlsZQ%3D%3D?line=1'>2</a>\u001b[0m l2 \u001b[39m=\u001b[39m [\u001b[39m4\u001b[39m,\u001b[39m5\u001b[39m,\u001b[39m6\u001b[39m]\n\u001b[1;32m----> <a href='vscode-notebook-cell:/c%3A/Users/hp/Google%20Drive/Fiverr%20Work/2022/47.%20Python%20Course/02%20Numpy%20Pandas%20Matplotlib.ipynb#W1sZmlsZQ%3D%3D?line=3'>4</a>\u001b[0m l1\u001b[39m*\u001b[39;49ml2\n",
      "\u001b[1;31mTypeError\u001b[0m: can't multiply sequence by non-int of type 'list'"
     ]
    }
   ],
   "source": [
    "l1 = [1,2,3]\n",
    "l2 = [4,5,6]\n",
    "\n",
    "l1*l2"
   ]
  },
  {
   "cell_type": "markdown",
   "metadata": {},
   "source": [
    "- Now, by using numpy"
   ]
  },
  {
   "cell_type": "code",
   "execution_count": 4,
   "metadata": {},
   "outputs": [
    {
     "name": "stdout",
     "output_type": "stream",
     "text": [
      "[1 2 3] * [4 5 6] = [ 4 10 18]\n"
     ]
    }
   ],
   "source": [
    "import numpy as np\n",
    "\n",
    "l1 = [1,2,3]\n",
    "l2 = [4,5,6]\n",
    "\n",
    "A1 = np.array(l1)\n",
    "A2 = np.array(l2)\n",
    "\n",
    "print(f\"{A1} * {A2} = {A1*A2}\")"
   ]
  },
  {
   "cell_type": "markdown",
   "metadata": {},
   "source": [
    "### Example 02\n",
    "\n",
    "- Demonstrate the use of numpy.dtype and numpy.shape() functions"
   ]
  },
  {
   "cell_type": "code",
   "execution_count": 5,
   "metadata": {},
   "outputs": [
    {
     "name": "stdout",
     "output_type": "stream",
     "text": [
      "[1 2 3] * [4 5 6] = [ 4 10 18]\n",
      "The type of array using type: <class 'numpy.ndarray'>\n",
      "The type of array using dtype: int32\n",
      "The dimension of an array: (3,)\n"
     ]
    }
   ],
   "source": [
    "import numpy as np\n",
    "\n",
    "l1 = [1,2,3]\n",
    "l2 = [4,5,6]\n",
    "\n",
    "A1 = np.array(l1)\n",
    "A2 = np.array(l2)\n",
    "\n",
    "A = A1*A2\n",
    "\n",
    "print(f\"{A1} * {A2} = {A}\")\n",
    "\n",
    "print(f\"The type of array using type: {type(A)}\")\n",
    "print(f\"The type of array using dtype: {A.dtype}\") # no () with dtype because it is an attribute of A not a function\n",
    "\n",
    "print(f\"The dimension of an array: {A.shape}\")"
   ]
  },
  {
   "cell_type": "markdown",
   "metadata": {},
   "source": [
    "### Example 03\n",
    "\n",
    "- The size of an array created with numpy.array() is int32 convert it to int 8"
   ]
  },
  {
   "cell_type": "code",
   "execution_count": 6,
   "metadata": {},
   "outputs": [
    {
     "name": "stdout",
     "output_type": "stream",
     "text": [
      "[1 2 3] * [4 5 6] = [ 4 10 18]\n",
      "The type of array using type: <class 'numpy.ndarray'>\n",
      "The type of array using dtype: int8\n",
      "The dimension of an array: (3,)\n"
     ]
    }
   ],
   "source": [
    "import numpy as np\n",
    "\n",
    "l1 = [1,2,3]\n",
    "l2 = [4,5,6]\n",
    "\n",
    "A1 = np.array(l1, np.int8)\n",
    "A2 = np.array(l2, np.int8)\n",
    "\n",
    "A = A1*A2\n",
    "\n",
    "print(f\"{A1} * {A2} = {A}\")\n",
    "\n",
    "print(f\"The type of array using type: {type(A)}\")\n",
    "print(f\"The type of array using dtype: {A.dtype}\") # no () with dtype because it is an attribute of A not a function\n",
    "\n",
    "print(f\"The dimension of an array: {A.shape}\")"
   ]
  },
  {
   "cell_type": "markdown",
   "metadata": {},
   "source": [
    "### Example 04\n",
    "\n",
    "- Demonstrate the use of numpy.size() functions"
   ]
  },
  {
   "cell_type": "code",
   "execution_count": 8,
   "metadata": {},
   "outputs": [
    {
     "name": "stdout",
     "output_type": "stream",
     "text": [
      "[1 2 3] * [4 5 6] = [ 4 10 18]\n",
      "The type of array using type: <class 'numpy.ndarray'>\n",
      "The type of array using dtype: int8\n",
      "The dimension of an array: (3,)\n",
      "The size of an array: 3\n"
     ]
    }
   ],
   "source": [
    "import numpy as np\n",
    "\n",
    "l1 = [1,2,3]\n",
    "l2 = [4,5,6]\n",
    "\n",
    "A1 = np.array(l1, np.int8)\n",
    "A2 = np.array(l2, np.int8)\n",
    "\n",
    "A = A1*A2\n",
    "\n",
    "print(f\"{A1} * {A2} = {A}\")\n",
    "\n",
    "print(f\"The type of array using type: {type(A)}\")\n",
    "print(f\"The type of array using dtype: {A.dtype}\") # no () with dtype because it is an attribute of A not a function\n",
    "\n",
    "print(f\"The dimension of an array: {A.shape}\")\n",
    "\n",
    "print(f\"The size of an array: {A.size}\") # The size attrubute counts the total element in the array\n"
   ]
  },
  {
   "cell_type": "markdown",
   "metadata": {},
   "source": [
    "### Example 05\n",
    "\n",
    "- Create a 2D array using numpy.array()"
   ]
  },
  {
   "cell_type": "code",
   "execution_count": 13,
   "metadata": {},
   "outputs": [
    {
     "name": "stdout",
     "output_type": "stream",
     "text": [
      " The 2D array is : \n",
      " [[1 2 3]\n",
      " [4 5 6]]\n",
      "The type of array using type: <class 'numpy.ndarray'>\n",
      "The type of array using dtype: int32\n",
      "The dimension of an array: (2, 3)\n",
      "The size of an array: 6\n"
     ]
    }
   ],
   "source": [
    "import numpy as np\n",
    "\n",
    "l1 = [1,2,3]\n",
    "l2 = [4,5,6]\n",
    "\n",
    "A = np.array((l1, l2))\n",
    "print(f\" The 2D array is : \\n {A}\")\n",
    "\n",
    "print(f\"The type of array using type: {type(A)}\")\n",
    "print(f\"The type of array using dtype: {A.dtype}\") # no () with dtype because it is an attribute of A not a function\n",
    "\n",
    "print(f\"The dimension of an array: {A.shape}\")\n",
    "\n",
    "print(f\"The size of an array: {A.size}\") # The size attrubute counts the total element in the array\n"
   ]
  },
  {
   "cell_type": "markdown",
   "metadata": {},
   "source": [
    "### Example 06\n",
    "- Create a 1 D array by passing a list"
   ]
  },
  {
   "cell_type": "code",
   "execution_count": 15,
   "metadata": {},
   "outputs": [
    {
     "name": "stdout",
     "output_type": "stream",
     "text": [
      " The 1D array is : \n",
      " [1 2 3 4 5]\n",
      "The type of array using type: <class 'numpy.ndarray'>\n",
      "The type of array using dtype: int32\n",
      "The dimension of an array: (5,)\n",
      "The size of an array: 5\n"
     ]
    }
   ],
   "source": [
    "A = np.array(([1,2,3,4,5]))\n",
    "print(f\" The 1D array is : \\n {A}\")\n",
    "\n",
    "print(f\"The type of array using type: {type(A)}\")\n",
    "print(f\"The type of array using dtype: {A.dtype}\") # no () with dtype because it is an attribute of A not a function\n",
    "\n",
    "print(f\"The dimension of an array: {A.shape}\")\n",
    "\n",
    "print(f\"The size of an array: {A.size}\") # The size attrubute counts the total element in the array\n"
   ]
  },
  {
   "cell_type": "markdown",
   "metadata": {},
   "source": [
    "### Example 07\n",
    "- Create a 2 D array by passing lists"
   ]
  },
  {
   "cell_type": "code",
   "execution_count": 18,
   "metadata": {},
   "outputs": [
    {
     "name": "stdout",
     "output_type": "stream",
     "text": [
      " The 2D array is : \n",
      " [[1 2 3 4 5]\n",
      " [2 3 4 5 6]]\n",
      "The type of array using type: <class 'numpy.ndarray'>\n",
      "The type of array using dtype: int32\n",
      "The dimension of an array: (2, 5)\n",
      "The size of an array: 10\n"
     ]
    }
   ],
   "source": [
    "import numpy as np\n",
    "\n",
    "A = np.array(([1,2,3,4,5], [2,3,4,5,6]))\n",
    "print(f\" The 2D array is : \\n {A}\")\n",
    "\n",
    "print(f\"The type of array using type: {type(A)}\")\n",
    "print(f\"The type of array using dtype: {A.dtype}\") # no () with dtype because it is an attribute of A not a function\n",
    "\n",
    "print(f\"The dimension of an array: {A.shape}\")\n",
    "\n",
    "print(f\"The size of an array: {A.size}\") # The size attrubute counts the total element in the array\n"
   ]
  },
  {
   "cell_type": "markdown",
   "metadata": {},
   "source": [
    "### Example 08\n",
    "- Create 4 x 4 Matrix"
   ]
  },
  {
   "cell_type": "code",
   "execution_count": 21,
   "metadata": {},
   "outputs": [
    {
     "name": "stdout",
     "output_type": "stream",
     "text": [
      " The array is : \n",
      " [[1 2 3 4]\n",
      " [3 6 3 4]\n",
      " [1 2 9 4]\n",
      " [1 4 5 4]]\n",
      "The type of array using type: <class 'numpy.ndarray'>\n",
      "The type of array using dtype: int32\n",
      "The dimension of an array: (4, 4)\n",
      "The size of an array: 16\n"
     ]
    }
   ],
   "source": [
    "import numpy as np\n",
    "\n",
    "r1 = [1,2,3,4]\n",
    "r2 = [3,6,3,4]\n",
    "r3 = [1,2,9,4]\n",
    "r4 = [1,4,5,4]\n",
    "\n",
    "A = np.array((r1,r2,r3,r4))\n",
    "print(f\" The array is : \\n {A}\")\n",
    "\n",
    "print(f\"The type of array using type: {type(A)}\")\n",
    "print(f\"The type of array using dtype: {A.dtype}\") # no () with dtype because it is an attribute of A not a function\n",
    "\n",
    "print(f\"The dimension of an array: {A.shape}\")\n",
    "\n",
    "print(f\"The size of an array: {A.size}\") # The size attrubute counts the total element in the array\n"
   ]
  },
  {
   "cell_type": "markdown",
   "metadata": {},
   "source": [
    "### Example 09\n",
    "- Replace 2nd row 3rd element of above 4x4 matrix with 10"
   ]
  },
  {
   "cell_type": "code",
   "execution_count": 23,
   "metadata": {},
   "outputs": [
    {
     "name": "stdout",
     "output_type": "stream",
     "text": [
      " The original array is : \n",
      " [[1 2 3 4]\n",
      " [3 6 3 4]\n",
      " [1 2 9 4]\n",
      " [1 4 5 4]]\n",
      " The array after replacing : \n",
      " [[ 1  2  3  4]\n",
      " [ 3  6 10  4]\n",
      " [ 1  2  9  4]\n",
      " [ 1  4  5  4]]\n"
     ]
    }
   ],
   "source": [
    "import numpy as np\n",
    "\n",
    "r1 = [1,2,3,4]\n",
    "r2 = [3,6,3,4]\n",
    "r3 = [1,2,9,4]\n",
    "r4 = [1,4,5,4]\n",
    "\n",
    "A = np.array((r1,r2,r3,r4))\n",
    "print(f\" The original array is : \\n {A}\")\n",
    "\n",
    "A[1,2] = 10\n",
    "print(f\" The array after replacing : \\n {A}\")\n",
    "\n"
   ]
  },
  {
   "cell_type": "markdown",
   "metadata": {},
   "source": [
    "### Example 10\n",
    "- Create a 5 x 5 matrix of all zeros by setting values of both rows and column"
   ]
  },
  {
   "cell_type": "code",
   "execution_count": 24,
   "metadata": {},
   "outputs": [
    {
     "name": "stdout",
     "output_type": "stream",
     "text": [
      " The array is : \n",
      " [[0. 0. 0. 0. 0.]\n",
      " [0. 0. 0. 0. 0.]\n",
      " [0. 0. 0. 0. 0.]\n",
      " [0. 0. 0. 0. 0.]\n",
      " [0. 0. 0. 0. 0.]]\n",
      "The type of array using type: <class 'numpy.ndarray'>\n",
      "The type of array using dtype: float64\n",
      "The dimension of an array: (5, 5)\n",
      "The size of an array: 25\n"
     ]
    }
   ],
   "source": [
    "import numpy as np\n",
    "\n",
    "A = np.zeros([5,5])\n",
    "print(f\" The array is : \\n {A}\")\n",
    "\n",
    "print(f\"The type of array using type: {type(A)}\")\n",
    "print(f\"The type of array using dtype: {A.dtype}\") # no () with dtype because it is an attribute of A not a function\n",
    "\n",
    "print(f\"The dimension of an array: {A.shape}\")\n",
    "\n",
    "print(f\"The size of an array: {A.size}\") # The size attrubute counts the total element in the array\n"
   ]
  },
  {
   "cell_type": "markdown",
   "metadata": {},
   "source": [
    "### Example 11\n",
    "- Create a 5 x 5 matrix of all zeros by passing only 1 argument"
   ]
  },
  {
   "cell_type": "code",
   "execution_count": 29,
   "metadata": {},
   "outputs": [
    {
     "name": "stdout",
     "output_type": "stream",
     "text": [
      " The array is : \n",
      " [0. 0. 0. 0. 0.]\n",
      "The type of array using type: <class 'numpy.ndarray'>\n",
      "The type of array using dtype: float64\n",
      "The dimension of an array: (5,)\n",
      "The size of an array: 5\n"
     ]
    }
   ],
   "source": [
    "import numpy as np\n",
    "\n",
    "A = np.zeros([5])\n",
    "print(f\" The array is : \\n {A}\")\n",
    "\n",
    "print(f\"The type of array using type: {type(A)}\")\n",
    "print(f\"The type of array using dtype: {A.dtype}\") # no () with dtype because it is an attribute of A not a function\n",
    "\n",
    "print(f\"The dimension of an array: {A.shape}\")\n",
    "\n",
    "print(f\"The size of an array: {A.size}\") # The size attrubute counts the total element in the array\n"
   ]
  },
  {
   "cell_type": "markdown",
   "metadata": {},
   "source": [
    "### Example 12\n",
    "- Create an array from 1 to 100 by numpy.arrange()"
   ]
  },
  {
   "cell_type": "code",
   "execution_count": 32,
   "metadata": {},
   "outputs": [
    {
     "name": "stdout",
     "output_type": "stream",
     "text": [
      " The array is : \n",
      " [ 1  2  3  4  5  6  7  8  9 10 11 12 13 14 15 16 17 18 19 20 21 22 23 24\n",
      " 25 26 27 28 29 30 31 32 33 34 35 36 37 38 39 40 41 42 43 44 45 46 47 48\n",
      " 49 50 51 52 53 54 55 56 57 58 59 60 61 62 63 64 65 66 67 68 69 70 71 72\n",
      " 73 74 75 76 77 78 79 80 81 82 83 84 85 86 87 88 89 90 91 92 93 94 95 96\n",
      " 97 98 99]\n",
      "The type of array using type: <class 'numpy.ndarray'>\n",
      "The type of array using dtype: int32\n",
      "The dimension of an array: (99,)\n",
      "The size of an array: 99\n"
     ]
    }
   ],
   "source": [
    "import numpy as np\n",
    "\n",
    "A = np.arange(1,100)\n",
    "print(f\" The array is : \\n {A}\")\n",
    "\n",
    "print(f\"The type of array using type: {type(A)}\")\n",
    "print(f\"The type of array using dtype: {A.dtype}\") # no () with dtype because it is an attribute of A not a function\n",
    "\n",
    "print(f\"The dimension of an array: {A.shape}\")\n",
    "\n",
    "print(f\"The size of an array: {A.size}\") # The size attrubute counts the total element in the array\n"
   ]
  },
  {
   "cell_type": "markdown",
   "metadata": {},
   "source": [
    "### Example 13\n",
    "- Create an array from 1 to 100 by numpy.arrange() with a stepsize of 10"
   ]
  },
  {
   "cell_type": "code",
   "execution_count": 33,
   "metadata": {},
   "outputs": [
    {
     "name": "stdout",
     "output_type": "stream",
     "text": [
      " The array is : \n",
      " [ 1 11 21 31 41 51 61 71 81 91]\n",
      "The type of array using type: <class 'numpy.ndarray'>\n",
      "The type of array using dtype: int32\n",
      "The dimension of an array: (10,)\n",
      "The size of an array: 10\n"
     ]
    }
   ],
   "source": [
    "import numpy as np\n",
    "\n",
    "A = np.arange(1,100,10)\n",
    "print(f\" The array is : \\n {A}\")\n",
    "\n",
    "print(f\"The type of array using type: {type(A)}\")\n",
    "print(f\"The type of array using dtype: {A.dtype}\") # no () with dtype because it is an attribute of A not a function\n",
    "\n",
    "print(f\"The dimension of an array: {A.shape}\")\n",
    "\n",
    "print(f\"The size of an array: {A.size}\") # The size attrubute counts the total element in the array\n"
   ]
  },
  {
   "cell_type": "markdown",
   "metadata": {},
   "source": [
    "### Example 14\n",
    "- Create an array of 100 elements ranging from 2 to 3"
   ]
  },
  {
   "cell_type": "code",
   "execution_count": 34,
   "metadata": {},
   "outputs": [
    {
     "name": "stdout",
     "output_type": "stream",
     "text": [
      " The array is : \n",
      " [2.         2.01010101 2.02020202 2.03030303 2.04040404 2.05050505\n",
      " 2.06060606 2.07070707 2.08080808 2.09090909 2.1010101  2.11111111\n",
      " 2.12121212 2.13131313 2.14141414 2.15151515 2.16161616 2.17171717\n",
      " 2.18181818 2.19191919 2.2020202  2.21212121 2.22222222 2.23232323\n",
      " 2.24242424 2.25252525 2.26262626 2.27272727 2.28282828 2.29292929\n",
      " 2.3030303  2.31313131 2.32323232 2.33333333 2.34343434 2.35353535\n",
      " 2.36363636 2.37373737 2.38383838 2.39393939 2.4040404  2.41414141\n",
      " 2.42424242 2.43434343 2.44444444 2.45454545 2.46464646 2.47474747\n",
      " 2.48484848 2.49494949 2.50505051 2.51515152 2.52525253 2.53535354\n",
      " 2.54545455 2.55555556 2.56565657 2.57575758 2.58585859 2.5959596\n",
      " 2.60606061 2.61616162 2.62626263 2.63636364 2.64646465 2.65656566\n",
      " 2.66666667 2.67676768 2.68686869 2.6969697  2.70707071 2.71717172\n",
      " 2.72727273 2.73737374 2.74747475 2.75757576 2.76767677 2.77777778\n",
      " 2.78787879 2.7979798  2.80808081 2.81818182 2.82828283 2.83838384\n",
      " 2.84848485 2.85858586 2.86868687 2.87878788 2.88888889 2.8989899\n",
      " 2.90909091 2.91919192 2.92929293 2.93939394 2.94949495 2.95959596\n",
      " 2.96969697 2.97979798 2.98989899 3.        ]\n",
      "The type of array using type: <class 'numpy.ndarray'>\n",
      "The type of array using dtype: float64\n",
      "The dimension of an array: (100,)\n",
      "The size of an array: 100\n"
     ]
    }
   ],
   "source": [
    "import numpy as np\n",
    "\n",
    "A = np.linspace(2,3,100)\n",
    "print(f\" The array is : \\n {A}\")\n",
    "\n",
    "print(f\"The type of array using type: {type(A)}\")\n",
    "print(f\"The type of array using dtype: {A.dtype}\") # no () with dtype because it is an attribute of A not a function\n",
    "\n",
    "print(f\"The dimension of an array: {A.shape}\")\n",
    "\n",
    "print(f\"The size of an array: {A.size}\") # The size attrubute counts the total element in the array\n"
   ]
  },
  {
   "cell_type": "markdown",
   "metadata": {},
   "source": [
    "### Example 15\n",
    "- Create identity matrix"
   ]
  },
  {
   "cell_type": "code",
   "execution_count": 35,
   "metadata": {},
   "outputs": [
    {
     "name": "stdout",
     "output_type": "stream",
     "text": [
      " The array is : \n",
      " [[1. 0. 0. 0. 0.]\n",
      " [0. 1. 0. 0. 0.]\n",
      " [0. 0. 1. 0. 0.]\n",
      " [0. 0. 0. 1. 0.]\n",
      " [0. 0. 0. 0. 1.]]\n",
      "The type of array using type: <class 'numpy.ndarray'>\n",
      "The type of array using dtype: float64\n",
      "The dimension of an array: (5, 5)\n",
      "The size of an array: 25\n"
     ]
    }
   ],
   "source": [
    "import numpy as np\n",
    "\n",
    "A = np.identity(5)\n",
    "print(f\" The array is : \\n {A}\")\n",
    "\n",
    "print(f\"The type of array using type: {type(A)}\")\n",
    "print(f\"The type of array using dtype: {A.dtype}\") # no () with dtype because it is an attribute of A not a function\n",
    "\n",
    "print(f\"The dimension of an array: {A.shape}\")\n",
    "\n",
    "print(f\"The size of an array: {A.size}\") # The size attrubute counts the total element in the array\n"
   ]
  },
  {
   "cell_type": "markdown",
   "metadata": {},
   "source": [
    "### Example 16\n",
    "- Create a 4 x 4 matrix and find the sum of all columns"
   ]
  },
  {
   "cell_type": "code",
   "execution_count": 37,
   "metadata": {},
   "outputs": [
    {
     "name": "stdout",
     "output_type": "stream",
     "text": [
      " The Matrix is : \n",
      " [[1 2 3 4]\n",
      " [3 6 3 4]\n",
      " [1 2 9 4]\n",
      " [1 4 5 4]]\n",
      " The row wise sum is : [10 16 16 14]\n",
      " The column wise sum is : [ 6 14 20 16]\n",
      "The type of array using type: <class 'numpy.ndarray'>\n",
      "The type of array using dtype: int32\n",
      "The dimension of an array: (4, 4)\n",
      "The size of an array: 16\n"
     ]
    }
   ],
   "source": [
    "import numpy as np\n",
    "\n",
    "r1 = [1,2,3,4]\n",
    "r2 = [3,6,3,4]\n",
    "r3 = [1,2,9,4]\n",
    "r4 = [1,4,5,4]\n",
    "\n",
    "A = np.array((r1,r2,r3,r4))\n",
    "print(f\" The Matrix is : \\n {A}\")\n",
    "\n",
    "print(f\" The row wise sum is : {A.sum(axis=1)}\")\n",
    "print(f\" The column wise sum is : {A.sum(axis=0)}\")\n",
    "\n",
    "print(f\"The type of array using type: {type(A)}\")\n",
    "print(f\"The type of array using dtype: {A.dtype}\") # no () with dtype because it is an attribute of A not a function\n",
    "\n",
    "print(f\"The dimension of an array: {A.shape}\")\n",
    "\n",
    "print(f\"The size of an array: {A.size}\") # The size attrubute counts the total element in the array\n"
   ]
  },
  {
   "cell_type": "markdown",
   "metadata": {},
   "source": [
    "### Example 17\n",
    "- Find the transpose of a Matrix"
   ]
  },
  {
   "cell_type": "code",
   "execution_count": 38,
   "metadata": {},
   "outputs": [
    {
     "name": "stdout",
     "output_type": "stream",
     "text": [
      " The Matrix is : \n",
      " [[1 2 3 4]\n",
      " [3 6 3 4]\n",
      " [1 2 9 4]\n",
      " [1 4 5 4]]\n",
      " The transpose is : \n",
      " [[1 3 1 1]\n",
      " [2 6 2 4]\n",
      " [3 3 9 5]\n",
      " [4 4 4 4]]\n"
     ]
    }
   ],
   "source": [
    "import numpy as np\n",
    "\n",
    "r1 = [1,2,3,4]\n",
    "r2 = [3,6,3,4]\n",
    "r3 = [1,2,9,4]\n",
    "r4 = [1,4,5,4]\n",
    "\n",
    "A = np.array((r1,r2,r3,r4))\n",
    "print(f\" The Matrix is : \\n {A}\")\n",
    "\n",
    "print(f\" The transpose is : \\n {A.T}\")"
   ]
  },
  {
   "cell_type": "markdown",
   "metadata": {},
   "source": [
    "### Example 18\n",
    "- Use reshape command to convrt 4 x 4 matrix to 8 x 2"
   ]
  },
  {
   "cell_type": "code",
   "execution_count": 41,
   "metadata": {},
   "outputs": [
    {
     "name": "stdout",
     "output_type": "stream",
     "text": [
      " The 4x4 Matrix is : \n",
      " [[1 2 3 4]\n",
      " [3 6 3 4]\n",
      " [1 2 9 4]\n",
      " [1 4 5 4]]\n",
      " The 8x2 matrix: \n",
      " [[1 2]\n",
      " [3 4]\n",
      " [3 6]\n",
      " [3 4]\n",
      " [1 2]\n",
      " [9 4]\n",
      " [1 4]\n",
      " [5 4]]\n"
     ]
    }
   ],
   "source": [
    "import numpy as np\n",
    "\n",
    "r1 = [1,2,3,4]\n",
    "r2 = [3,6,3,4]\n",
    "r3 = [1,2,9,4]\n",
    "r4 = [1,4,5,4]\n",
    "\n",
    "A = np.array((r1,r2,r3,r4))\n",
    "print(f\" The 4x4 Matrix is : \\n {A}\")\n",
    "\n",
    "print(f\" The 8x2 matrix: \\n {A.reshape(8,2)}\")"
   ]
  },
  {
   "cell_type": "markdown",
   "metadata": {},
   "source": [
    "### Example 19\n",
    "- Demonstrate the use of numpy.ravel()"
   ]
  },
  {
   "cell_type": "code",
   "execution_count": 43,
   "metadata": {},
   "outputs": [
    {
     "name": "stdout",
     "output_type": "stream",
     "text": [
      " The 4x4 Matrix is : \n",
      " [[1 2 3 4]\n",
      " [3 6 3 4]\n",
      " [1 2 9 4]\n",
      " [1 4 5 4]]\n",
      " The 1D array from above matrix using ravel: \n",
      " [1 2 3 4 3 6 3 4 1 2 9 4 1 4 5 4]\n"
     ]
    }
   ],
   "source": [
    "import numpy as np\n",
    "\n",
    "r1 = [1,2,3,4]\n",
    "r2 = [3,6,3,4]\n",
    "r3 = [1,2,9,4]\n",
    "r4 = [1,4,5,4]\n",
    "\n",
    "A = np.array((r1,r2,r3,r4))\n",
    "print(f\" The 4x4 Matrix is : \\n {A}\")\n",
    "\n",
    "print(f\" The 1D array from above matrix using ravel: \\n {A.ravel()}\")\n"
   ]
  },
  {
   "cell_type": "markdown",
   "metadata": {},
   "source": [
    "### Example 20\n",
    "- Demonstrate the use of argmax, argmin,argsort"
   ]
  },
  {
   "cell_type": "code",
   "execution_count": 44,
   "metadata": {},
   "outputs": [
    {
     "name": "stdout",
     "output_type": "stream",
     "text": [
      "The original array: [ 1 16 31  4]\n",
      "The index of maximum value in array is: 2\n",
      "The index of minimum value in array is: 0\n",
      "Sorted Indexes: [0 3 1 2]\n"
     ]
    }
   ],
   "source": [
    "import numpy as np\n",
    "\n",
    "a = [1, 16, 31, 4]\n",
    "\n",
    "A = np.array(a)\n",
    "print(f\"The original array: {A}\")\n",
    "\n",
    "print(f\"The index of maximum value in array is: {A.argmax()}\")\n",
    "print(f\"The index of minimum value in array is: {A.argmin()}\")\n",
    "print(f\"Sorted Indexes: {A.argsort()}\")"
   ]
  },
  {
   "cell_type": "markdown",
   "metadata": {},
   "source": [
    "### Example 21\n",
    "- Demostrate the use of numpy.full(),vstack(),hstack(),column_stack()"
   ]
  },
  {
   "cell_type": "code",
   "execution_count": 3,
   "metadata": {},
   "outputs": [
    {
     "data": {
      "text/plain": [
       "array([[5, 5],\n",
       "       [5, 5]])"
      ]
     },
     "execution_count": 3,
     "metadata": {},
     "output_type": "execute_result"
    }
   ],
   "source": [
    "import numpy as np\n",
    "\n",
    "f1=np.full((2,2),5)\n",
    "f1"
   ]
  },
  {
   "cell_type": "code",
   "execution_count": 4,
   "metadata": {},
   "outputs": [
    {
     "data": {
      "text/plain": [
       "array([[3, 3],\n",
       "       [3, 3]])"
      ]
     },
     "execution_count": 4,
     "metadata": {},
     "output_type": "execute_result"
    }
   ],
   "source": [
    "f2 = np.full((2,2), 3)\n",
    "f2"
   ]
  },
  {
   "cell_type": "code",
   "execution_count": 6,
   "metadata": {},
   "outputs": [
    {
     "data": {
      "text/plain": [
       "array([[5, 5],\n",
       "       [5, 5],\n",
       "       [3, 3],\n",
       "       [3, 3]])"
      ]
     },
     "execution_count": 6,
     "metadata": {},
     "output_type": "execute_result"
    }
   ],
   "source": [
    "a = np.vstack([f1, f2])\n",
    "a"
   ]
  },
  {
   "cell_type": "code",
   "execution_count": 7,
   "metadata": {},
   "outputs": [
    {
     "data": {
      "text/plain": [
       "array([[5, 5, 3, 3],\n",
       "       [5, 5, 3, 3]])"
      ]
     },
     "execution_count": 7,
     "metadata": {},
     "output_type": "execute_result"
    }
   ],
   "source": [
    "b = np.hstack([f1, f2])\n",
    "b"
   ]
  },
  {
   "cell_type": "code",
   "execution_count": 8,
   "metadata": {},
   "outputs": [
    {
     "data": {
      "text/plain": [
       "array([[5, 5, 3, 3],\n",
       "       [5, 5, 3, 3]])"
      ]
     },
     "execution_count": 8,
     "metadata": {},
     "output_type": "execute_result"
    }
   ],
   "source": [
    "a = np.column_stack([f1, f2])\n",
    "a"
   ]
  },
  {
   "cell_type": "markdown",
   "metadata": {},
   "source": [
    "### Example 22\n",
    "- Save and load a matrix in the memory "
   ]
  },
  {
   "cell_type": "code",
   "execution_count": 9,
   "metadata": {},
   "outputs": [
    {
     "data": {
      "text/plain": [
       "array([[5, 5, 5],\n",
       "       [5, 5, 5]])"
      ]
     },
     "execution_count": 9,
     "metadata": {},
     "output_type": "execute_result"
    }
   ],
   "source": [
    "import numpy as np\n",
    "\n",
    "a = np.full((2,3), 5)\n",
    "a"
   ]
  },
  {
   "cell_type": "code",
   "execution_count": 10,
   "metadata": {},
   "outputs": [],
   "source": [
    "np.save(\"untitled.npy\", a)"
   ]
  },
  {
   "cell_type": "code",
   "execution_count": 11,
   "metadata": {},
   "outputs": [
    {
     "data": {
      "text/plain": [
       "array([[5, 5, 5],\n",
       "       [5, 5, 5]])"
      ]
     },
     "execution_count": 11,
     "metadata": {},
     "output_type": "execute_result"
    }
   ],
   "source": [
    "savedMatrix = np.load('untitled.npy')\n",
    "savedMatrix"
   ]
  },
  {
   "cell_type": "markdown",
   "metadata": {},
   "source": [
    "### Example 23\n",
    "- Demonstrate the use of numoy.dot() and compare it with simple multiplication"
   ]
  },
  {
   "cell_type": "code",
   "execution_count": 12,
   "metadata": {},
   "outputs": [
    {
     "name": "stdout",
     "output_type": "stream",
     "text": [
      "\n",
      "f1 = \n",
      " [[5 5]\n",
      " [5 5]]\n",
      "\n",
      "f2 = \n",
      " [[3 3]\n",
      " [3 3]]\n",
      "point to point multiplication =  [[15 15]\n",
      " [15 15]]\n",
      "point to point multiplication =  [[30 30]\n",
      " [30 30]]\n"
     ]
    }
   ],
   "source": [
    "import numpy as np\n",
    "\n",
    "f1=np. full((2,2),5)\n",
    "print(\"\\nf1 = \\n\",f1)\n",
    "\n",
    "f2=np.full((2,2), 3)\n",
    "print(\"\\nf2 = \\n\", f2)\n",
    "\n",
    "print(\"point to point multiplication = \",f1*f2)\n",
    "\n",
    "print(\"point to point multiplication = \", np.dot(f1,f2))"
   ]
  },
  {
   "cell_type": "markdown",
   "metadata": {},
   "source": [
    "# 02. Pandas"
   ]
  },
  {
   "cell_type": "markdown",
   "metadata": {},
   "source": [
    "### Example 01\n",
    "- ``Create a Dictionary and convert them into data frames also check its datatype``"
   ]
  },
  {
   "cell_type": "code",
   "execution_count": 14,
   "metadata": {},
   "outputs": [
    {
     "data": {
      "text/plain": [
       "{'Name': ['Aqsa',\n",
       "  'Esha',\n",
       "  'Ayesha',\n",
       "  'Ayra',\n",
       "  'Arfa',\n",
       "  'Afsa',\n",
       "  'Abdul',\n",
       "  'Saadia',\n",
       "  'Abu Bakar',\n",
       "  'Atif'],\n",
       " 'ID': ['SID-1',\n",
       "  'SID-2',\n",
       "  'SID-3',\n",
       "  'SID-4',\n",
       "  'SID-5',\n",
       "  'SID-6',\n",
       "  'SID-7',\n",
       "  'SID-8',\n",
       "  'SID-9',\n",
       "  'SID-10'],\n",
       " 'Rol1_no': [1, 2, 3, 4, 5, 6, 7, 8, 9, 10],\n",
       " 'Semester': [7, 7, 7, 7, 6, 6, 6, 5, 8, 8]}"
      ]
     },
     "execution_count": 14,
     "metadata": {},
     "output_type": "execute_result"
    }
   ],
   "source": [
    "#create a dictionary\n",
    "\n",
    "StuDict={\"Name\": [\"Aqsa\",\"Esha\", \"Ayesha\", \"Ayra\", \"Arfa\", \"Afsa\", \"Abdul\", \"Saadia\", \"Abu Bakar\",\"Atif\"],\n",
    "\"ID\": [\"SID-1\",\"SID-2\", \"SID-3\", \"SID-4\", \"SID-5\",\"SID-6\", \"SID-7\", \"SID-8\", \"SID-9\",\"SID-10\"],\n",
    "\"Rol1_no\": [1,2,3,4,5,6,7,8,9,10],\n",
    "\"Semester\" : [7,7,7,7,6,6,6,5,8,8]}\n",
    "\n",
    "StuDict"
   ]
  },
  {
   "cell_type": "code",
   "execution_count": 16,
   "metadata": {},
   "outputs": [
    {
     "name": "stdout",
     "output_type": "stream",
     "text": [
      "        Name      ID  Rol1_no  Semester\n",
      "0       Aqsa   SID-1        1         7\n",
      "1       Esha   SID-2        2         7\n",
      "2     Ayesha   SID-3        3         7\n",
      "3       Ayra   SID-4        4         7\n",
      "4       Arfa   SID-5        5         6\n",
      "5       Afsa   SID-6        6         6\n",
      "6      Abdul   SID-7        7         6\n",
      "7     Saadia   SID-8        8         5\n",
      "8  Abu Bakar   SID-9        9         8\n",
      "9       Atif  SID-10       10         8\n",
      "\n",
      "\n",
      "The data type of above given syntax is : <class 'pandas.core.frame.DataFrame'>\n"
     ]
    }
   ],
   "source": [
    "#convert into data frames\n",
    "\n",
    "import pandas as pd\n",
    "\n",
    "data=pd.DataFrame (StuDict)\n",
    "\n",
    "print(data)\n",
    "\n",
    "print(\"\\n\\nThe data type of above given syntax is :\",type (data))\n"
   ]
  },
  {
   "cell_type": "markdown",
   "metadata": {},
   "source": [
    "### Example 02\n",
    "- `Demonstrate the use of describe function for a data frame`"
   ]
  },
  {
   "cell_type": "code",
   "execution_count": 21,
   "metadata": {},
   "outputs": [
    {
     "name": "stdout",
     "output_type": "stream",
     "text": [
      "        Rol1_no   Semester\n",
      "count  10.00000  10.000000\n",
      "mean    5.50000   6.700000\n",
      "std     3.02765   0.948683\n",
      "min     1.00000   5.000000\n",
      "25%     3.25000   6.000000\n",
      "50%     5.50000   7.000000\n",
      "75%     7.75000   7.000000\n",
      "max    10.00000   8.000000\n"
     ]
    }
   ],
   "source": [
    "print(data.describe())"
   ]
  },
  {
   "cell_type": "markdown",
   "metadata": {},
   "source": [
    "### Example 03\n",
    "- `Demonstrate the use of head function for a data frame`"
   ]
  },
  {
   "cell_type": "code",
   "execution_count": 22,
   "metadata": {},
   "outputs": [
    {
     "name": "stdout",
     "output_type": "stream",
     "text": [
      "     Name     ID  Rol1_no  Semester\n",
      "0    Aqsa  SID-1        1         7\n",
      "1    Esha  SID-2        2         7\n",
      "2  Ayesha  SID-3        3         7\n",
      "3    Ayra  SID-4        4         7\n",
      "4    Arfa  SID-5        5         6\n"
     ]
    }
   ],
   "source": [
    "print(data.head())"
   ]
  },
  {
   "cell_type": "markdown",
   "metadata": {},
   "source": [
    "### Example 04\n",
    "- `Demonstrate the use of tail function for a data frame`"
   ]
  },
  {
   "cell_type": "code",
   "execution_count": 23,
   "metadata": {},
   "outputs": [
    {
     "name": "stdout",
     "output_type": "stream",
     "text": [
      "        Name      ID  Rol1_no  Semester\n",
      "5       Afsa   SID-6        6         6\n",
      "6      Abdul   SID-7        7         6\n",
      "7     Saadia   SID-8        8         5\n",
      "8  Abu Bakar   SID-9        9         8\n",
      "9       Atif  SID-10       10         8\n"
     ]
    }
   ],
   "source": [
    "print(data.tail())"
   ]
  },
  {
   "cell_type": "markdown",
   "metadata": {},
   "source": [
    "### Example 05\n",
    "- `Demonstrate the use of info function for a data frame`"
   ]
  },
  {
   "cell_type": "code",
   "execution_count": 24,
   "metadata": {},
   "outputs": [
    {
     "name": "stdout",
     "output_type": "stream",
     "text": [
      "<class 'pandas.core.frame.DataFrame'>\n",
      "RangeIndex: 10 entries, 0 to 9\n",
      "Data columns (total 4 columns):\n",
      " #   Column    Non-Null Count  Dtype \n",
      "---  ------    --------------  ----- \n",
      " 0   Name      10 non-null     object\n",
      " 1   ID        10 non-null     object\n",
      " 2   Rol1_no   10 non-null     int64 \n",
      " 3   Semester  10 non-null     int64 \n",
      "dtypes: int64(2), object(2)\n",
      "memory usage: 448.0+ bytes\n",
      "None\n"
     ]
    }
   ],
   "source": [
    "print(data.info())"
   ]
  },
  {
   "cell_type": "markdown",
   "metadata": {},
   "source": [
    "### Example 06\n",
    "- `Convert the data frame in a variable to CSV file`"
   ]
  },
  {
   "cell_type": "code",
   "execution_count": 25,
   "metadata": {},
   "outputs": [],
   "source": [
    "data.to_csv('student.csv')"
   ]
  },
  {
   "cell_type": "markdown",
   "metadata": {},
   "source": [
    "### Example 07\n",
    "- `Remove the indexes from the csv file`"
   ]
  },
  {
   "cell_type": "code",
   "execution_count": 27,
   "metadata": {},
   "outputs": [],
   "source": [
    "data.to_csv('Without_index.csv', index=False)"
   ]
  },
  {
   "cell_type": "markdown",
   "metadata": {},
   "source": [
    "### Example 08\n",
    "- `Read from csv file`"
   ]
  },
  {
   "cell_type": "code",
   "execution_count": 28,
   "metadata": {},
   "outputs": [
    {
     "data": {
      "text/html": [
       "<div>\n",
       "<style scoped>\n",
       "    .dataframe tbody tr th:only-of-type {\n",
       "        vertical-align: middle;\n",
       "    }\n",
       "\n",
       "    .dataframe tbody tr th {\n",
       "        vertical-align: top;\n",
       "    }\n",
       "\n",
       "    .dataframe thead th {\n",
       "        text-align: right;\n",
       "    }\n",
       "</style>\n",
       "<table border=\"1\" class=\"dataframe\">\n",
       "  <thead>\n",
       "    <tr style=\"text-align: right;\">\n",
       "      <th></th>\n",
       "      <th>Unnamed: 0</th>\n",
       "      <th>Name</th>\n",
       "      <th>ID</th>\n",
       "      <th>Rol1_no</th>\n",
       "      <th>Semester</th>\n",
       "    </tr>\n",
       "  </thead>\n",
       "  <tbody>\n",
       "    <tr>\n",
       "      <th>0</th>\n",
       "      <td>0</td>\n",
       "      <td>Aqsa</td>\n",
       "      <td>SID-1</td>\n",
       "      <td>1</td>\n",
       "      <td>7</td>\n",
       "    </tr>\n",
       "    <tr>\n",
       "      <th>1</th>\n",
       "      <td>1</td>\n",
       "      <td>Esha</td>\n",
       "      <td>SID-2</td>\n",
       "      <td>2</td>\n",
       "      <td>7</td>\n",
       "    </tr>\n",
       "    <tr>\n",
       "      <th>2</th>\n",
       "      <td>2</td>\n",
       "      <td>Ayesha</td>\n",
       "      <td>SID-3</td>\n",
       "      <td>3</td>\n",
       "      <td>7</td>\n",
       "    </tr>\n",
       "    <tr>\n",
       "      <th>3</th>\n",
       "      <td>3</td>\n",
       "      <td>Ayra</td>\n",
       "      <td>SID-4</td>\n",
       "      <td>4</td>\n",
       "      <td>7</td>\n",
       "    </tr>\n",
       "    <tr>\n",
       "      <th>4</th>\n",
       "      <td>4</td>\n",
       "      <td>Arfa</td>\n",
       "      <td>SID-5</td>\n",
       "      <td>5</td>\n",
       "      <td>6</td>\n",
       "    </tr>\n",
       "    <tr>\n",
       "      <th>5</th>\n",
       "      <td>5</td>\n",
       "      <td>Afsa</td>\n",
       "      <td>SID-6</td>\n",
       "      <td>6</td>\n",
       "      <td>6</td>\n",
       "    </tr>\n",
       "    <tr>\n",
       "      <th>6</th>\n",
       "      <td>6</td>\n",
       "      <td>Abdul</td>\n",
       "      <td>SID-7</td>\n",
       "      <td>7</td>\n",
       "      <td>6</td>\n",
       "    </tr>\n",
       "    <tr>\n",
       "      <th>7</th>\n",
       "      <td>7</td>\n",
       "      <td>Saadia</td>\n",
       "      <td>SID-8</td>\n",
       "      <td>8</td>\n",
       "      <td>5</td>\n",
       "    </tr>\n",
       "    <tr>\n",
       "      <th>8</th>\n",
       "      <td>8</td>\n",
       "      <td>Abu Bakar</td>\n",
       "      <td>SID-9</td>\n",
       "      <td>9</td>\n",
       "      <td>8</td>\n",
       "    </tr>\n",
       "    <tr>\n",
       "      <th>9</th>\n",
       "      <td>9</td>\n",
       "      <td>Atif</td>\n",
       "      <td>SID-10</td>\n",
       "      <td>10</td>\n",
       "      <td>8</td>\n",
       "    </tr>\n",
       "  </tbody>\n",
       "</table>\n",
       "</div>"
      ],
      "text/plain": [
       "   Unnamed: 0       Name      ID  Rol1_no  Semester\n",
       "0           0       Aqsa   SID-1        1         7\n",
       "1           1       Esha   SID-2        2         7\n",
       "2           2     Ayesha   SID-3        3         7\n",
       "3           3       Ayra   SID-4        4         7\n",
       "4           4       Arfa   SID-5        5         6\n",
       "5           5       Afsa   SID-6        6         6\n",
       "6           6      Abdul   SID-7        7         6\n",
       "7           7     Saadia   SID-8        8         5\n",
       "8           8  Abu Bakar   SID-9        9         8\n",
       "9           9       Atif  SID-10       10         8"
      ]
     },
     "execution_count": 28,
     "metadata": {},
     "output_type": "execute_result"
    }
   ],
   "source": [
    "df = pd.read_csv('student.csv')\n",
    "df"
   ]
  },
  {
   "cell_type": "markdown",
   "metadata": {},
   "source": [
    "### Example 09\n",
    "- `Use describe,head,tail and info function for CSV file`"
   ]
  },
  {
   "cell_type": "code",
   "execution_count": 1,
   "metadata": {},
   "outputs": [
    {
     "name": "stdout",
     "output_type": "stream",
     "text": [
      "Describe Function \n",
      "        Unnamed: 0   Rol1_no   Semester\n",
      "count    10.00000  10.00000  10.000000\n",
      "mean      4.50000   5.50000   6.700000\n",
      "std       3.02765   3.02765   0.948683\n",
      "min       0.00000   1.00000   5.000000\n",
      "25%       2.25000   3.25000   6.000000\n",
      "50%       4.50000   5.50000   7.000000\n",
      "75%       6.75000   7.75000   7.000000\n",
      "max       9.00000  10.00000   8.000000, \n",
      " head Function \n",
      "    Unnamed: 0    Name     ID  Rol1_no  Semester\n",
      "0           0    Aqsa  SID-1        1         7\n",
      "1           1    Esha  SID-2        2         7\n",
      "2           2  Ayesha  SID-3        3         7\n",
      "3           3    Ayra  SID-4        4         7\n",
      "4           4    Arfa  SID-5        5         6 \n",
      " tail Function \n",
      "    Unnamed: 0       Name      ID  Rol1_no  Semester\n",
      "5           5       Afsa   SID-6        6         6\n",
      "6           6      Abdul   SID-7        7         6\n",
      "7           7     Saadia   SID-8        8         5\n",
      "8           8  Abu Bakar   SID-9        9         8\n",
      "9           9       Atif  SID-10       10         8\n",
      "<class 'pandas.core.frame.DataFrame'>\n",
      "RangeIndex: 10 entries, 0 to 9\n",
      "Data columns (total 5 columns):\n",
      " #   Column      Non-Null Count  Dtype \n",
      "---  ------      --------------  ----- \n",
      " 0   Unnamed: 0  10 non-null     int64 \n",
      " 1   Name        10 non-null     object\n",
      " 2   ID          10 non-null     object\n",
      " 3   Rol1_no     10 non-null     int64 \n",
      " 4   Semester    10 non-null     int64 \n",
      "dtypes: int64(3), object(2)\n",
      "memory usage: 528.0+ bytes\n",
      "\n",
      " info Function \n",
      " None\n"
     ]
    }
   ],
   "source": [
    "import pandas as pd\n",
    "df = pd.read_csv('student.csv')\n",
    "\n",
    "print(f\"Describe Function \\n {df.describe()}, \\n head Function \\n {df.head()} \\n tail Function \\n {df.tail()}\")\n",
    "print(f\"\\n info Function \\n {df.info()}\")"
   ]
  },
  {
   "cell_type": "markdown",
   "metadata": {},
   "source": [
    "### Example 10\n",
    "- `Access a column by its name`"
   ]
  },
  {
   "cell_type": "code",
   "execution_count": 2,
   "metadata": {},
   "outputs": [
    {
     "data": {
      "text/plain": [
       "0         Aqsa\n",
       "1         Esha\n",
       "2       Ayesha\n",
       "3         Ayra\n",
       "4         Arfa\n",
       "5         Afsa\n",
       "6        Abdul\n",
       "7       Saadia\n",
       "8    Abu Bakar\n",
       "9         Atif\n",
       "Name: Name, dtype: object"
      ]
     },
     "execution_count": 2,
     "metadata": {},
     "output_type": "execute_result"
    }
   ],
   "source": [
    "import pandas as pd\n",
    "\n",
    "df['Name']"
   ]
  },
  {
   "cell_type": "markdown",
   "metadata": {},
   "source": [
    "### Example 11\n",
    "- `Access the 1st element of a column`"
   ]
  },
  {
   "cell_type": "code",
   "execution_count": 3,
   "metadata": {},
   "outputs": [
    {
     "data": {
      "text/plain": [
       "'Aqsa'"
      ]
     },
     "execution_count": 3,
     "metadata": {},
     "output_type": "execute_result"
    }
   ],
   "source": [
    "\n",
    "df['Name'][0]"
   ]
  },
  {
   "cell_type": "markdown",
   "metadata": {},
   "source": [
    "### Example 12\n",
    "- `Update the value in the column`"
   ]
  },
  {
   "cell_type": "code",
   "execution_count": 4,
   "metadata": {},
   "outputs": [
    {
     "name": "stderr",
     "output_type": "stream",
     "text": [
      "C:\\Users\\hp\\AppData\\Local\\Temp\\ipykernel_17156\\2832195598.py:1: SettingWithCopyWarning: \n",
      "A value is trying to be set on a copy of a slice from a DataFrame\n",
      "\n",
      "See the caveats in the documentation: https://pandas.pydata.org/pandas-docs/stable/user_guide/indexing.html#returning-a-view-versus-a-copy\n",
      "  df['Name'][0] = 'Saddam'\n"
     ]
    },
    {
     "data": {
      "text/html": [
       "<div>\n",
       "<style scoped>\n",
       "    .dataframe tbody tr th:only-of-type {\n",
       "        vertical-align: middle;\n",
       "    }\n",
       "\n",
       "    .dataframe tbody tr th {\n",
       "        vertical-align: top;\n",
       "    }\n",
       "\n",
       "    .dataframe thead th {\n",
       "        text-align: right;\n",
       "    }\n",
       "</style>\n",
       "<table border=\"1\" class=\"dataframe\">\n",
       "  <thead>\n",
       "    <tr style=\"text-align: right;\">\n",
       "      <th></th>\n",
       "      <th>Unnamed: 0</th>\n",
       "      <th>Name</th>\n",
       "      <th>ID</th>\n",
       "      <th>Rol1_no</th>\n",
       "      <th>Semester</th>\n",
       "    </tr>\n",
       "  </thead>\n",
       "  <tbody>\n",
       "    <tr>\n",
       "      <th>0</th>\n",
       "      <td>0</td>\n",
       "      <td>Saddam</td>\n",
       "      <td>SID-1</td>\n",
       "      <td>1</td>\n",
       "      <td>7</td>\n",
       "    </tr>\n",
       "    <tr>\n",
       "      <th>1</th>\n",
       "      <td>1</td>\n",
       "      <td>Esha</td>\n",
       "      <td>SID-2</td>\n",
       "      <td>2</td>\n",
       "      <td>7</td>\n",
       "    </tr>\n",
       "    <tr>\n",
       "      <th>2</th>\n",
       "      <td>2</td>\n",
       "      <td>Ayesha</td>\n",
       "      <td>SID-3</td>\n",
       "      <td>3</td>\n",
       "      <td>7</td>\n",
       "    </tr>\n",
       "    <tr>\n",
       "      <th>3</th>\n",
       "      <td>3</td>\n",
       "      <td>Ayra</td>\n",
       "      <td>SID-4</td>\n",
       "      <td>4</td>\n",
       "      <td>7</td>\n",
       "    </tr>\n",
       "    <tr>\n",
       "      <th>4</th>\n",
       "      <td>4</td>\n",
       "      <td>Arfa</td>\n",
       "      <td>SID-5</td>\n",
       "      <td>5</td>\n",
       "      <td>6</td>\n",
       "    </tr>\n",
       "    <tr>\n",
       "      <th>5</th>\n",
       "      <td>5</td>\n",
       "      <td>Afsa</td>\n",
       "      <td>SID-6</td>\n",
       "      <td>6</td>\n",
       "      <td>6</td>\n",
       "    </tr>\n",
       "    <tr>\n",
       "      <th>6</th>\n",
       "      <td>6</td>\n",
       "      <td>Abdul</td>\n",
       "      <td>SID-7</td>\n",
       "      <td>7</td>\n",
       "      <td>6</td>\n",
       "    </tr>\n",
       "    <tr>\n",
       "      <th>7</th>\n",
       "      <td>7</td>\n",
       "      <td>Saadia</td>\n",
       "      <td>SID-8</td>\n",
       "      <td>8</td>\n",
       "      <td>5</td>\n",
       "    </tr>\n",
       "    <tr>\n",
       "      <th>8</th>\n",
       "      <td>8</td>\n",
       "      <td>Abu Bakar</td>\n",
       "      <td>SID-9</td>\n",
       "      <td>9</td>\n",
       "      <td>8</td>\n",
       "    </tr>\n",
       "    <tr>\n",
       "      <th>9</th>\n",
       "      <td>9</td>\n",
       "      <td>Atif</td>\n",
       "      <td>SID-10</td>\n",
       "      <td>10</td>\n",
       "      <td>8</td>\n",
       "    </tr>\n",
       "  </tbody>\n",
       "</table>\n",
       "</div>"
      ],
      "text/plain": [
       "   Unnamed: 0       Name      ID  Rol1_no  Semester\n",
       "0           0     Saddam   SID-1        1         7\n",
       "1           1       Esha   SID-2        2         7\n",
       "2           2     Ayesha   SID-3        3         7\n",
       "3           3       Ayra   SID-4        4         7\n",
       "4           4       Arfa   SID-5        5         6\n",
       "5           5       Afsa   SID-6        6         6\n",
       "6           6      Abdul   SID-7        7         6\n",
       "7           7     Saadia   SID-8        8         5\n",
       "8           8  Abu Bakar   SID-9        9         8\n",
       "9           9       Atif  SID-10       10         8"
      ]
     },
     "execution_count": 4,
     "metadata": {},
     "output_type": "execute_result"
    }
   ],
   "source": [
    "df['Name'][0] = 'Saddam'\n",
    "df"
   ]
  },
  {
   "cell_type": "markdown",
   "metadata": {},
   "source": [
    "### Example 13\n",
    "- `Find the columns and indexes in a data frame`"
   ]
  },
  {
   "cell_type": "code",
   "execution_count": 5,
   "metadata": {},
   "outputs": [
    {
     "data": {
      "text/plain": [
       "Index(['Unnamed: 0', 'Name', 'ID', 'Rol1_no', 'Semester'], dtype='object')"
      ]
     },
     "execution_count": 5,
     "metadata": {},
     "output_type": "execute_result"
    }
   ],
   "source": [
    "df.columns"
   ]
  },
  {
   "cell_type": "code",
   "execution_count": 6,
   "metadata": {},
   "outputs": [
    {
     "data": {
      "text/plain": [
       "RangeIndex(start=0, stop=10, step=1)"
      ]
     },
     "execution_count": 6,
     "metadata": {},
     "output_type": "execute_result"
    }
   ],
   "source": [
    "df.index"
   ]
  },
  {
   "cell_type": "markdown",
   "metadata": {},
   "source": [
    "# 03. Matplotlib"
   ]
  },
  {
   "cell_type": "markdown",
   "metadata": {},
   "source": []
  }
 ],
 "metadata": {
  "kernelspec": {
   "display_name": "Python 3",
   "language": "python",
   "name": "python3"
  },
  "language_info": {
   "codemirror_mode": {
    "name": "ipython",
    "version": 3
   },
   "file_extension": ".py",
   "mimetype": "text/x-python",
   "name": "python",
   "nbconvert_exporter": "python",
   "pygments_lexer": "ipython3",
   "version": "3.9.1"
  },
  "orig_nbformat": 4
 },
 "nbformat": 4,
 "nbformat_minor": 2
}
