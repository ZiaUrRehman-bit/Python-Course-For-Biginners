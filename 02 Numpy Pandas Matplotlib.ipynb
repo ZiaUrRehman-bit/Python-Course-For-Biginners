{
 "cells": [
  {
   "cell_type": "markdown",
   "metadata": {},
   "source": [
    "# <Center>02</center>\n",
    "## <Center>(Numpy, Pandas, Matplotlib)</center>"
   ]
  },
  {
   "cell_type": "markdown",
   "metadata": {},
   "source": [
    "# 01. Numpy"
   ]
  },
  {
   "cell_type": "markdown",
   "metadata": {},
   "source": [
    "### Introduction to NUMPY\n",
    "### What is NumPy?\n",
    "- NumPy is a Python library used for working with arrays.\n",
    "- It also has functions for working in domain of linear algebra, fourier transform, and matrices.\n",
    "- NumPy was created in 2005 by Travis Oliphant. It is an open source project and you can use it freely.\n",
    "- NumPy stands for Numerical Python.\n",
    "\n",
    "### Why Use NumPy?\n",
    "- In Python we have lists that serve the purpose of arrays, but they are slow to process.\n",
    "- NumPy aims to provide an array object that is up to 50x faster than traditional Python lists.\n",
    "- The array object in NumPy is called ndarray, it provides a lot of supporting functions that make working with ndarray very easy.\n",
    "- Arrays are very frequently used in data science, where speed and resources are very important.\n",
    "\n",
    "### Why is NumPy Faster Than Lists?\n",
    "\n",
    "- NumPy arrays are stored at one continuous place in memory unlike lists, so processes can access and manipulate them very efficiently.\n",
    "- This behavior is called locality of reference in computer science.\n",
    "- This is the main reason why NumPy is faster than lists. Also it is optimized to work with latest CPU architectures.\n",
    "\n"
   ]
  },
  {
   "cell_type": "markdown",
   "metadata": {},
   "source": [
    "### Example 01\n",
    "- Take 2 lists and multiply both you’ll see that error occurs repeat the process but by  coverting them toarray by numpy.array()"
   ]
  },
  {
   "cell_type": "code",
   "execution_count": 1,
   "metadata": {},
   "outputs": [
    {
     "ename": "TypeError",
     "evalue": "can't multiply sequence by non-int of type 'list'",
     "output_type": "error",
     "traceback": [
      "\u001b[1;31m---------------------------------------------------------------------------\u001b[0m",
      "\u001b[1;31mTypeError\u001b[0m                                 Traceback (most recent call last)",
      "\u001b[1;32mc:\\Users\\hp\\Google Drive\\Fiverr Work\\2022\\47. Python Course\\02 Numpy Pandas Matplotlib.ipynb Cell 4\u001b[0m line \u001b[0;36m4\n\u001b[0;32m      <a href='vscode-notebook-cell:/c%3A/Users/hp/Google%20Drive/Fiverr%20Work/2022/47.%20Python%20Course/02%20Numpy%20Pandas%20Matplotlib.ipynb#W1sZmlsZQ%3D%3D?line=0'>1</a>\u001b[0m l1 \u001b[39m=\u001b[39m [\u001b[39m1\u001b[39m,\u001b[39m2\u001b[39m,\u001b[39m3\u001b[39m]\n\u001b[0;32m      <a href='vscode-notebook-cell:/c%3A/Users/hp/Google%20Drive/Fiverr%20Work/2022/47.%20Python%20Course/02%20Numpy%20Pandas%20Matplotlib.ipynb#W1sZmlsZQ%3D%3D?line=1'>2</a>\u001b[0m l2 \u001b[39m=\u001b[39m [\u001b[39m4\u001b[39m,\u001b[39m5\u001b[39m,\u001b[39m6\u001b[39m]\n\u001b[1;32m----> <a href='vscode-notebook-cell:/c%3A/Users/hp/Google%20Drive/Fiverr%20Work/2022/47.%20Python%20Course/02%20Numpy%20Pandas%20Matplotlib.ipynb#W1sZmlsZQ%3D%3D?line=3'>4</a>\u001b[0m l1\u001b[39m*\u001b[39;49ml2\n",
      "\u001b[1;31mTypeError\u001b[0m: can't multiply sequence by non-int of type 'list'"
     ]
    }
   ],
   "source": [
    "l1 = [1,2,3]\n",
    "l2 = [4,5,6]\n",
    "\n",
    "l1*l2"
   ]
  },
  {
   "cell_type": "markdown",
   "metadata": {},
   "source": [
    "- Now, by using numpy"
   ]
  },
  {
   "cell_type": "code",
   "execution_count": 4,
   "metadata": {},
   "outputs": [
    {
     "name": "stdout",
     "output_type": "stream",
     "text": [
      "[1 2 3] * [4 5 6] = [ 4 10 18]\n"
     ]
    }
   ],
   "source": [
    "import numpy as np\n",
    "\n",
    "l1 = [1,2,3]\n",
    "l2 = [4,5,6]\n",
    "\n",
    "A1 = np.array(l1)\n",
    "A2 = np.array(l2)\n",
    "\n",
    "print(f\"{A1} * {A2} = {A1*A2}\")"
   ]
  },
  {
   "cell_type": "markdown",
   "metadata": {},
   "source": [
    "### Example 02\n",
    "\n",
    "- Demonstrate the use of numpy.dtype and numpy.shape() functions"
   ]
  },
  {
   "cell_type": "code",
   "execution_count": 5,
   "metadata": {},
   "outputs": [
    {
     "name": "stdout",
     "output_type": "stream",
     "text": [
      "[1 2 3] * [4 5 6] = [ 4 10 18]\n",
      "The type of array using type: <class 'numpy.ndarray'>\n",
      "The type of array using dtype: int32\n",
      "The dimension of an array: (3,)\n"
     ]
    }
   ],
   "source": [
    "import numpy as np\n",
    "\n",
    "l1 = [1,2,3]\n",
    "l2 = [4,5,6]\n",
    "\n",
    "A1 = np.array(l1)\n",
    "A2 = np.array(l2)\n",
    "\n",
    "A = A1*A2\n",
    "\n",
    "print(f\"{A1} * {A2} = {A}\")\n",
    "\n",
    "print(f\"The type of array using type: {type(A)}\")\n",
    "print(f\"The type of array using dtype: {A.dtype}\") # no () with dtype because it is an attribute of A not a function\n",
    "\n",
    "print(f\"The dimension of an array: {A.shape}\")"
   ]
  },
  {
   "cell_type": "markdown",
   "metadata": {},
   "source": [
    "### Example 03\n",
    "\n",
    "- The size of an array created with numpy.array() is int32 convert it to int 8"
   ]
  },
  {
   "cell_type": "code",
   "execution_count": 6,
   "metadata": {},
   "outputs": [
    {
     "name": "stdout",
     "output_type": "stream",
     "text": [
      "[1 2 3] * [4 5 6] = [ 4 10 18]\n",
      "The type of array using type: <class 'numpy.ndarray'>\n",
      "The type of array using dtype: int8\n",
      "The dimension of an array: (3,)\n"
     ]
    }
   ],
   "source": [
    "import numpy as np\n",
    "\n",
    "l1 = [1,2,3]\n",
    "l2 = [4,5,6]\n",
    "\n",
    "A1 = np.array(l1, np.int8)\n",
    "A2 = np.array(l2, np.int8)\n",
    "\n",
    "A = A1*A2\n",
    "\n",
    "print(f\"{A1} * {A2} = {A}\")\n",
    "\n",
    "print(f\"The type of array using type: {type(A)}\")\n",
    "print(f\"The type of array using dtype: {A.dtype}\") # no () with dtype because it is an attribute of A not a function\n",
    "\n",
    "print(f\"The dimension of an array: {A.shape}\")"
   ]
  },
  {
   "cell_type": "markdown",
   "metadata": {},
   "source": [
    "### Example 04\n",
    "\n",
    "- Demonstrate the use of numpy.size() functions"
   ]
  },
  {
   "cell_type": "code",
   "execution_count": 8,
   "metadata": {},
   "outputs": [
    {
     "name": "stdout",
     "output_type": "stream",
     "text": [
      "[1 2 3] * [4 5 6] = [ 4 10 18]\n",
      "The type of array using type: <class 'numpy.ndarray'>\n",
      "The type of array using dtype: int8\n",
      "The dimension of an array: (3,)\n",
      "The size of an array: 3\n"
     ]
    }
   ],
   "source": [
    "import numpy as np\n",
    "\n",
    "l1 = [1,2,3]\n",
    "l2 = [4,5,6]\n",
    "\n",
    "A1 = np.array(l1, np.int8)\n",
    "A2 = np.array(l2, np.int8)\n",
    "\n",
    "A = A1*A2\n",
    "\n",
    "print(f\"{A1} * {A2} = {A}\")\n",
    "\n",
    "print(f\"The type of array using type: {type(A)}\")\n",
    "print(f\"The type of array using dtype: {A.dtype}\") # no () with dtype because it is an attribute of A not a function\n",
    "\n",
    "print(f\"The dimension of an array: {A.shape}\")\n",
    "\n",
    "print(f\"The size of an array: {A.size}\") # The size attrubute counts the total element in the array\n"
   ]
  },
  {
   "cell_type": "markdown",
   "metadata": {},
   "source": [
    "### Example 05\n",
    "\n",
    "- Create a 2D array using numpy.array()"
   ]
  },
  {
   "cell_type": "code",
   "execution_count": 13,
   "metadata": {},
   "outputs": [
    {
     "name": "stdout",
     "output_type": "stream",
     "text": [
      " The 2D array is : \n",
      " [[1 2 3]\n",
      " [4 5 6]]\n",
      "The type of array using type: <class 'numpy.ndarray'>\n",
      "The type of array using dtype: int32\n",
      "The dimension of an array: (2, 3)\n",
      "The size of an array: 6\n"
     ]
    }
   ],
   "source": [
    "import numpy as np\n",
    "\n",
    "l1 = [1,2,3]\n",
    "l2 = [4,5,6]\n",
    "\n",
    "A = np.array((l1, l2))\n",
    "print(f\" The 2D array is : \\n {A}\")\n",
    "\n",
    "print(f\"The type of array using type: {type(A)}\")\n",
    "print(f\"The type of array using dtype: {A.dtype}\") # no () with dtype because it is an attribute of A not a function\n",
    "\n",
    "print(f\"The dimension of an array: {A.shape}\")\n",
    "\n",
    "print(f\"The size of an array: {A.size}\") # The size attrubute counts the total element in the array\n"
   ]
  },
  {
   "cell_type": "markdown",
   "metadata": {},
   "source": [
    "### Example 06\n",
    "- Create a 1 D array by passing a list"
   ]
  },
  {
   "cell_type": "code",
   "execution_count": 15,
   "metadata": {},
   "outputs": [
    {
     "name": "stdout",
     "output_type": "stream",
     "text": [
      " The 1D array is : \n",
      " [1 2 3 4 5]\n",
      "The type of array using type: <class 'numpy.ndarray'>\n",
      "The type of array using dtype: int32\n",
      "The dimension of an array: (5,)\n",
      "The size of an array: 5\n"
     ]
    }
   ],
   "source": [
    "A = np.array(([1,2,3,4,5]))\n",
    "print(f\" The 1D array is : \\n {A}\")\n",
    "\n",
    "print(f\"The type of array using type: {type(A)}\")\n",
    "print(f\"The type of array using dtype: {A.dtype}\") # no () with dtype because it is an attribute of A not a function\n",
    "\n",
    "print(f\"The dimension of an array: {A.shape}\")\n",
    "\n",
    "print(f\"The size of an array: {A.size}\") # The size attrubute counts the total element in the array\n"
   ]
  },
  {
   "cell_type": "markdown",
   "metadata": {},
   "source": [
    "### Example 07\n",
    "- Create a 2 D array by passing lists"
   ]
  },
  {
   "cell_type": "code",
   "execution_count": 18,
   "metadata": {},
   "outputs": [
    {
     "name": "stdout",
     "output_type": "stream",
     "text": [
      " The 2D array is : \n",
      " [[1 2 3 4 5]\n",
      " [2 3 4 5 6]]\n",
      "The type of array using type: <class 'numpy.ndarray'>\n",
      "The type of array using dtype: int32\n",
      "The dimension of an array: (2, 5)\n",
      "The size of an array: 10\n"
     ]
    }
   ],
   "source": [
    "import numpy as np\n",
    "\n",
    "A = np.array(([1,2,3,4,5], [2,3,4,5,6]))\n",
    "print(f\" The 2D array is : \\n {A}\")\n",
    "\n",
    "print(f\"The type of array using type: {type(A)}\")\n",
    "print(f\"The type of array using dtype: {A.dtype}\") # no () with dtype because it is an attribute of A not a function\n",
    "\n",
    "print(f\"The dimension of an array: {A.shape}\")\n",
    "\n",
    "print(f\"The size of an array: {A.size}\") # The size attrubute counts the total element in the array\n"
   ]
  },
  {
   "cell_type": "markdown",
   "metadata": {},
   "source": [
    "### Example 08\n",
    "- Create 4 x 4 Matrix"
   ]
  },
  {
   "cell_type": "code",
   "execution_count": 21,
   "metadata": {},
   "outputs": [
    {
     "name": "stdout",
     "output_type": "stream",
     "text": [
      " The array is : \n",
      " [[1 2 3 4]\n",
      " [3 6 3 4]\n",
      " [1 2 9 4]\n",
      " [1 4 5 4]]\n",
      "The type of array using type: <class 'numpy.ndarray'>\n",
      "The type of array using dtype: int32\n",
      "The dimension of an array: (4, 4)\n",
      "The size of an array: 16\n"
     ]
    }
   ],
   "source": [
    "import numpy as np\n",
    "\n",
    "r1 = [1,2,3,4]\n",
    "r2 = [3,6,3,4]\n",
    "r3 = [1,2,9,4]\n",
    "r4 = [1,4,5,4]\n",
    "\n",
    "A = np.array((r1,r2,r3,r4))\n",
    "print(f\" The array is : \\n {A}\")\n",
    "\n",
    "print(f\"The type of array using type: {type(A)}\")\n",
    "print(f\"The type of array using dtype: {A.dtype}\") # no () with dtype because it is an attribute of A not a function\n",
    "\n",
    "print(f\"The dimension of an array: {A.shape}\")\n",
    "\n",
    "print(f\"The size of an array: {A.size}\") # The size attrubute counts the total element in the array\n"
   ]
  },
  {
   "cell_type": "markdown",
   "metadata": {},
   "source": [
    "### Example 09\n",
    "- Replace 2nd row 3rd element of above 4x4 matrix with 10"
   ]
  },
  {
   "cell_type": "code",
   "execution_count": 23,
   "metadata": {},
   "outputs": [
    {
     "name": "stdout",
     "output_type": "stream",
     "text": [
      " The original array is : \n",
      " [[1 2 3 4]\n",
      " [3 6 3 4]\n",
      " [1 2 9 4]\n",
      " [1 4 5 4]]\n",
      " The array after replacing : \n",
      " [[ 1  2  3  4]\n",
      " [ 3  6 10  4]\n",
      " [ 1  2  9  4]\n",
      " [ 1  4  5  4]]\n"
     ]
    }
   ],
   "source": [
    "import numpy as np\n",
    "\n",
    "r1 = [1,2,3,4]\n",
    "r2 = [3,6,3,4]\n",
    "r3 = [1,2,9,4]\n",
    "r4 = [1,4,5,4]\n",
    "\n",
    "A = np.array((r1,r2,r3,r4))\n",
    "print(f\" The original array is : \\n {A}\")\n",
    "\n",
    "A[1,2] = 10\n",
    "print(f\" The array after replacing : \\n {A}\")\n",
    "\n"
   ]
  },
  {
   "cell_type": "markdown",
   "metadata": {},
   "source": [
    "### Example 10\n",
    "- Create a 5 x 5 matrix of all zeros by setting values of both rows and column"
   ]
  },
  {
   "cell_type": "code",
   "execution_count": 24,
   "metadata": {},
   "outputs": [
    {
     "name": "stdout",
     "output_type": "stream",
     "text": [
      " The array is : \n",
      " [[0. 0. 0. 0. 0.]\n",
      " [0. 0. 0. 0. 0.]\n",
      " [0. 0. 0. 0. 0.]\n",
      " [0. 0. 0. 0. 0.]\n",
      " [0. 0. 0. 0. 0.]]\n",
      "The type of array using type: <class 'numpy.ndarray'>\n",
      "The type of array using dtype: float64\n",
      "The dimension of an array: (5, 5)\n",
      "The size of an array: 25\n"
     ]
    }
   ],
   "source": [
    "import numpy as np\n",
    "\n",
    "A = np.zeros([5,5])\n",
    "print(f\" The array is : \\n {A}\")\n",
    "\n",
    "print(f\"The type of array using type: {type(A)}\")\n",
    "print(f\"The type of array using dtype: {A.dtype}\") # no () with dtype because it is an attribute of A not a function\n",
    "\n",
    "print(f\"The dimension of an array: {A.shape}\")\n",
    "\n",
    "print(f\"The size of an array: {A.size}\") # The size attrubute counts the total element in the array\n"
   ]
  },
  {
   "cell_type": "markdown",
   "metadata": {},
   "source": [
    "### Example 11\n",
    "- Create a 5 x 5 matrix of all zeros by passing only 1 argument"
   ]
  },
  {
   "cell_type": "code",
   "execution_count": 29,
   "metadata": {},
   "outputs": [
    {
     "name": "stdout",
     "output_type": "stream",
     "text": [
      " The array is : \n",
      " [0. 0. 0. 0. 0.]\n",
      "The type of array using type: <class 'numpy.ndarray'>\n",
      "The type of array using dtype: float64\n",
      "The dimension of an array: (5,)\n",
      "The size of an array: 5\n"
     ]
    }
   ],
   "source": [
    "import numpy as np\n",
    "\n",
    "A = np.zeros([5])\n",
    "print(f\" The array is : \\n {A}\")\n",
    "\n",
    "print(f\"The type of array using type: {type(A)}\")\n",
    "print(f\"The type of array using dtype: {A.dtype}\") # no () with dtype because it is an attribute of A not a function\n",
    "\n",
    "print(f\"The dimension of an array: {A.shape}\")\n",
    "\n",
    "print(f\"The size of an array: {A.size}\") # The size attrubute counts the total element in the array\n"
   ]
  },
  {
   "cell_type": "markdown",
   "metadata": {},
   "source": [
    "### Example 12\n",
    "- Create an array from 1 to 100 by numpy.arrange()"
   ]
  },
  {
   "cell_type": "code",
   "execution_count": 32,
   "metadata": {},
   "outputs": [
    {
     "name": "stdout",
     "output_type": "stream",
     "text": [
      " The array is : \n",
      " [ 1  2  3  4  5  6  7  8  9 10 11 12 13 14 15 16 17 18 19 20 21 22 23 24\n",
      " 25 26 27 28 29 30 31 32 33 34 35 36 37 38 39 40 41 42 43 44 45 46 47 48\n",
      " 49 50 51 52 53 54 55 56 57 58 59 60 61 62 63 64 65 66 67 68 69 70 71 72\n",
      " 73 74 75 76 77 78 79 80 81 82 83 84 85 86 87 88 89 90 91 92 93 94 95 96\n",
      " 97 98 99]\n",
      "The type of array using type: <class 'numpy.ndarray'>\n",
      "The type of array using dtype: int32\n",
      "The dimension of an array: (99,)\n",
      "The size of an array: 99\n"
     ]
    }
   ],
   "source": [
    "import numpy as np\n",
    "\n",
    "A = np.arange(1,100)\n",
    "print(f\" The array is : \\n {A}\")\n",
    "\n",
    "print(f\"The type of array using type: {type(A)}\")\n",
    "print(f\"The type of array using dtype: {A.dtype}\") # no () with dtype because it is an attribute of A not a function\n",
    "\n",
    "print(f\"The dimension of an array: {A.shape}\")\n",
    "\n",
    "print(f\"The size of an array: {A.size}\") # The size attrubute counts the total element in the array\n"
   ]
  },
  {
   "cell_type": "markdown",
   "metadata": {},
   "source": [
    "### Example 13\n",
    "- Create an array from 1 to 100 by numpy.arrange() with a stepsize of 10"
   ]
  },
  {
   "cell_type": "code",
   "execution_count": 33,
   "metadata": {},
   "outputs": [
    {
     "name": "stdout",
     "output_type": "stream",
     "text": [
      " The array is : \n",
      " [ 1 11 21 31 41 51 61 71 81 91]\n",
      "The type of array using type: <class 'numpy.ndarray'>\n",
      "The type of array using dtype: int32\n",
      "The dimension of an array: (10,)\n",
      "The size of an array: 10\n"
     ]
    }
   ],
   "source": [
    "import numpy as np\n",
    "\n",
    "A = np.arange(1,100,10)\n",
    "print(f\" The array is : \\n {A}\")\n",
    "\n",
    "print(f\"The type of array using type: {type(A)}\")\n",
    "print(f\"The type of array using dtype: {A.dtype}\") # no () with dtype because it is an attribute of A not a function\n",
    "\n",
    "print(f\"The dimension of an array: {A.shape}\")\n",
    "\n",
    "print(f\"The size of an array: {A.size}\") # The size attrubute counts the total element in the array\n"
   ]
  },
  {
   "cell_type": "markdown",
   "metadata": {},
   "source": [
    "### Example 14\n",
    "- Create an array of 100 elements ranging from 2 to 3"
   ]
  },
  {
   "cell_type": "code",
   "execution_count": 34,
   "metadata": {},
   "outputs": [
    {
     "name": "stdout",
     "output_type": "stream",
     "text": [
      " The array is : \n",
      " [2.         2.01010101 2.02020202 2.03030303 2.04040404 2.05050505\n",
      " 2.06060606 2.07070707 2.08080808 2.09090909 2.1010101  2.11111111\n",
      " 2.12121212 2.13131313 2.14141414 2.15151515 2.16161616 2.17171717\n",
      " 2.18181818 2.19191919 2.2020202  2.21212121 2.22222222 2.23232323\n",
      " 2.24242424 2.25252525 2.26262626 2.27272727 2.28282828 2.29292929\n",
      " 2.3030303  2.31313131 2.32323232 2.33333333 2.34343434 2.35353535\n",
      " 2.36363636 2.37373737 2.38383838 2.39393939 2.4040404  2.41414141\n",
      " 2.42424242 2.43434343 2.44444444 2.45454545 2.46464646 2.47474747\n",
      " 2.48484848 2.49494949 2.50505051 2.51515152 2.52525253 2.53535354\n",
      " 2.54545455 2.55555556 2.56565657 2.57575758 2.58585859 2.5959596\n",
      " 2.60606061 2.61616162 2.62626263 2.63636364 2.64646465 2.65656566\n",
      " 2.66666667 2.67676768 2.68686869 2.6969697  2.70707071 2.71717172\n",
      " 2.72727273 2.73737374 2.74747475 2.75757576 2.76767677 2.77777778\n",
      " 2.78787879 2.7979798  2.80808081 2.81818182 2.82828283 2.83838384\n",
      " 2.84848485 2.85858586 2.86868687 2.87878788 2.88888889 2.8989899\n",
      " 2.90909091 2.91919192 2.92929293 2.93939394 2.94949495 2.95959596\n",
      " 2.96969697 2.97979798 2.98989899 3.        ]\n",
      "The type of array using type: <class 'numpy.ndarray'>\n",
      "The type of array using dtype: float64\n",
      "The dimension of an array: (100,)\n",
      "The size of an array: 100\n"
     ]
    }
   ],
   "source": [
    "import numpy as np\n",
    "\n",
    "A = np.linspace(2,3,100)\n",
    "print(f\" The array is : \\n {A}\")\n",
    "\n",
    "print(f\"The type of array using type: {type(A)}\")\n",
    "print(f\"The type of array using dtype: {A.dtype}\") # no () with dtype because it is an attribute of A not a function\n",
    "\n",
    "print(f\"The dimension of an array: {A.shape}\")\n",
    "\n",
    "print(f\"The size of an array: {A.size}\") # The size attrubute counts the total element in the array\n"
   ]
  },
  {
   "cell_type": "markdown",
   "metadata": {},
   "source": [
    "### Example 15\n",
    "- Create identity matrix"
   ]
  },
  {
   "cell_type": "code",
   "execution_count": 35,
   "metadata": {},
   "outputs": [
    {
     "name": "stdout",
     "output_type": "stream",
     "text": [
      " The array is : \n",
      " [[1. 0. 0. 0. 0.]\n",
      " [0. 1. 0. 0. 0.]\n",
      " [0. 0. 1. 0. 0.]\n",
      " [0. 0. 0. 1. 0.]\n",
      " [0. 0. 0. 0. 1.]]\n",
      "The type of array using type: <class 'numpy.ndarray'>\n",
      "The type of array using dtype: float64\n",
      "The dimension of an array: (5, 5)\n",
      "The size of an array: 25\n"
     ]
    }
   ],
   "source": [
    "import numpy as np\n",
    "\n",
    "A = np.identity(5)\n",
    "print(f\" The array is : \\n {A}\")\n",
    "\n",
    "print(f\"The type of array using type: {type(A)}\")\n",
    "print(f\"The type of array using dtype: {A.dtype}\") # no () with dtype because it is an attribute of A not a function\n",
    "\n",
    "print(f\"The dimension of an array: {A.shape}\")\n",
    "\n",
    "print(f\"The size of an array: {A.size}\") # The size attrubute counts the total element in the array\n"
   ]
  },
  {
   "cell_type": "markdown",
   "metadata": {},
   "source": [
    "### Example 16\n",
    "- Create a 4 x 4 matrix and find the sum of all columns"
   ]
  },
  {
   "cell_type": "code",
   "execution_count": 37,
   "metadata": {},
   "outputs": [
    {
     "name": "stdout",
     "output_type": "stream",
     "text": [
      " The Matrix is : \n",
      " [[1 2 3 4]\n",
      " [3 6 3 4]\n",
      " [1 2 9 4]\n",
      " [1 4 5 4]]\n",
      " The row wise sum is : [10 16 16 14]\n",
      " The column wise sum is : [ 6 14 20 16]\n",
      "The type of array using type: <class 'numpy.ndarray'>\n",
      "The type of array using dtype: int32\n",
      "The dimension of an array: (4, 4)\n",
      "The size of an array: 16\n"
     ]
    }
   ],
   "source": [
    "import numpy as np\n",
    "\n",
    "r1 = [1,2,3,4]\n",
    "r2 = [3,6,3,4]\n",
    "r3 = [1,2,9,4]\n",
    "r4 = [1,4,5,4]\n",
    "\n",
    "A = np.array((r1,r2,r3,r4))\n",
    "print(f\" The Matrix is : \\n {A}\")\n",
    "\n",
    "print(f\" The row wise sum is : {A.sum(axis=1)}\")\n",
    "print(f\" The column wise sum is : {A.sum(axis=0)}\")\n",
    "\n",
    "print(f\"The type of array using type: {type(A)}\")\n",
    "print(f\"The type of array using dtype: {A.dtype}\") # no () with dtype because it is an attribute of A not a function\n",
    "\n",
    "print(f\"The dimension of an array: {A.shape}\")\n",
    "\n",
    "print(f\"The size of an array: {A.size}\") # The size attrubute counts the total element in the array\n"
   ]
  },
  {
   "cell_type": "markdown",
   "metadata": {},
   "source": [
    "### Example 17\n",
    "- Find the transpose of a Matrix"
   ]
  },
  {
   "cell_type": "code",
   "execution_count": 38,
   "metadata": {},
   "outputs": [
    {
     "name": "stdout",
     "output_type": "stream",
     "text": [
      " The Matrix is : \n",
      " [[1 2 3 4]\n",
      " [3 6 3 4]\n",
      " [1 2 9 4]\n",
      " [1 4 5 4]]\n",
      " The transpose is : \n",
      " [[1 3 1 1]\n",
      " [2 6 2 4]\n",
      " [3 3 9 5]\n",
      " [4 4 4 4]]\n"
     ]
    }
   ],
   "source": [
    "import numpy as np\n",
    "\n",
    "r1 = [1,2,3,4]\n",
    "r2 = [3,6,3,4]\n",
    "r3 = [1,2,9,4]\n",
    "r4 = [1,4,5,4]\n",
    "\n",
    "A = np.array((r1,r2,r3,r4))\n",
    "print(f\" The Matrix is : \\n {A}\")\n",
    "\n",
    "print(f\" The transpose is : \\n {A.T}\")"
   ]
  },
  {
   "cell_type": "markdown",
   "metadata": {},
   "source": [
    "### Example 18\n",
    "- Use reshape command to convrt 4 x 4 matrix to 8 x 2"
   ]
  },
  {
   "cell_type": "code",
   "execution_count": 41,
   "metadata": {},
   "outputs": [
    {
     "name": "stdout",
     "output_type": "stream",
     "text": [
      " The 4x4 Matrix is : \n",
      " [[1 2 3 4]\n",
      " [3 6 3 4]\n",
      " [1 2 9 4]\n",
      " [1 4 5 4]]\n",
      " The 8x2 matrix: \n",
      " [[1 2]\n",
      " [3 4]\n",
      " [3 6]\n",
      " [3 4]\n",
      " [1 2]\n",
      " [9 4]\n",
      " [1 4]\n",
      " [5 4]]\n"
     ]
    }
   ],
   "source": [
    "import numpy as np\n",
    "\n",
    "r1 = [1,2,3,4]\n",
    "r2 = [3,6,3,4]\n",
    "r3 = [1,2,9,4]\n",
    "r4 = [1,4,5,4]\n",
    "\n",
    "A = np.array((r1,r2,r3,r4))\n",
    "print(f\" The 4x4 Matrix is : \\n {A}\")\n",
    "\n",
    "print(f\" The 8x2 matrix: \\n {A.reshape(8,2)}\")"
   ]
  },
  {
   "cell_type": "markdown",
   "metadata": {},
   "source": [
    "### Example 19\n",
    "- Demonstrate the use of numpy.ravel()"
   ]
  },
  {
   "cell_type": "code",
   "execution_count": 43,
   "metadata": {},
   "outputs": [
    {
     "name": "stdout",
     "output_type": "stream",
     "text": [
      " The 4x4 Matrix is : \n",
      " [[1 2 3 4]\n",
      " [3 6 3 4]\n",
      " [1 2 9 4]\n",
      " [1 4 5 4]]\n",
      " The 1D array from above matrix using ravel: \n",
      " [1 2 3 4 3 6 3 4 1 2 9 4 1 4 5 4]\n"
     ]
    }
   ],
   "source": [
    "import numpy as np\n",
    "\n",
    "r1 = [1,2,3,4]\n",
    "r2 = [3,6,3,4]\n",
    "r3 = [1,2,9,4]\n",
    "r4 = [1,4,5,4]\n",
    "\n",
    "A = np.array((r1,r2,r3,r4))\n",
    "print(f\" The 4x4 Matrix is : \\n {A}\")\n",
    "\n",
    "print(f\" The 1D array from above matrix using ravel: \\n {A.ravel()}\")\n"
   ]
  },
  {
   "cell_type": "markdown",
   "metadata": {},
   "source": [
    "### Example 20\n",
    "- Demonstrate the use of argmax, argmin,argsort"
   ]
  },
  {
   "cell_type": "code",
   "execution_count": 44,
   "metadata": {},
   "outputs": [
    {
     "name": "stdout",
     "output_type": "stream",
     "text": [
      "The original array: [ 1 16 31  4]\n",
      "The index of maximum value in array is: 2\n",
      "The index of minimum value in array is: 0\n",
      "Sorted Indexes: [0 3 1 2]\n"
     ]
    }
   ],
   "source": [
    "import numpy as np\n",
    "\n",
    "a = [1, 16, 31, 4]\n",
    "\n",
    "A = np.array(a)\n",
    "print(f\"The original array: {A}\")\n",
    "\n",
    "print(f\"The index of maximum value in array is: {A.argmax()}\")\n",
    "print(f\"The index of minimum value in array is: {A.argmin()}\")\n",
    "print(f\"Sorted Indexes: {A.argsort()}\")"
   ]
  },
  {
   "cell_type": "markdown",
   "metadata": {},
   "source": [
    "### Example 21\n",
    "- Demostrate the use of numpy.full(),vstack(),hstack(),column_stack()"
   ]
  },
  {
   "cell_type": "code",
   "execution_count": 3,
   "metadata": {},
   "outputs": [
    {
     "data": {
      "text/plain": [
       "array([[5, 5],\n",
       "       [5, 5]])"
      ]
     },
     "execution_count": 3,
     "metadata": {},
     "output_type": "execute_result"
    }
   ],
   "source": [
    "import numpy as np\n",
    "\n",
    "f1=np.full((2,2),5)\n",
    "f1"
   ]
  },
  {
   "cell_type": "code",
   "execution_count": 4,
   "metadata": {},
   "outputs": [
    {
     "data": {
      "text/plain": [
       "array([[3, 3],\n",
       "       [3, 3]])"
      ]
     },
     "execution_count": 4,
     "metadata": {},
     "output_type": "execute_result"
    }
   ],
   "source": [
    "f2 = np.full((2,2), 3)\n",
    "f2"
   ]
  },
  {
   "cell_type": "code",
   "execution_count": 6,
   "metadata": {},
   "outputs": [
    {
     "data": {
      "text/plain": [
       "array([[5, 5],\n",
       "       [5, 5],\n",
       "       [3, 3],\n",
       "       [3, 3]])"
      ]
     },
     "execution_count": 6,
     "metadata": {},
     "output_type": "execute_result"
    }
   ],
   "source": [
    "a = np.vstack([f1, f2])\n",
    "a"
   ]
  },
  {
   "cell_type": "code",
   "execution_count": 7,
   "metadata": {},
   "outputs": [
    {
     "data": {
      "text/plain": [
       "array([[5, 5, 3, 3],\n",
       "       [5, 5, 3, 3]])"
      ]
     },
     "execution_count": 7,
     "metadata": {},
     "output_type": "execute_result"
    }
   ],
   "source": [
    "b = np.hstack([f1, f2])\n",
    "b"
   ]
  },
  {
   "cell_type": "code",
   "execution_count": 8,
   "metadata": {},
   "outputs": [
    {
     "data": {
      "text/plain": [
       "array([[5, 5, 3, 3],\n",
       "       [5, 5, 3, 3]])"
      ]
     },
     "execution_count": 8,
     "metadata": {},
     "output_type": "execute_result"
    }
   ],
   "source": [
    "a = np.column_stack([f1, f2])\n",
    "a"
   ]
  },
  {
   "cell_type": "markdown",
   "metadata": {},
   "source": [
    "### Example 22\n",
    "- Save and load a matrix in the memory "
   ]
  },
  {
   "cell_type": "code",
   "execution_count": 9,
   "metadata": {},
   "outputs": [
    {
     "data": {
      "text/plain": [
       "array([[5, 5, 5],\n",
       "       [5, 5, 5]])"
      ]
     },
     "execution_count": 9,
     "metadata": {},
     "output_type": "execute_result"
    }
   ],
   "source": [
    "import numpy as np\n",
    "\n",
    "a = np.full((2,3), 5)\n",
    "a"
   ]
  },
  {
   "cell_type": "code",
   "execution_count": 10,
   "metadata": {},
   "outputs": [],
   "source": [
    "np.save(\"untitled.npy\", a)"
   ]
  },
  {
   "cell_type": "code",
   "execution_count": 11,
   "metadata": {},
   "outputs": [
    {
     "data": {
      "text/plain": [
       "array([[5, 5, 5],\n",
       "       [5, 5, 5]])"
      ]
     },
     "execution_count": 11,
     "metadata": {},
     "output_type": "execute_result"
    }
   ],
   "source": [
    "savedMatrix = np.load('untitled.npy')\n",
    "savedMatrix"
   ]
  },
  {
   "cell_type": "markdown",
   "metadata": {},
   "source": [
    "### Example 23\n",
    "- Demonstrate the use of numoy.dot() and compare it with simple multiplication"
   ]
  },
  {
   "cell_type": "code",
   "execution_count": 12,
   "metadata": {},
   "outputs": [
    {
     "name": "stdout",
     "output_type": "stream",
     "text": [
      "\n",
      "f1 = \n",
      " [[5 5]\n",
      " [5 5]]\n",
      "\n",
      "f2 = \n",
      " [[3 3]\n",
      " [3 3]]\n",
      "point to point multiplication =  [[15 15]\n",
      " [15 15]]\n",
      "point to point multiplication =  [[30 30]\n",
      " [30 30]]\n"
     ]
    }
   ],
   "source": [
    "import numpy as np\n",
    "\n",
    "f1=np. full((2,2),5)\n",
    "print(\"\\nf1 = \\n\",f1)\n",
    "\n",
    "f2=np.full((2,2), 3)\n",
    "print(\"\\nf2 = \\n\", f2)\n",
    "\n",
    "print(\"point to point multiplication = \",f1*f2)\n",
    "\n",
    "print(\"point to point multiplication = \", np.dot(f1,f2))"
   ]
  },
  {
   "cell_type": "markdown",
   "metadata": {},
   "source": [
    "# 02. Pandas"
   ]
  },
  {
   "cell_type": "markdown",
   "metadata": {},
   "source": [
    "### Example 01\n",
    "- ``Create a Dictionary and convert them into data frames also check its datatype``"
   ]
  },
  {
   "cell_type": "code",
   "execution_count": 14,
   "metadata": {},
   "outputs": [
    {
     "data": {
      "text/plain": [
       "{'Name': ['Aqsa',\n",
       "  'Esha',\n",
       "  'Ayesha',\n",
       "  'Ayra',\n",
       "  'Arfa',\n",
       "  'Afsa',\n",
       "  'Abdul',\n",
       "  'Saadia',\n",
       "  'Abu Bakar',\n",
       "  'Atif'],\n",
       " 'ID': ['SID-1',\n",
       "  'SID-2',\n",
       "  'SID-3',\n",
       "  'SID-4',\n",
       "  'SID-5',\n",
       "  'SID-6',\n",
       "  'SID-7',\n",
       "  'SID-8',\n",
       "  'SID-9',\n",
       "  'SID-10'],\n",
       " 'Rol1_no': [1, 2, 3, 4, 5, 6, 7, 8, 9, 10],\n",
       " 'Semester': [7, 7, 7, 7, 6, 6, 6, 5, 8, 8]}"
      ]
     },
     "execution_count": 14,
     "metadata": {},
     "output_type": "execute_result"
    }
   ],
   "source": [
    "#create a dictionary\n",
    "\n",
    "StuDict={\"Name\": [\"Aqsa\",\"Esha\", \"Ayesha\", \"Ayra\", \"Arfa\", \"Afsa\", \"Abdul\", \"Saadia\", \"Abu Bakar\",\"Atif\"],\n",
    "\"ID\": [\"SID-1\",\"SID-2\", \"SID-3\", \"SID-4\", \"SID-5\",\"SID-6\", \"SID-7\", \"SID-8\", \"SID-9\",\"SID-10\"],\n",
    "\"Rol1_no\": [1,2,3,4,5,6,7,8,9,10],\n",
    "\"Semester\" : [7,7,7,7,6,6,6,5,8,8]}\n",
    "\n",
    "StuDict"
   ]
  },
  {
   "cell_type": "code",
   "execution_count": 16,
   "metadata": {},
   "outputs": [
    {
     "name": "stdout",
     "output_type": "stream",
     "text": [
      "        Name      ID  Rol1_no  Semester\n",
      "0       Aqsa   SID-1        1         7\n",
      "1       Esha   SID-2        2         7\n",
      "2     Ayesha   SID-3        3         7\n",
      "3       Ayra   SID-4        4         7\n",
      "4       Arfa   SID-5        5         6\n",
      "5       Afsa   SID-6        6         6\n",
      "6      Abdul   SID-7        7         6\n",
      "7     Saadia   SID-8        8         5\n",
      "8  Abu Bakar   SID-9        9         8\n",
      "9       Atif  SID-10       10         8\n",
      "\n",
      "\n",
      "The data type of above given syntax is : <class 'pandas.core.frame.DataFrame'>\n"
     ]
    }
   ],
   "source": [
    "#convert into data frames\n",
    "\n",
    "import pandas as pd\n",
    "\n",
    "data=pd.DataFrame (StuDict)\n",
    "\n",
    "print(data)\n",
    "\n",
    "print(\"\\n\\nThe data type of above given syntax is :\",type (data))\n"
   ]
  },
  {
   "cell_type": "markdown",
   "metadata": {},
   "source": [
    "### Example 02\n",
    "- `Demonstrate the use of describe function for a data frame`"
   ]
  },
  {
   "cell_type": "code",
   "execution_count": 21,
   "metadata": {},
   "outputs": [
    {
     "name": "stdout",
     "output_type": "stream",
     "text": [
      "        Rol1_no   Semester\n",
      "count  10.00000  10.000000\n",
      "mean    5.50000   6.700000\n",
      "std     3.02765   0.948683\n",
      "min     1.00000   5.000000\n",
      "25%     3.25000   6.000000\n",
      "50%     5.50000   7.000000\n",
      "75%     7.75000   7.000000\n",
      "max    10.00000   8.000000\n"
     ]
    }
   ],
   "source": [
    "print(data.describe())"
   ]
  },
  {
   "cell_type": "markdown",
   "metadata": {},
   "source": [
    "### Example 03\n",
    "- `Demonstrate the use of head function for a data frame`"
   ]
  },
  {
   "cell_type": "code",
   "execution_count": 22,
   "metadata": {},
   "outputs": [
    {
     "name": "stdout",
     "output_type": "stream",
     "text": [
      "     Name     ID  Rol1_no  Semester\n",
      "0    Aqsa  SID-1        1         7\n",
      "1    Esha  SID-2        2         7\n",
      "2  Ayesha  SID-3        3         7\n",
      "3    Ayra  SID-4        4         7\n",
      "4    Arfa  SID-5        5         6\n"
     ]
    }
   ],
   "source": [
    "print(data.head())"
   ]
  },
  {
   "cell_type": "markdown",
   "metadata": {},
   "source": [
    "### Example 04\n",
    "- `Demonstrate the use of tail function for a data frame`"
   ]
  },
  {
   "cell_type": "code",
   "execution_count": 23,
   "metadata": {},
   "outputs": [
    {
     "name": "stdout",
     "output_type": "stream",
     "text": [
      "        Name      ID  Rol1_no  Semester\n",
      "5       Afsa   SID-6        6         6\n",
      "6      Abdul   SID-7        7         6\n",
      "7     Saadia   SID-8        8         5\n",
      "8  Abu Bakar   SID-9        9         8\n",
      "9       Atif  SID-10       10         8\n"
     ]
    }
   ],
   "source": [
    "print(data.tail())"
   ]
  },
  {
   "cell_type": "markdown",
   "metadata": {},
   "source": [
    "### Example 05\n",
    "- `Demonstrate the use of info function for a data frame`"
   ]
  },
  {
   "cell_type": "code",
   "execution_count": 24,
   "metadata": {},
   "outputs": [
    {
     "name": "stdout",
     "output_type": "stream",
     "text": [
      "<class 'pandas.core.frame.DataFrame'>\n",
      "RangeIndex: 10 entries, 0 to 9\n",
      "Data columns (total 4 columns):\n",
      " #   Column    Non-Null Count  Dtype \n",
      "---  ------    --------------  ----- \n",
      " 0   Name      10 non-null     object\n",
      " 1   ID        10 non-null     object\n",
      " 2   Rol1_no   10 non-null     int64 \n",
      " 3   Semester  10 non-null     int64 \n",
      "dtypes: int64(2), object(2)\n",
      "memory usage: 448.0+ bytes\n",
      "None\n"
     ]
    }
   ],
   "source": [
    "print(data.info())"
   ]
  },
  {
   "cell_type": "markdown",
   "metadata": {},
   "source": [
    "### Example 06\n",
    "- `Convert the data frame in a variable to CSV file`"
   ]
  },
  {
   "cell_type": "code",
   "execution_count": 25,
   "metadata": {},
   "outputs": [],
   "source": [
    "data.to_csv('student.csv')"
   ]
  },
  {
   "cell_type": "markdown",
   "metadata": {},
   "source": [
    "### Example 07\n",
    "- `Remove the indexes from the csv file`"
   ]
  },
  {
   "cell_type": "code",
   "execution_count": 27,
   "metadata": {},
   "outputs": [],
   "source": [
    "data.to_csv('Without_index.csv', index=False)"
   ]
  },
  {
   "cell_type": "markdown",
   "metadata": {},
   "source": [
    "### Example 08\n",
    "- `Read from csv file`"
   ]
  },
  {
   "cell_type": "code",
   "execution_count": 28,
   "metadata": {},
   "outputs": [
    {
     "data": {
      "text/html": [
       "<div>\n",
       "<style scoped>\n",
       "    .dataframe tbody tr th:only-of-type {\n",
       "        vertical-align: middle;\n",
       "    }\n",
       "\n",
       "    .dataframe tbody tr th {\n",
       "        vertical-align: top;\n",
       "    }\n",
       "\n",
       "    .dataframe thead th {\n",
       "        text-align: right;\n",
       "    }\n",
       "</style>\n",
       "<table border=\"1\" class=\"dataframe\">\n",
       "  <thead>\n",
       "    <tr style=\"text-align: right;\">\n",
       "      <th></th>\n",
       "      <th>Unnamed: 0</th>\n",
       "      <th>Name</th>\n",
       "      <th>ID</th>\n",
       "      <th>Rol1_no</th>\n",
       "      <th>Semester</th>\n",
       "    </tr>\n",
       "  </thead>\n",
       "  <tbody>\n",
       "    <tr>\n",
       "      <th>0</th>\n",
       "      <td>0</td>\n",
       "      <td>Aqsa</td>\n",
       "      <td>SID-1</td>\n",
       "      <td>1</td>\n",
       "      <td>7</td>\n",
       "    </tr>\n",
       "    <tr>\n",
       "      <th>1</th>\n",
       "      <td>1</td>\n",
       "      <td>Esha</td>\n",
       "      <td>SID-2</td>\n",
       "      <td>2</td>\n",
       "      <td>7</td>\n",
       "    </tr>\n",
       "    <tr>\n",
       "      <th>2</th>\n",
       "      <td>2</td>\n",
       "      <td>Ayesha</td>\n",
       "      <td>SID-3</td>\n",
       "      <td>3</td>\n",
       "      <td>7</td>\n",
       "    </tr>\n",
       "    <tr>\n",
       "      <th>3</th>\n",
       "      <td>3</td>\n",
       "      <td>Ayra</td>\n",
       "      <td>SID-4</td>\n",
       "      <td>4</td>\n",
       "      <td>7</td>\n",
       "    </tr>\n",
       "    <tr>\n",
       "      <th>4</th>\n",
       "      <td>4</td>\n",
       "      <td>Arfa</td>\n",
       "      <td>SID-5</td>\n",
       "      <td>5</td>\n",
       "      <td>6</td>\n",
       "    </tr>\n",
       "    <tr>\n",
       "      <th>5</th>\n",
       "      <td>5</td>\n",
       "      <td>Afsa</td>\n",
       "      <td>SID-6</td>\n",
       "      <td>6</td>\n",
       "      <td>6</td>\n",
       "    </tr>\n",
       "    <tr>\n",
       "      <th>6</th>\n",
       "      <td>6</td>\n",
       "      <td>Abdul</td>\n",
       "      <td>SID-7</td>\n",
       "      <td>7</td>\n",
       "      <td>6</td>\n",
       "    </tr>\n",
       "    <tr>\n",
       "      <th>7</th>\n",
       "      <td>7</td>\n",
       "      <td>Saadia</td>\n",
       "      <td>SID-8</td>\n",
       "      <td>8</td>\n",
       "      <td>5</td>\n",
       "    </tr>\n",
       "    <tr>\n",
       "      <th>8</th>\n",
       "      <td>8</td>\n",
       "      <td>Abu Bakar</td>\n",
       "      <td>SID-9</td>\n",
       "      <td>9</td>\n",
       "      <td>8</td>\n",
       "    </tr>\n",
       "    <tr>\n",
       "      <th>9</th>\n",
       "      <td>9</td>\n",
       "      <td>Atif</td>\n",
       "      <td>SID-10</td>\n",
       "      <td>10</td>\n",
       "      <td>8</td>\n",
       "    </tr>\n",
       "  </tbody>\n",
       "</table>\n",
       "</div>"
      ],
      "text/plain": [
       "   Unnamed: 0       Name      ID  Rol1_no  Semester\n",
       "0           0       Aqsa   SID-1        1         7\n",
       "1           1       Esha   SID-2        2         7\n",
       "2           2     Ayesha   SID-3        3         7\n",
       "3           3       Ayra   SID-4        4         7\n",
       "4           4       Arfa   SID-5        5         6\n",
       "5           5       Afsa   SID-6        6         6\n",
       "6           6      Abdul   SID-7        7         6\n",
       "7           7     Saadia   SID-8        8         5\n",
       "8           8  Abu Bakar   SID-9        9         8\n",
       "9           9       Atif  SID-10       10         8"
      ]
     },
     "execution_count": 28,
     "metadata": {},
     "output_type": "execute_result"
    }
   ],
   "source": [
    "df = pd.read_csv('student.csv')\n",
    "df"
   ]
  },
  {
   "cell_type": "markdown",
   "metadata": {},
   "source": [
    "### Example 09\n",
    "- `Use describe,head,tail and info function for CSV file`"
   ]
  },
  {
   "cell_type": "code",
   "execution_count": 1,
   "metadata": {},
   "outputs": [
    {
     "name": "stdout",
     "output_type": "stream",
     "text": [
      "Describe Function \n",
      "        Unnamed: 0   Rol1_no   Semester\n",
      "count    10.00000  10.00000  10.000000\n",
      "mean      4.50000   5.50000   6.700000\n",
      "std       3.02765   3.02765   0.948683\n",
      "min       0.00000   1.00000   5.000000\n",
      "25%       2.25000   3.25000   6.000000\n",
      "50%       4.50000   5.50000   7.000000\n",
      "75%       6.75000   7.75000   7.000000\n",
      "max       9.00000  10.00000   8.000000, \n",
      " head Function \n",
      "    Unnamed: 0    Name     ID  Rol1_no  Semester\n",
      "0           0    Aqsa  SID-1        1         7\n",
      "1           1    Esha  SID-2        2         7\n",
      "2           2  Ayesha  SID-3        3         7\n",
      "3           3    Ayra  SID-4        4         7\n",
      "4           4    Arfa  SID-5        5         6 \n",
      " tail Function \n",
      "    Unnamed: 0       Name      ID  Rol1_no  Semester\n",
      "5           5       Afsa   SID-6        6         6\n",
      "6           6      Abdul   SID-7        7         6\n",
      "7           7     Saadia   SID-8        8         5\n",
      "8           8  Abu Bakar   SID-9        9         8\n",
      "9           9       Atif  SID-10       10         8\n",
      "<class 'pandas.core.frame.DataFrame'>\n",
      "RangeIndex: 10 entries, 0 to 9\n",
      "Data columns (total 5 columns):\n",
      " #   Column      Non-Null Count  Dtype \n",
      "---  ------      --------------  ----- \n",
      " 0   Unnamed: 0  10 non-null     int64 \n",
      " 1   Name        10 non-null     object\n",
      " 2   ID          10 non-null     object\n",
      " 3   Rol1_no     10 non-null     int64 \n",
      " 4   Semester    10 non-null     int64 \n",
      "dtypes: int64(3), object(2)\n",
      "memory usage: 528.0+ bytes\n",
      "\n",
      " info Function \n",
      " None\n"
     ]
    }
   ],
   "source": [
    "import pandas as pd\n",
    "df = pd.read_csv('student.csv')\n",
    "\n",
    "print(f\"Describe Function \\n {df.describe()}, \\n head Function \\n {df.head()} \\n tail Function \\n {df.tail()}\")\n",
    "print(f\"\\n info Function \\n {df.info()}\")"
   ]
  },
  {
   "cell_type": "markdown",
   "metadata": {},
   "source": [
    "### Example 10\n",
    "- `Access a column by its name`"
   ]
  },
  {
   "cell_type": "code",
   "execution_count": 2,
   "metadata": {},
   "outputs": [
    {
     "data": {
      "text/plain": [
       "0         Aqsa\n",
       "1         Esha\n",
       "2       Ayesha\n",
       "3         Ayra\n",
       "4         Arfa\n",
       "5         Afsa\n",
       "6        Abdul\n",
       "7       Saadia\n",
       "8    Abu Bakar\n",
       "9         Atif\n",
       "Name: Name, dtype: object"
      ]
     },
     "execution_count": 2,
     "metadata": {},
     "output_type": "execute_result"
    }
   ],
   "source": [
    "import pandas as pd\n",
    "\n",
    "df['Name']"
   ]
  },
  {
   "cell_type": "markdown",
   "metadata": {},
   "source": [
    "### Example 11\n",
    "- `Access the 1st element of a column`"
   ]
  },
  {
   "cell_type": "code",
   "execution_count": 3,
   "metadata": {},
   "outputs": [
    {
     "data": {
      "text/plain": [
       "'Aqsa'"
      ]
     },
     "execution_count": 3,
     "metadata": {},
     "output_type": "execute_result"
    }
   ],
   "source": [
    "\n",
    "df['Name'][0]"
   ]
  },
  {
   "cell_type": "markdown",
   "metadata": {},
   "source": [
    "### Example 12\n",
    "- `Update the value in the column`"
   ]
  },
  {
   "cell_type": "code",
   "execution_count": 4,
   "metadata": {},
   "outputs": [
    {
     "name": "stderr",
     "output_type": "stream",
     "text": [
      "C:\\Users\\hp\\AppData\\Local\\Temp\\ipykernel_17156\\2832195598.py:1: SettingWithCopyWarning: \n",
      "A value is trying to be set on a copy of a slice from a DataFrame\n",
      "\n",
      "See the caveats in the documentation: https://pandas.pydata.org/pandas-docs/stable/user_guide/indexing.html#returning-a-view-versus-a-copy\n",
      "  df['Name'][0] = 'Saddam'\n"
     ]
    },
    {
     "data": {
      "text/html": [
       "<div>\n",
       "<style scoped>\n",
       "    .dataframe tbody tr th:only-of-type {\n",
       "        vertical-align: middle;\n",
       "    }\n",
       "\n",
       "    .dataframe tbody tr th {\n",
       "        vertical-align: top;\n",
       "    }\n",
       "\n",
       "    .dataframe thead th {\n",
       "        text-align: right;\n",
       "    }\n",
       "</style>\n",
       "<table border=\"1\" class=\"dataframe\">\n",
       "  <thead>\n",
       "    <tr style=\"text-align: right;\">\n",
       "      <th></th>\n",
       "      <th>Unnamed: 0</th>\n",
       "      <th>Name</th>\n",
       "      <th>ID</th>\n",
       "      <th>Rol1_no</th>\n",
       "      <th>Semester</th>\n",
       "    </tr>\n",
       "  </thead>\n",
       "  <tbody>\n",
       "    <tr>\n",
       "      <th>0</th>\n",
       "      <td>0</td>\n",
       "      <td>Saddam</td>\n",
       "      <td>SID-1</td>\n",
       "      <td>1</td>\n",
       "      <td>7</td>\n",
       "    </tr>\n",
       "    <tr>\n",
       "      <th>1</th>\n",
       "      <td>1</td>\n",
       "      <td>Esha</td>\n",
       "      <td>SID-2</td>\n",
       "      <td>2</td>\n",
       "      <td>7</td>\n",
       "    </tr>\n",
       "    <tr>\n",
       "      <th>2</th>\n",
       "      <td>2</td>\n",
       "      <td>Ayesha</td>\n",
       "      <td>SID-3</td>\n",
       "      <td>3</td>\n",
       "      <td>7</td>\n",
       "    </tr>\n",
       "    <tr>\n",
       "      <th>3</th>\n",
       "      <td>3</td>\n",
       "      <td>Ayra</td>\n",
       "      <td>SID-4</td>\n",
       "      <td>4</td>\n",
       "      <td>7</td>\n",
       "    </tr>\n",
       "    <tr>\n",
       "      <th>4</th>\n",
       "      <td>4</td>\n",
       "      <td>Arfa</td>\n",
       "      <td>SID-5</td>\n",
       "      <td>5</td>\n",
       "      <td>6</td>\n",
       "    </tr>\n",
       "    <tr>\n",
       "      <th>5</th>\n",
       "      <td>5</td>\n",
       "      <td>Afsa</td>\n",
       "      <td>SID-6</td>\n",
       "      <td>6</td>\n",
       "      <td>6</td>\n",
       "    </tr>\n",
       "    <tr>\n",
       "      <th>6</th>\n",
       "      <td>6</td>\n",
       "      <td>Abdul</td>\n",
       "      <td>SID-7</td>\n",
       "      <td>7</td>\n",
       "      <td>6</td>\n",
       "    </tr>\n",
       "    <tr>\n",
       "      <th>7</th>\n",
       "      <td>7</td>\n",
       "      <td>Saadia</td>\n",
       "      <td>SID-8</td>\n",
       "      <td>8</td>\n",
       "      <td>5</td>\n",
       "    </tr>\n",
       "    <tr>\n",
       "      <th>8</th>\n",
       "      <td>8</td>\n",
       "      <td>Abu Bakar</td>\n",
       "      <td>SID-9</td>\n",
       "      <td>9</td>\n",
       "      <td>8</td>\n",
       "    </tr>\n",
       "    <tr>\n",
       "      <th>9</th>\n",
       "      <td>9</td>\n",
       "      <td>Atif</td>\n",
       "      <td>SID-10</td>\n",
       "      <td>10</td>\n",
       "      <td>8</td>\n",
       "    </tr>\n",
       "  </tbody>\n",
       "</table>\n",
       "</div>"
      ],
      "text/plain": [
       "   Unnamed: 0       Name      ID  Rol1_no  Semester\n",
       "0           0     Saddam   SID-1        1         7\n",
       "1           1       Esha   SID-2        2         7\n",
       "2           2     Ayesha   SID-3        3         7\n",
       "3           3       Ayra   SID-4        4         7\n",
       "4           4       Arfa   SID-5        5         6\n",
       "5           5       Afsa   SID-6        6         6\n",
       "6           6      Abdul   SID-7        7         6\n",
       "7           7     Saadia   SID-8        8         5\n",
       "8           8  Abu Bakar   SID-9        9         8\n",
       "9           9       Atif  SID-10       10         8"
      ]
     },
     "execution_count": 4,
     "metadata": {},
     "output_type": "execute_result"
    }
   ],
   "source": [
    "df['Name'][0] = 'Saddam'\n",
    "df"
   ]
  },
  {
   "cell_type": "markdown",
   "metadata": {},
   "source": [
    "### Example 13\n",
    "- `Find the columns and indexes in a data frame`"
   ]
  },
  {
   "cell_type": "code",
   "execution_count": 5,
   "metadata": {},
   "outputs": [
    {
     "data": {
      "text/plain": [
       "Index(['Unnamed: 0', 'Name', 'ID', 'Rol1_no', 'Semester'], dtype='object')"
      ]
     },
     "execution_count": 5,
     "metadata": {},
     "output_type": "execute_result"
    }
   ],
   "source": [
    "df.columns"
   ]
  },
  {
   "cell_type": "code",
   "execution_count": 6,
   "metadata": {},
   "outputs": [
    {
     "data": {
      "text/plain": [
       "RangeIndex(start=0, stop=10, step=1)"
      ]
     },
     "execution_count": 6,
     "metadata": {},
     "output_type": "execute_result"
    }
   ],
   "source": [
    "df.index"
   ]
  },
  {
   "cell_type": "markdown",
   "metadata": {},
   "source": [
    "### Example 14\n",
    "- `Create a series of 50 random numbers and check their data type and shape`"
   ]
  },
  {
   "cell_type": "code",
   "execution_count": 9,
   "metadata": {},
   "outputs": [
    {
     "name": "stdout",
     "output_type": "stream",
     "text": [
      "0     0.213985\n",
      "1     0.705265\n",
      "2     0.355021\n",
      "3     0.522076\n",
      "4     0.945126\n",
      "5     0.889899\n",
      "6     0.153129\n",
      "7     0.923423\n",
      "8     0.569371\n",
      "9     0.036794\n",
      "10    0.021892\n",
      "11    0.968794\n",
      "12    0.095629\n",
      "13    0.690430\n",
      "14    0.658842\n",
      "15    0.227521\n",
      "16    0.239709\n",
      "17    0.993304\n",
      "18    0.864950\n",
      "19    0.362236\n",
      "20    0.439025\n",
      "21    0.898234\n",
      "22    0.198995\n",
      "23    0.713161\n",
      "24    0.456129\n",
      "25    0.526069\n",
      "26    0.498385\n",
      "27    0.838366\n",
      "28    0.958630\n",
      "29    0.812052\n",
      "30    0.245112\n",
      "31    0.874729\n",
      "32    0.440818\n",
      "33    0.563841\n",
      "34    0.456232\n",
      "35    0.523567\n",
      "36    0.637054\n",
      "37    0.036077\n",
      "38    0.326362\n",
      "39    0.511615\n",
      "40    0.242937\n",
      "41    0.787437\n",
      "42    0.764949\n",
      "43    0.166757\n",
      "44    0.842915\n",
      "45    0.685571\n",
      "46    0.902296\n",
      "47    0.889085\n",
      "48    0.832561\n",
      "49    0.093487\n",
      "dtype: float64\n",
      "Using dtype: float64\n",
      "Using type: <class 'pandas.core.series.Series'>\n",
      "Using Shape: (50,)\n"
     ]
    }
   ],
   "source": [
    "import pandas as pd\n",
    "import numpy as np\n",
    "\n",
    "s = pd.Series(np.random.rand(50))\n",
    "print(s)\n",
    "print(f\"Using dtype: {s.dtype}\")\n",
    "print(f\"Using type: {type(s)}\")\n",
    "print(f\"Using Shape: {s.shape}\")"
   ]
  },
  {
   "cell_type": "markdown",
   "metadata": {},
   "source": [
    "### Example 15\n",
    "- `Create a 50 x  5 data set from random values`"
   ]
  },
  {
   "cell_type": "code",
   "execution_count": 12,
   "metadata": {},
   "outputs": [
    {
     "name": "stdout",
     "output_type": "stream",
     "text": [
      "           0         1         2         3         4\n",
      "0   0.095117  0.639494  0.662132  0.377261  0.484351\n",
      "1   0.619275  0.943618  0.842647  0.882023  0.789404\n",
      "2   0.341192  0.423504  0.457024  0.182026  0.034171\n",
      "3   0.341754  0.709385  0.585795  0.407479  0.102380\n",
      "4   0.068927  0.212324  0.611905  0.775162  0.103636\n",
      "5   0.847370  0.306612  0.444425  0.632644  0.659969\n",
      "6   0.317868  0.846814  0.728211  0.204996  0.125151\n",
      "7   0.790399  0.043253  0.376310  0.094241  0.215075\n",
      "8   0.136808  0.813166  0.611163  0.436034  0.227827\n",
      "9   0.196890  0.428134  0.534169  0.007336  0.372561\n",
      "10  0.993245  0.883609  0.091237  0.928452  0.020587\n",
      "11  0.535516  0.687310  0.810303  0.787431  0.318259\n",
      "12  0.602856  0.067509  0.395043  0.777689  0.543671\n",
      "13  0.728186  0.257312  0.067979  0.815434  0.677408\n",
      "14  0.911252  0.149094  0.898748  0.514953  0.545707\n",
      "15  0.202250  0.901579  0.828142  0.552332  0.841038\n",
      "16  0.918471  0.168144  0.495997  0.994389  0.854160\n",
      "17  0.158534  0.908556  0.026688  0.575473  0.382548\n",
      "18  0.759819  0.625431  0.845625  0.496324  0.368966\n",
      "19  0.661029  0.160153  0.874547  0.206498  0.644983\n",
      "20  0.810375  0.390970  0.306229  0.676295  0.722247\n",
      "21  0.539418  0.330170  0.877379  0.271891  0.246110\n",
      "22  0.211602  0.603702  0.120888  0.673845  0.652311\n",
      "23  0.464343  0.657081  0.223643  0.240461  0.137519\n",
      "24  0.236285  0.591518  0.631231  0.930020  0.405097\n",
      "25  0.146758  0.741755  0.602359  0.651188  0.165919\n",
      "26  0.651339  0.785964  0.344340  0.335508  0.891862\n",
      "27  0.337528  0.042312  0.402397  0.803161  0.392351\n",
      "28  0.181088  0.814396  0.192070  0.359722  0.747379\n",
      "29  0.058017  0.231529  0.869340  0.861270  0.260224\n",
      "30  0.205536  0.524932  0.544692  0.026514  0.717713\n",
      "31  0.242184  0.397659  0.448239  0.463087  0.196380\n",
      "32  0.753762  0.738208  0.984093  0.957331  0.489630\n",
      "33  0.038807  0.378607  0.590429  0.042695  0.838390\n",
      "34  0.412880  0.390730  0.873042  0.699334  0.544883\n",
      "35  0.339604  0.313319  0.298470  0.340717  0.464802\n",
      "36  0.697489  0.039384  0.527194  0.575181  0.138330\n",
      "37  0.949106  0.033361  0.382915  0.408636  0.668237\n",
      "38  0.854683  0.236989  0.882661  0.641276  0.557344\n",
      "39  0.725617  0.698783  0.925393  0.690543  0.428553\n",
      "40  0.981666  0.497764  0.030554  0.042278  0.732673\n",
      "41  0.627341  0.598191  0.529094  0.991350  0.832340\n",
      "42  0.011232  0.085394  0.488852  0.939697  0.876394\n",
      "43  0.207493  0.628804  0.484087  0.440481  0.019162\n",
      "44  0.766026  0.786058  0.121711  0.811946  0.572203\n",
      "45  0.470483  0.758412  0.748143  0.933412  0.080471\n",
      "46  0.608353  0.949183  0.307380  0.700421  0.271150\n",
      "47  0.557307  0.275719  0.221070  0.116993  0.390716\n",
      "48  0.204027  0.894675  0.428996  0.865814  0.513925\n",
      "49  0.482776  0.495380  0.469520  0.907205  0.610760\n"
     ]
    }
   ],
   "source": [
    "import pandas as pd\n",
    "import numpy as np\n",
    "\n",
    "dataf = pd.DataFrame(np.random.rand(50,5))\n",
    "print(s)"
   ]
  },
  {
   "cell_type": "markdown",
   "metadata": {},
   "source": [
    "### Example 16\n",
    "- `Find the minimum maximum and mean values column wise in a dataset`"
   ]
  },
  {
   "cell_type": "code",
   "execution_count": 13,
   "metadata": {},
   "outputs": [
    {
     "data": {
      "text/plain": [
       "0    0.059367\n",
       "1    0.042292\n",
       "2    0.037593\n",
       "3    0.017715\n",
       "4    0.016974\n",
       "dtype: float64"
      ]
     },
     "execution_count": 13,
     "metadata": {},
     "output_type": "execute_result"
    }
   ],
   "source": [
    "dataf.min()"
   ]
  },
  {
   "cell_type": "code",
   "execution_count": 15,
   "metadata": {},
   "outputs": [
    {
     "data": {
      "text/plain": [
       "0    0.994831\n",
       "1    0.988014\n",
       "2    0.977716\n",
       "3    0.983931\n",
       "4    0.984856\n",
       "dtype: float64"
      ]
     },
     "execution_count": 15,
     "metadata": {},
     "output_type": "execute_result"
    }
   ],
   "source": [
    "dataf.max()"
   ]
  },
  {
   "cell_type": "code",
   "execution_count": 16,
   "metadata": {},
   "outputs": [
    {
     "data": {
      "text/plain": [
       "0    0.545592\n",
       "1    0.493583\n",
       "2    0.505099\n",
       "3    0.467980\n",
       "4    0.499710\n",
       "dtype: float64"
      ]
     },
     "execution_count": 16,
     "metadata": {},
     "output_type": "execute_result"
    }
   ],
   "source": [
    "dataf.mean()"
   ]
  },
  {
   "cell_type": "markdown",
   "metadata": {},
   "source": [
    "### Example 17\n",
    "- `Find the maximum value in 1st column`"
   ]
  },
  {
   "cell_type": "code",
   "execution_count": 17,
   "metadata": {},
   "outputs": [
    {
     "data": {
      "text/plain": [
       "0.9948314451530725"
      ]
     },
     "execution_count": 17,
     "metadata": {},
     "output_type": "execute_result"
    }
   ],
   "source": [
    "dataf[0].max()"
   ]
  },
  {
   "cell_type": "markdown",
   "metadata": {},
   "source": [
    "### Example 18\n",
    "- `Convert the dataset into numpy array and also take transpose of it`"
   ]
  },
  {
   "cell_type": "code",
   "execution_count": 18,
   "metadata": {},
   "outputs": [
    {
     "data": {
      "text/plain": [
       "array([[0.7393515 , 0.1410113 , 0.95232446, 0.27968595, 0.52121743],\n",
       "       [0.67105707, 0.95720862, 0.76273975, 0.20318665, 0.7837203 ],\n",
       "       [0.16949225, 0.90963359, 0.0566862 , 0.05422452, 0.34295278],\n",
       "       [0.85294082, 0.29990849, 0.32708384, 0.4506501 , 0.07945654],\n",
       "       [0.38973178, 0.14341489, 0.52974695, 0.81087479, 0.14011717],\n",
       "       [0.3783606 , 0.06620189, 0.40777707, 0.93989169, 0.38610238],\n",
       "       [0.33478993, 0.95365972, 0.63622107, 0.34372466, 0.11275837],\n",
       "       [0.64980654, 0.84741828, 0.97771612, 0.76349159, 0.39733983],\n",
       "       [0.97340478, 0.59362464, 0.82962848, 0.87709887, 0.35612845],\n",
       "       [0.33623943, 0.97435094, 0.61054717, 0.55461407, 0.84265851],\n",
       "       [0.70403398, 0.15963808, 0.04998997, 0.14036765, 0.17432382],\n",
       "       [0.53277448, 0.28288425, 0.20784172, 0.31909872, 0.13089884],\n",
       "       [0.90445384, 0.57488759, 0.19792259, 0.19024968, 0.71321779],\n",
       "       [0.4837902 , 0.63158316, 0.43378344, 0.74442296, 0.73244945],\n",
       "       [0.9862479 , 0.24817927, 0.51331763, 0.6551637 , 0.79715009],\n",
       "       [0.42253708, 0.24474893, 0.27963863, 0.01771509, 0.89211518],\n",
       "       [0.57335614, 0.61300471, 0.40717674, 0.08549452, 0.04244156],\n",
       "       [0.96529077, 0.87946914, 0.71806047, 0.52545259, 0.96131564],\n",
       "       [0.57968664, 0.97142878, 0.09439642, 0.28490671, 0.98485552],\n",
       "       [0.23957182, 0.97737104, 0.80234145, 0.73288291, 0.87055257],\n",
       "       [0.44346164, 0.48075562, 0.90135794, 0.12484963, 0.40437861],\n",
       "       [0.09197983, 0.81247544, 0.12394999, 0.46068291, 0.21052968],\n",
       "       [0.13353714, 0.46723784, 0.04622671, 0.66609222, 0.97940835],\n",
       "       [0.78364204, 0.85035609, 0.42707098, 0.58358839, 0.20409372],\n",
       "       [0.94083201, 0.17714531, 0.40497237, 0.91795843, 0.9730511 ],\n",
       "       [0.9266498 , 0.36106879, 0.40496567, 0.41363171, 0.53998853],\n",
       "       [0.61342117, 0.57908669, 0.21074144, 0.84376987, 0.2154542 ],\n",
       "       [0.1358717 , 0.49319834, 0.41513576, 0.52636498, 0.48799033],\n",
       "       [0.48202982, 0.56045508, 0.50024961, 0.83471884, 0.48079867],\n",
       "       [0.69537486, 0.98801376, 0.35801536, 0.35385361, 0.61993073],\n",
       "       [0.70524398, 0.90077411, 0.50958275, 0.49006846, 0.0509138 ],\n",
       "       [0.44209512, 0.04985223, 0.89191521, 0.3294331 , 0.01908167],\n",
       "       [0.99483145, 0.68281723, 0.9477649 , 0.81598522, 0.25123   ],\n",
       "       [0.31887917, 0.17682515, 0.63375265, 0.85561304, 0.65583027],\n",
       "       [0.62085445, 0.0993042 , 0.89092473, 0.19893132, 0.51804008],\n",
       "       [0.70757475, 0.0422924 , 0.69668739, 0.17156558, 0.27929757],\n",
       "       [0.05936676, 0.04748593, 0.03759287, 0.84477152, 0.45075669],\n",
       "       [0.43157103, 0.29389433, 0.90453111, 0.07385892, 0.17262269],\n",
       "       [0.49990029, 0.85349312, 0.53201861, 0.13193771, 0.93942281],\n",
       "       [0.40277789, 0.19770235, 0.26095425, 0.65594109, 0.38914842],\n",
       "       [0.83846413, 0.16109425, 0.66724733, 0.72232729, 0.86240368],\n",
       "       [0.78686072, 0.39704197, 0.86007725, 0.98393064, 0.71524632],\n",
       "       [0.54865491, 0.66156762, 0.34710651, 0.0920543 , 0.75170471],\n",
       "       [0.44323088, 0.14043856, 0.37472918, 0.16227455, 0.05968647],\n",
       "       [0.2906618 , 0.07186828, 0.22060287, 0.26710715, 0.96606535],\n",
       "       [0.12394171, 0.79599579, 0.54657473, 0.18324681, 0.22362947],\n",
       "       [0.27601601, 0.38690341, 0.53768255, 0.5685669 , 0.62568555],\n",
       "       [0.59315427, 0.32012885, 0.39707109, 0.46937379, 0.97891412],\n",
       "       [0.33792893, 0.39239046, 0.76698353, 0.50889495, 0.68145491],\n",
       "       [0.72386212, 0.76788152, 0.64350337, 0.17438467, 0.01697399]])"
      ]
     },
     "execution_count": 18,
     "metadata": {},
     "output_type": "execute_result"
    }
   ],
   "source": [
    "d1 = dataf.to_numpy()\n",
    "d1"
   ]
  },
  {
   "cell_type": "code",
   "execution_count": 19,
   "metadata": {},
   "outputs": [
    {
     "data": {
      "text/plain": [
       "array([[0.7393515 , 0.67105707, 0.16949225, 0.85294082, 0.38973178,\n",
       "        0.3783606 , 0.33478993, 0.64980654, 0.97340478, 0.33623943,\n",
       "        0.70403398, 0.53277448, 0.90445384, 0.4837902 , 0.9862479 ,\n",
       "        0.42253708, 0.57335614, 0.96529077, 0.57968664, 0.23957182,\n",
       "        0.44346164, 0.09197983, 0.13353714, 0.78364204, 0.94083201,\n",
       "        0.9266498 , 0.61342117, 0.1358717 , 0.48202982, 0.69537486,\n",
       "        0.70524398, 0.44209512, 0.99483145, 0.31887917, 0.62085445,\n",
       "        0.70757475, 0.05936676, 0.43157103, 0.49990029, 0.40277789,\n",
       "        0.83846413, 0.78686072, 0.54865491, 0.44323088, 0.2906618 ,\n",
       "        0.12394171, 0.27601601, 0.59315427, 0.33792893, 0.72386212],\n",
       "       [0.1410113 , 0.95720862, 0.90963359, 0.29990849, 0.14341489,\n",
       "        0.06620189, 0.95365972, 0.84741828, 0.59362464, 0.97435094,\n",
       "        0.15963808, 0.28288425, 0.57488759, 0.63158316, 0.24817927,\n",
       "        0.24474893, 0.61300471, 0.87946914, 0.97142878, 0.97737104,\n",
       "        0.48075562, 0.81247544, 0.46723784, 0.85035609, 0.17714531,\n",
       "        0.36106879, 0.57908669, 0.49319834, 0.56045508, 0.98801376,\n",
       "        0.90077411, 0.04985223, 0.68281723, 0.17682515, 0.0993042 ,\n",
       "        0.0422924 , 0.04748593, 0.29389433, 0.85349312, 0.19770235,\n",
       "        0.16109425, 0.39704197, 0.66156762, 0.14043856, 0.07186828,\n",
       "        0.79599579, 0.38690341, 0.32012885, 0.39239046, 0.76788152],\n",
       "       [0.95232446, 0.76273975, 0.0566862 , 0.32708384, 0.52974695,\n",
       "        0.40777707, 0.63622107, 0.97771612, 0.82962848, 0.61054717,\n",
       "        0.04998997, 0.20784172, 0.19792259, 0.43378344, 0.51331763,\n",
       "        0.27963863, 0.40717674, 0.71806047, 0.09439642, 0.80234145,\n",
       "        0.90135794, 0.12394999, 0.04622671, 0.42707098, 0.40497237,\n",
       "        0.40496567, 0.21074144, 0.41513576, 0.50024961, 0.35801536,\n",
       "        0.50958275, 0.89191521, 0.9477649 , 0.63375265, 0.89092473,\n",
       "        0.69668739, 0.03759287, 0.90453111, 0.53201861, 0.26095425,\n",
       "        0.66724733, 0.86007725, 0.34710651, 0.37472918, 0.22060287,\n",
       "        0.54657473, 0.53768255, 0.39707109, 0.76698353, 0.64350337],\n",
       "       [0.27968595, 0.20318665, 0.05422452, 0.4506501 , 0.81087479,\n",
       "        0.93989169, 0.34372466, 0.76349159, 0.87709887, 0.55461407,\n",
       "        0.14036765, 0.31909872, 0.19024968, 0.74442296, 0.6551637 ,\n",
       "        0.01771509, 0.08549452, 0.52545259, 0.28490671, 0.73288291,\n",
       "        0.12484963, 0.46068291, 0.66609222, 0.58358839, 0.91795843,\n",
       "        0.41363171, 0.84376987, 0.52636498, 0.83471884, 0.35385361,\n",
       "        0.49006846, 0.3294331 , 0.81598522, 0.85561304, 0.19893132,\n",
       "        0.17156558, 0.84477152, 0.07385892, 0.13193771, 0.65594109,\n",
       "        0.72232729, 0.98393064, 0.0920543 , 0.16227455, 0.26710715,\n",
       "        0.18324681, 0.5685669 , 0.46937379, 0.50889495, 0.17438467],\n",
       "       [0.52121743, 0.7837203 , 0.34295278, 0.07945654, 0.14011717,\n",
       "        0.38610238, 0.11275837, 0.39733983, 0.35612845, 0.84265851,\n",
       "        0.17432382, 0.13089884, 0.71321779, 0.73244945, 0.79715009,\n",
       "        0.89211518, 0.04244156, 0.96131564, 0.98485552, 0.87055257,\n",
       "        0.40437861, 0.21052968, 0.97940835, 0.20409372, 0.9730511 ,\n",
       "        0.53998853, 0.2154542 , 0.48799033, 0.48079867, 0.61993073,\n",
       "        0.0509138 , 0.01908167, 0.25123   , 0.65583027, 0.51804008,\n",
       "        0.27929757, 0.45075669, 0.17262269, 0.93942281, 0.38914842,\n",
       "        0.86240368, 0.71524632, 0.75170471, 0.05968647, 0.96606535,\n",
       "        0.22362947, 0.62568555, 0.97891412, 0.68145491, 0.01697399]])"
      ]
     },
     "execution_count": 19,
     "metadata": {},
     "output_type": "execute_result"
    }
   ],
   "source": [
    "d1.T"
   ]
  },
  {
   "cell_type": "markdown",
   "metadata": {},
   "source": [
    "### Example 19\n",
    "- `Change names of the columns.`"
   ]
  },
  {
   "cell_type": "code",
   "execution_count": 20,
   "metadata": {},
   "outputs": [
    {
     "data": {
      "text/html": [
       "<div>\n",
       "<style scoped>\n",
       "    .dataframe tbody tr th:only-of-type {\n",
       "        vertical-align: middle;\n",
       "    }\n",
       "\n",
       "    .dataframe tbody tr th {\n",
       "        vertical-align: top;\n",
       "    }\n",
       "\n",
       "    .dataframe thead th {\n",
       "        text-align: right;\n",
       "    }\n",
       "</style>\n",
       "<table border=\"1\" class=\"dataframe\">\n",
       "  <thead>\n",
       "    <tr style=\"text-align: right;\">\n",
       "      <th></th>\n",
       "      <th>A</th>\n",
       "      <th>B</th>\n",
       "      <th>C</th>\n",
       "      <th>D</th>\n",
       "      <th>E</th>\n",
       "    </tr>\n",
       "  </thead>\n",
       "  <tbody>\n",
       "    <tr>\n",
       "      <th>0</th>\n",
       "      <td>0.739351</td>\n",
       "      <td>0.141011</td>\n",
       "      <td>0.952324</td>\n",
       "      <td>0.279686</td>\n",
       "      <td>0.521217</td>\n",
       "    </tr>\n",
       "    <tr>\n",
       "      <th>1</th>\n",
       "      <td>0.671057</td>\n",
       "      <td>0.957209</td>\n",
       "      <td>0.762740</td>\n",
       "      <td>0.203187</td>\n",
       "      <td>0.783720</td>\n",
       "    </tr>\n",
       "    <tr>\n",
       "      <th>2</th>\n",
       "      <td>0.169492</td>\n",
       "      <td>0.909634</td>\n",
       "      <td>0.056686</td>\n",
       "      <td>0.054225</td>\n",
       "      <td>0.342953</td>\n",
       "    </tr>\n",
       "    <tr>\n",
       "      <th>3</th>\n",
       "      <td>0.852941</td>\n",
       "      <td>0.299908</td>\n",
       "      <td>0.327084</td>\n",
       "      <td>0.450650</td>\n",
       "      <td>0.079457</td>\n",
       "    </tr>\n",
       "    <tr>\n",
       "      <th>4</th>\n",
       "      <td>0.389732</td>\n",
       "      <td>0.143415</td>\n",
       "      <td>0.529747</td>\n",
       "      <td>0.810875</td>\n",
       "      <td>0.140117</td>\n",
       "    </tr>\n",
       "    <tr>\n",
       "      <th>5</th>\n",
       "      <td>0.378361</td>\n",
       "      <td>0.066202</td>\n",
       "      <td>0.407777</td>\n",
       "      <td>0.939892</td>\n",
       "      <td>0.386102</td>\n",
       "    </tr>\n",
       "    <tr>\n",
       "      <th>6</th>\n",
       "      <td>0.334790</td>\n",
       "      <td>0.953660</td>\n",
       "      <td>0.636221</td>\n",
       "      <td>0.343725</td>\n",
       "      <td>0.112758</td>\n",
       "    </tr>\n",
       "    <tr>\n",
       "      <th>7</th>\n",
       "      <td>0.649807</td>\n",
       "      <td>0.847418</td>\n",
       "      <td>0.977716</td>\n",
       "      <td>0.763492</td>\n",
       "      <td>0.397340</td>\n",
       "    </tr>\n",
       "    <tr>\n",
       "      <th>8</th>\n",
       "      <td>0.973405</td>\n",
       "      <td>0.593625</td>\n",
       "      <td>0.829628</td>\n",
       "      <td>0.877099</td>\n",
       "      <td>0.356128</td>\n",
       "    </tr>\n",
       "    <tr>\n",
       "      <th>9</th>\n",
       "      <td>0.336239</td>\n",
       "      <td>0.974351</td>\n",
       "      <td>0.610547</td>\n",
       "      <td>0.554614</td>\n",
       "      <td>0.842659</td>\n",
       "    </tr>\n",
       "    <tr>\n",
       "      <th>10</th>\n",
       "      <td>0.704034</td>\n",
       "      <td>0.159638</td>\n",
       "      <td>0.049990</td>\n",
       "      <td>0.140368</td>\n",
       "      <td>0.174324</td>\n",
       "    </tr>\n",
       "    <tr>\n",
       "      <th>11</th>\n",
       "      <td>0.532774</td>\n",
       "      <td>0.282884</td>\n",
       "      <td>0.207842</td>\n",
       "      <td>0.319099</td>\n",
       "      <td>0.130899</td>\n",
       "    </tr>\n",
       "    <tr>\n",
       "      <th>12</th>\n",
       "      <td>0.904454</td>\n",
       "      <td>0.574888</td>\n",
       "      <td>0.197923</td>\n",
       "      <td>0.190250</td>\n",
       "      <td>0.713218</td>\n",
       "    </tr>\n",
       "    <tr>\n",
       "      <th>13</th>\n",
       "      <td>0.483790</td>\n",
       "      <td>0.631583</td>\n",
       "      <td>0.433783</td>\n",
       "      <td>0.744423</td>\n",
       "      <td>0.732449</td>\n",
       "    </tr>\n",
       "    <tr>\n",
       "      <th>14</th>\n",
       "      <td>0.986248</td>\n",
       "      <td>0.248179</td>\n",
       "      <td>0.513318</td>\n",
       "      <td>0.655164</td>\n",
       "      <td>0.797150</td>\n",
       "    </tr>\n",
       "    <tr>\n",
       "      <th>15</th>\n",
       "      <td>0.422537</td>\n",
       "      <td>0.244749</td>\n",
       "      <td>0.279639</td>\n",
       "      <td>0.017715</td>\n",
       "      <td>0.892115</td>\n",
       "    </tr>\n",
       "    <tr>\n",
       "      <th>16</th>\n",
       "      <td>0.573356</td>\n",
       "      <td>0.613005</td>\n",
       "      <td>0.407177</td>\n",
       "      <td>0.085495</td>\n",
       "      <td>0.042442</td>\n",
       "    </tr>\n",
       "    <tr>\n",
       "      <th>17</th>\n",
       "      <td>0.965291</td>\n",
       "      <td>0.879469</td>\n",
       "      <td>0.718060</td>\n",
       "      <td>0.525453</td>\n",
       "      <td>0.961316</td>\n",
       "    </tr>\n",
       "    <tr>\n",
       "      <th>18</th>\n",
       "      <td>0.579687</td>\n",
       "      <td>0.971429</td>\n",
       "      <td>0.094396</td>\n",
       "      <td>0.284907</td>\n",
       "      <td>0.984856</td>\n",
       "    </tr>\n",
       "    <tr>\n",
       "      <th>19</th>\n",
       "      <td>0.239572</td>\n",
       "      <td>0.977371</td>\n",
       "      <td>0.802341</td>\n",
       "      <td>0.732883</td>\n",
       "      <td>0.870553</td>\n",
       "    </tr>\n",
       "    <tr>\n",
       "      <th>20</th>\n",
       "      <td>0.443462</td>\n",
       "      <td>0.480756</td>\n",
       "      <td>0.901358</td>\n",
       "      <td>0.124850</td>\n",
       "      <td>0.404379</td>\n",
       "    </tr>\n",
       "    <tr>\n",
       "      <th>21</th>\n",
       "      <td>0.091980</td>\n",
       "      <td>0.812475</td>\n",
       "      <td>0.123950</td>\n",
       "      <td>0.460683</td>\n",
       "      <td>0.210530</td>\n",
       "    </tr>\n",
       "    <tr>\n",
       "      <th>22</th>\n",
       "      <td>0.133537</td>\n",
       "      <td>0.467238</td>\n",
       "      <td>0.046227</td>\n",
       "      <td>0.666092</td>\n",
       "      <td>0.979408</td>\n",
       "    </tr>\n",
       "    <tr>\n",
       "      <th>23</th>\n",
       "      <td>0.783642</td>\n",
       "      <td>0.850356</td>\n",
       "      <td>0.427071</td>\n",
       "      <td>0.583588</td>\n",
       "      <td>0.204094</td>\n",
       "    </tr>\n",
       "    <tr>\n",
       "      <th>24</th>\n",
       "      <td>0.940832</td>\n",
       "      <td>0.177145</td>\n",
       "      <td>0.404972</td>\n",
       "      <td>0.917958</td>\n",
       "      <td>0.973051</td>\n",
       "    </tr>\n",
       "    <tr>\n",
       "      <th>25</th>\n",
       "      <td>0.926650</td>\n",
       "      <td>0.361069</td>\n",
       "      <td>0.404966</td>\n",
       "      <td>0.413632</td>\n",
       "      <td>0.539989</td>\n",
       "    </tr>\n",
       "    <tr>\n",
       "      <th>26</th>\n",
       "      <td>0.613421</td>\n",
       "      <td>0.579087</td>\n",
       "      <td>0.210741</td>\n",
       "      <td>0.843770</td>\n",
       "      <td>0.215454</td>\n",
       "    </tr>\n",
       "    <tr>\n",
       "      <th>27</th>\n",
       "      <td>0.135872</td>\n",
       "      <td>0.493198</td>\n",
       "      <td>0.415136</td>\n",
       "      <td>0.526365</td>\n",
       "      <td>0.487990</td>\n",
       "    </tr>\n",
       "    <tr>\n",
       "      <th>28</th>\n",
       "      <td>0.482030</td>\n",
       "      <td>0.560455</td>\n",
       "      <td>0.500250</td>\n",
       "      <td>0.834719</td>\n",
       "      <td>0.480799</td>\n",
       "    </tr>\n",
       "    <tr>\n",
       "      <th>29</th>\n",
       "      <td>0.695375</td>\n",
       "      <td>0.988014</td>\n",
       "      <td>0.358015</td>\n",
       "      <td>0.353854</td>\n",
       "      <td>0.619931</td>\n",
       "    </tr>\n",
       "    <tr>\n",
       "      <th>30</th>\n",
       "      <td>0.705244</td>\n",
       "      <td>0.900774</td>\n",
       "      <td>0.509583</td>\n",
       "      <td>0.490068</td>\n",
       "      <td>0.050914</td>\n",
       "    </tr>\n",
       "    <tr>\n",
       "      <th>31</th>\n",
       "      <td>0.442095</td>\n",
       "      <td>0.049852</td>\n",
       "      <td>0.891915</td>\n",
       "      <td>0.329433</td>\n",
       "      <td>0.019082</td>\n",
       "    </tr>\n",
       "    <tr>\n",
       "      <th>32</th>\n",
       "      <td>0.994831</td>\n",
       "      <td>0.682817</td>\n",
       "      <td>0.947765</td>\n",
       "      <td>0.815985</td>\n",
       "      <td>0.251230</td>\n",
       "    </tr>\n",
       "    <tr>\n",
       "      <th>33</th>\n",
       "      <td>0.318879</td>\n",
       "      <td>0.176825</td>\n",
       "      <td>0.633753</td>\n",
       "      <td>0.855613</td>\n",
       "      <td>0.655830</td>\n",
       "    </tr>\n",
       "    <tr>\n",
       "      <th>34</th>\n",
       "      <td>0.620854</td>\n",
       "      <td>0.099304</td>\n",
       "      <td>0.890925</td>\n",
       "      <td>0.198931</td>\n",
       "      <td>0.518040</td>\n",
       "    </tr>\n",
       "    <tr>\n",
       "      <th>35</th>\n",
       "      <td>0.707575</td>\n",
       "      <td>0.042292</td>\n",
       "      <td>0.696687</td>\n",
       "      <td>0.171566</td>\n",
       "      <td>0.279298</td>\n",
       "    </tr>\n",
       "    <tr>\n",
       "      <th>36</th>\n",
       "      <td>0.059367</td>\n",
       "      <td>0.047486</td>\n",
       "      <td>0.037593</td>\n",
       "      <td>0.844772</td>\n",
       "      <td>0.450757</td>\n",
       "    </tr>\n",
       "    <tr>\n",
       "      <th>37</th>\n",
       "      <td>0.431571</td>\n",
       "      <td>0.293894</td>\n",
       "      <td>0.904531</td>\n",
       "      <td>0.073859</td>\n",
       "      <td>0.172623</td>\n",
       "    </tr>\n",
       "    <tr>\n",
       "      <th>38</th>\n",
       "      <td>0.499900</td>\n",
       "      <td>0.853493</td>\n",
       "      <td>0.532019</td>\n",
       "      <td>0.131938</td>\n",
       "      <td>0.939423</td>\n",
       "    </tr>\n",
       "    <tr>\n",
       "      <th>39</th>\n",
       "      <td>0.402778</td>\n",
       "      <td>0.197702</td>\n",
       "      <td>0.260954</td>\n",
       "      <td>0.655941</td>\n",
       "      <td>0.389148</td>\n",
       "    </tr>\n",
       "    <tr>\n",
       "      <th>40</th>\n",
       "      <td>0.838464</td>\n",
       "      <td>0.161094</td>\n",
       "      <td>0.667247</td>\n",
       "      <td>0.722327</td>\n",
       "      <td>0.862404</td>\n",
       "    </tr>\n",
       "    <tr>\n",
       "      <th>41</th>\n",
       "      <td>0.786861</td>\n",
       "      <td>0.397042</td>\n",
       "      <td>0.860077</td>\n",
       "      <td>0.983931</td>\n",
       "      <td>0.715246</td>\n",
       "    </tr>\n",
       "    <tr>\n",
       "      <th>42</th>\n",
       "      <td>0.548655</td>\n",
       "      <td>0.661568</td>\n",
       "      <td>0.347107</td>\n",
       "      <td>0.092054</td>\n",
       "      <td>0.751705</td>\n",
       "    </tr>\n",
       "    <tr>\n",
       "      <th>43</th>\n",
       "      <td>0.443231</td>\n",
       "      <td>0.140439</td>\n",
       "      <td>0.374729</td>\n",
       "      <td>0.162275</td>\n",
       "      <td>0.059686</td>\n",
       "    </tr>\n",
       "    <tr>\n",
       "      <th>44</th>\n",
       "      <td>0.290662</td>\n",
       "      <td>0.071868</td>\n",
       "      <td>0.220603</td>\n",
       "      <td>0.267107</td>\n",
       "      <td>0.966065</td>\n",
       "    </tr>\n",
       "    <tr>\n",
       "      <th>45</th>\n",
       "      <td>0.123942</td>\n",
       "      <td>0.795996</td>\n",
       "      <td>0.546575</td>\n",
       "      <td>0.183247</td>\n",
       "      <td>0.223629</td>\n",
       "    </tr>\n",
       "    <tr>\n",
       "      <th>46</th>\n",
       "      <td>0.276016</td>\n",
       "      <td>0.386903</td>\n",
       "      <td>0.537683</td>\n",
       "      <td>0.568567</td>\n",
       "      <td>0.625686</td>\n",
       "    </tr>\n",
       "    <tr>\n",
       "      <th>47</th>\n",
       "      <td>0.593154</td>\n",
       "      <td>0.320129</td>\n",
       "      <td>0.397071</td>\n",
       "      <td>0.469374</td>\n",
       "      <td>0.978914</td>\n",
       "    </tr>\n",
       "    <tr>\n",
       "      <th>48</th>\n",
       "      <td>0.337929</td>\n",
       "      <td>0.392390</td>\n",
       "      <td>0.766984</td>\n",
       "      <td>0.508895</td>\n",
       "      <td>0.681455</td>\n",
       "    </tr>\n",
       "    <tr>\n",
       "      <th>49</th>\n",
       "      <td>0.723862</td>\n",
       "      <td>0.767882</td>\n",
       "      <td>0.643503</td>\n",
       "      <td>0.174385</td>\n",
       "      <td>0.016974</td>\n",
       "    </tr>\n",
       "  </tbody>\n",
       "</table>\n",
       "</div>"
      ],
      "text/plain": [
       "           A         B         C         D         E\n",
       "0   0.739351  0.141011  0.952324  0.279686  0.521217\n",
       "1   0.671057  0.957209  0.762740  0.203187  0.783720\n",
       "2   0.169492  0.909634  0.056686  0.054225  0.342953\n",
       "3   0.852941  0.299908  0.327084  0.450650  0.079457\n",
       "4   0.389732  0.143415  0.529747  0.810875  0.140117\n",
       "5   0.378361  0.066202  0.407777  0.939892  0.386102\n",
       "6   0.334790  0.953660  0.636221  0.343725  0.112758\n",
       "7   0.649807  0.847418  0.977716  0.763492  0.397340\n",
       "8   0.973405  0.593625  0.829628  0.877099  0.356128\n",
       "9   0.336239  0.974351  0.610547  0.554614  0.842659\n",
       "10  0.704034  0.159638  0.049990  0.140368  0.174324\n",
       "11  0.532774  0.282884  0.207842  0.319099  0.130899\n",
       "12  0.904454  0.574888  0.197923  0.190250  0.713218\n",
       "13  0.483790  0.631583  0.433783  0.744423  0.732449\n",
       "14  0.986248  0.248179  0.513318  0.655164  0.797150\n",
       "15  0.422537  0.244749  0.279639  0.017715  0.892115\n",
       "16  0.573356  0.613005  0.407177  0.085495  0.042442\n",
       "17  0.965291  0.879469  0.718060  0.525453  0.961316\n",
       "18  0.579687  0.971429  0.094396  0.284907  0.984856\n",
       "19  0.239572  0.977371  0.802341  0.732883  0.870553\n",
       "20  0.443462  0.480756  0.901358  0.124850  0.404379\n",
       "21  0.091980  0.812475  0.123950  0.460683  0.210530\n",
       "22  0.133537  0.467238  0.046227  0.666092  0.979408\n",
       "23  0.783642  0.850356  0.427071  0.583588  0.204094\n",
       "24  0.940832  0.177145  0.404972  0.917958  0.973051\n",
       "25  0.926650  0.361069  0.404966  0.413632  0.539989\n",
       "26  0.613421  0.579087  0.210741  0.843770  0.215454\n",
       "27  0.135872  0.493198  0.415136  0.526365  0.487990\n",
       "28  0.482030  0.560455  0.500250  0.834719  0.480799\n",
       "29  0.695375  0.988014  0.358015  0.353854  0.619931\n",
       "30  0.705244  0.900774  0.509583  0.490068  0.050914\n",
       "31  0.442095  0.049852  0.891915  0.329433  0.019082\n",
       "32  0.994831  0.682817  0.947765  0.815985  0.251230\n",
       "33  0.318879  0.176825  0.633753  0.855613  0.655830\n",
       "34  0.620854  0.099304  0.890925  0.198931  0.518040\n",
       "35  0.707575  0.042292  0.696687  0.171566  0.279298\n",
       "36  0.059367  0.047486  0.037593  0.844772  0.450757\n",
       "37  0.431571  0.293894  0.904531  0.073859  0.172623\n",
       "38  0.499900  0.853493  0.532019  0.131938  0.939423\n",
       "39  0.402778  0.197702  0.260954  0.655941  0.389148\n",
       "40  0.838464  0.161094  0.667247  0.722327  0.862404\n",
       "41  0.786861  0.397042  0.860077  0.983931  0.715246\n",
       "42  0.548655  0.661568  0.347107  0.092054  0.751705\n",
       "43  0.443231  0.140439  0.374729  0.162275  0.059686\n",
       "44  0.290662  0.071868  0.220603  0.267107  0.966065\n",
       "45  0.123942  0.795996  0.546575  0.183247  0.223629\n",
       "46  0.276016  0.386903  0.537683  0.568567  0.625686\n",
       "47  0.593154  0.320129  0.397071  0.469374  0.978914\n",
       "48  0.337929  0.392390  0.766984  0.508895  0.681455\n",
       "49  0.723862  0.767882  0.643503  0.174385  0.016974"
      ]
     },
     "execution_count": 20,
     "metadata": {},
     "output_type": "execute_result"
    }
   ],
   "source": [
    "dataf.columns = ['A', 'B', 'C', 'D', 'E']\n",
    "dataf"
   ]
  },
  {
   "cell_type": "markdown",
   "metadata": {},
   "source": [
    "### Example 20\n",
    "- `Display column B and C from the dataset and also use head function`"
   ]
  },
  {
   "cell_type": "code",
   "execution_count": 21,
   "metadata": {},
   "outputs": [
    {
     "data": {
      "text/html": [
       "<div>\n",
       "<style scoped>\n",
       "    .dataframe tbody tr th:only-of-type {\n",
       "        vertical-align: middle;\n",
       "    }\n",
       "\n",
       "    .dataframe tbody tr th {\n",
       "        vertical-align: top;\n",
       "    }\n",
       "\n",
       "    .dataframe thead th {\n",
       "        text-align: right;\n",
       "    }\n",
       "</style>\n",
       "<table border=\"1\" class=\"dataframe\">\n",
       "  <thead>\n",
       "    <tr style=\"text-align: right;\">\n",
       "      <th></th>\n",
       "      <th>B</th>\n",
       "      <th>C</th>\n",
       "    </tr>\n",
       "  </thead>\n",
       "  <tbody>\n",
       "    <tr>\n",
       "      <th>0</th>\n",
       "      <td>0.141011</td>\n",
       "      <td>0.952324</td>\n",
       "    </tr>\n",
       "    <tr>\n",
       "      <th>1</th>\n",
       "      <td>0.957209</td>\n",
       "      <td>0.762740</td>\n",
       "    </tr>\n",
       "    <tr>\n",
       "      <th>2</th>\n",
       "      <td>0.909634</td>\n",
       "      <td>0.056686</td>\n",
       "    </tr>\n",
       "    <tr>\n",
       "      <th>3</th>\n",
       "      <td>0.299908</td>\n",
       "      <td>0.327084</td>\n",
       "    </tr>\n",
       "    <tr>\n",
       "      <th>4</th>\n",
       "      <td>0.143415</td>\n",
       "      <td>0.529747</td>\n",
       "    </tr>\n",
       "    <tr>\n",
       "      <th>5</th>\n",
       "      <td>0.066202</td>\n",
       "      <td>0.407777</td>\n",
       "    </tr>\n",
       "    <tr>\n",
       "      <th>6</th>\n",
       "      <td>0.953660</td>\n",
       "      <td>0.636221</td>\n",
       "    </tr>\n",
       "    <tr>\n",
       "      <th>7</th>\n",
       "      <td>0.847418</td>\n",
       "      <td>0.977716</td>\n",
       "    </tr>\n",
       "    <tr>\n",
       "      <th>8</th>\n",
       "      <td>0.593625</td>\n",
       "      <td>0.829628</td>\n",
       "    </tr>\n",
       "    <tr>\n",
       "      <th>9</th>\n",
       "      <td>0.974351</td>\n",
       "      <td>0.610547</td>\n",
       "    </tr>\n",
       "    <tr>\n",
       "      <th>10</th>\n",
       "      <td>0.159638</td>\n",
       "      <td>0.049990</td>\n",
       "    </tr>\n",
       "    <tr>\n",
       "      <th>11</th>\n",
       "      <td>0.282884</td>\n",
       "      <td>0.207842</td>\n",
       "    </tr>\n",
       "    <tr>\n",
       "      <th>12</th>\n",
       "      <td>0.574888</td>\n",
       "      <td>0.197923</td>\n",
       "    </tr>\n",
       "    <tr>\n",
       "      <th>13</th>\n",
       "      <td>0.631583</td>\n",
       "      <td>0.433783</td>\n",
       "    </tr>\n",
       "    <tr>\n",
       "      <th>14</th>\n",
       "      <td>0.248179</td>\n",
       "      <td>0.513318</td>\n",
       "    </tr>\n",
       "    <tr>\n",
       "      <th>15</th>\n",
       "      <td>0.244749</td>\n",
       "      <td>0.279639</td>\n",
       "    </tr>\n",
       "    <tr>\n",
       "      <th>16</th>\n",
       "      <td>0.613005</td>\n",
       "      <td>0.407177</td>\n",
       "    </tr>\n",
       "    <tr>\n",
       "      <th>17</th>\n",
       "      <td>0.879469</td>\n",
       "      <td>0.718060</td>\n",
       "    </tr>\n",
       "    <tr>\n",
       "      <th>18</th>\n",
       "      <td>0.971429</td>\n",
       "      <td>0.094396</td>\n",
       "    </tr>\n",
       "    <tr>\n",
       "      <th>19</th>\n",
       "      <td>0.977371</td>\n",
       "      <td>0.802341</td>\n",
       "    </tr>\n",
       "    <tr>\n",
       "      <th>20</th>\n",
       "      <td>0.480756</td>\n",
       "      <td>0.901358</td>\n",
       "    </tr>\n",
       "    <tr>\n",
       "      <th>21</th>\n",
       "      <td>0.812475</td>\n",
       "      <td>0.123950</td>\n",
       "    </tr>\n",
       "    <tr>\n",
       "      <th>22</th>\n",
       "      <td>0.467238</td>\n",
       "      <td>0.046227</td>\n",
       "    </tr>\n",
       "    <tr>\n",
       "      <th>23</th>\n",
       "      <td>0.850356</td>\n",
       "      <td>0.427071</td>\n",
       "    </tr>\n",
       "    <tr>\n",
       "      <th>24</th>\n",
       "      <td>0.177145</td>\n",
       "      <td>0.404972</td>\n",
       "    </tr>\n",
       "    <tr>\n",
       "      <th>25</th>\n",
       "      <td>0.361069</td>\n",
       "      <td>0.404966</td>\n",
       "    </tr>\n",
       "    <tr>\n",
       "      <th>26</th>\n",
       "      <td>0.579087</td>\n",
       "      <td>0.210741</td>\n",
       "    </tr>\n",
       "    <tr>\n",
       "      <th>27</th>\n",
       "      <td>0.493198</td>\n",
       "      <td>0.415136</td>\n",
       "    </tr>\n",
       "    <tr>\n",
       "      <th>28</th>\n",
       "      <td>0.560455</td>\n",
       "      <td>0.500250</td>\n",
       "    </tr>\n",
       "    <tr>\n",
       "      <th>29</th>\n",
       "      <td>0.988014</td>\n",
       "      <td>0.358015</td>\n",
       "    </tr>\n",
       "    <tr>\n",
       "      <th>30</th>\n",
       "      <td>0.900774</td>\n",
       "      <td>0.509583</td>\n",
       "    </tr>\n",
       "    <tr>\n",
       "      <th>31</th>\n",
       "      <td>0.049852</td>\n",
       "      <td>0.891915</td>\n",
       "    </tr>\n",
       "    <tr>\n",
       "      <th>32</th>\n",
       "      <td>0.682817</td>\n",
       "      <td>0.947765</td>\n",
       "    </tr>\n",
       "    <tr>\n",
       "      <th>33</th>\n",
       "      <td>0.176825</td>\n",
       "      <td>0.633753</td>\n",
       "    </tr>\n",
       "    <tr>\n",
       "      <th>34</th>\n",
       "      <td>0.099304</td>\n",
       "      <td>0.890925</td>\n",
       "    </tr>\n",
       "    <tr>\n",
       "      <th>35</th>\n",
       "      <td>0.042292</td>\n",
       "      <td>0.696687</td>\n",
       "    </tr>\n",
       "    <tr>\n",
       "      <th>36</th>\n",
       "      <td>0.047486</td>\n",
       "      <td>0.037593</td>\n",
       "    </tr>\n",
       "    <tr>\n",
       "      <th>37</th>\n",
       "      <td>0.293894</td>\n",
       "      <td>0.904531</td>\n",
       "    </tr>\n",
       "    <tr>\n",
       "      <th>38</th>\n",
       "      <td>0.853493</td>\n",
       "      <td>0.532019</td>\n",
       "    </tr>\n",
       "    <tr>\n",
       "      <th>39</th>\n",
       "      <td>0.197702</td>\n",
       "      <td>0.260954</td>\n",
       "    </tr>\n",
       "    <tr>\n",
       "      <th>40</th>\n",
       "      <td>0.161094</td>\n",
       "      <td>0.667247</td>\n",
       "    </tr>\n",
       "    <tr>\n",
       "      <th>41</th>\n",
       "      <td>0.397042</td>\n",
       "      <td>0.860077</td>\n",
       "    </tr>\n",
       "    <tr>\n",
       "      <th>42</th>\n",
       "      <td>0.661568</td>\n",
       "      <td>0.347107</td>\n",
       "    </tr>\n",
       "    <tr>\n",
       "      <th>43</th>\n",
       "      <td>0.140439</td>\n",
       "      <td>0.374729</td>\n",
       "    </tr>\n",
       "    <tr>\n",
       "      <th>44</th>\n",
       "      <td>0.071868</td>\n",
       "      <td>0.220603</td>\n",
       "    </tr>\n",
       "    <tr>\n",
       "      <th>45</th>\n",
       "      <td>0.795996</td>\n",
       "      <td>0.546575</td>\n",
       "    </tr>\n",
       "    <tr>\n",
       "      <th>46</th>\n",
       "      <td>0.386903</td>\n",
       "      <td>0.537683</td>\n",
       "    </tr>\n",
       "    <tr>\n",
       "      <th>47</th>\n",
       "      <td>0.320129</td>\n",
       "      <td>0.397071</td>\n",
       "    </tr>\n",
       "    <tr>\n",
       "      <th>48</th>\n",
       "      <td>0.392390</td>\n",
       "      <td>0.766984</td>\n",
       "    </tr>\n",
       "    <tr>\n",
       "      <th>49</th>\n",
       "      <td>0.767882</td>\n",
       "      <td>0.643503</td>\n",
       "    </tr>\n",
       "  </tbody>\n",
       "</table>\n",
       "</div>"
      ],
      "text/plain": [
       "           B         C\n",
       "0   0.141011  0.952324\n",
       "1   0.957209  0.762740\n",
       "2   0.909634  0.056686\n",
       "3   0.299908  0.327084\n",
       "4   0.143415  0.529747\n",
       "5   0.066202  0.407777\n",
       "6   0.953660  0.636221\n",
       "7   0.847418  0.977716\n",
       "8   0.593625  0.829628\n",
       "9   0.974351  0.610547\n",
       "10  0.159638  0.049990\n",
       "11  0.282884  0.207842\n",
       "12  0.574888  0.197923\n",
       "13  0.631583  0.433783\n",
       "14  0.248179  0.513318\n",
       "15  0.244749  0.279639\n",
       "16  0.613005  0.407177\n",
       "17  0.879469  0.718060\n",
       "18  0.971429  0.094396\n",
       "19  0.977371  0.802341\n",
       "20  0.480756  0.901358\n",
       "21  0.812475  0.123950\n",
       "22  0.467238  0.046227\n",
       "23  0.850356  0.427071\n",
       "24  0.177145  0.404972\n",
       "25  0.361069  0.404966\n",
       "26  0.579087  0.210741\n",
       "27  0.493198  0.415136\n",
       "28  0.560455  0.500250\n",
       "29  0.988014  0.358015\n",
       "30  0.900774  0.509583\n",
       "31  0.049852  0.891915\n",
       "32  0.682817  0.947765\n",
       "33  0.176825  0.633753\n",
       "34  0.099304  0.890925\n",
       "35  0.042292  0.696687\n",
       "36  0.047486  0.037593\n",
       "37  0.293894  0.904531\n",
       "38  0.853493  0.532019\n",
       "39  0.197702  0.260954\n",
       "40  0.161094  0.667247\n",
       "41  0.397042  0.860077\n",
       "42  0.661568  0.347107\n",
       "43  0.140439  0.374729\n",
       "44  0.071868  0.220603\n",
       "45  0.795996  0.546575\n",
       "46  0.386903  0.537683\n",
       "47  0.320129  0.397071\n",
       "48  0.392390  0.766984\n",
       "49  0.767882  0.643503"
      ]
     },
     "execution_count": 21,
     "metadata": {},
     "output_type": "execute_result"
    }
   ],
   "source": [
    "dataf[['B', 'C']]"
   ]
  },
  {
   "cell_type": "code",
   "execution_count": 22,
   "metadata": {},
   "outputs": [
    {
     "data": {
      "text/html": [
       "<div>\n",
       "<style scoped>\n",
       "    .dataframe tbody tr th:only-of-type {\n",
       "        vertical-align: middle;\n",
       "    }\n",
       "\n",
       "    .dataframe tbody tr th {\n",
       "        vertical-align: top;\n",
       "    }\n",
       "\n",
       "    .dataframe thead th {\n",
       "        text-align: right;\n",
       "    }\n",
       "</style>\n",
       "<table border=\"1\" class=\"dataframe\">\n",
       "  <thead>\n",
       "    <tr style=\"text-align: right;\">\n",
       "      <th></th>\n",
       "      <th>A</th>\n",
       "      <th>B</th>\n",
       "      <th>C</th>\n",
       "      <th>D</th>\n",
       "      <th>E</th>\n",
       "    </tr>\n",
       "  </thead>\n",
       "  <tbody>\n",
       "    <tr>\n",
       "      <th>0</th>\n",
       "      <td>0.739351</td>\n",
       "      <td>0.141011</td>\n",
       "      <td>0.952324</td>\n",
       "      <td>0.279686</td>\n",
       "      <td>0.521217</td>\n",
       "    </tr>\n",
       "    <tr>\n",
       "      <th>1</th>\n",
       "      <td>0.671057</td>\n",
       "      <td>0.957209</td>\n",
       "      <td>0.762740</td>\n",
       "      <td>0.203187</td>\n",
       "      <td>0.783720</td>\n",
       "    </tr>\n",
       "    <tr>\n",
       "      <th>2</th>\n",
       "      <td>0.169492</td>\n",
       "      <td>0.909634</td>\n",
       "      <td>0.056686</td>\n",
       "      <td>0.054225</td>\n",
       "      <td>0.342953</td>\n",
       "    </tr>\n",
       "    <tr>\n",
       "      <th>3</th>\n",
       "      <td>0.852941</td>\n",
       "      <td>0.299908</td>\n",
       "      <td>0.327084</td>\n",
       "      <td>0.450650</td>\n",
       "      <td>0.079457</td>\n",
       "    </tr>\n",
       "    <tr>\n",
       "      <th>4</th>\n",
       "      <td>0.389732</td>\n",
       "      <td>0.143415</td>\n",
       "      <td>0.529747</td>\n",
       "      <td>0.810875</td>\n",
       "      <td>0.140117</td>\n",
       "    </tr>\n",
       "  </tbody>\n",
       "</table>\n",
       "</div>"
      ],
      "text/plain": [
       "          A         B         C         D         E\n",
       "0  0.739351  0.141011  0.952324  0.279686  0.521217\n",
       "1  0.671057  0.957209  0.762740  0.203187  0.783720\n",
       "2  0.169492  0.909634  0.056686  0.054225  0.342953\n",
       "3  0.852941  0.299908  0.327084  0.450650  0.079457\n",
       "4  0.389732  0.143415  0.529747  0.810875  0.140117"
      ]
     },
     "execution_count": 22,
     "metadata": {},
     "output_type": "execute_result"
    }
   ],
   "source": [
    "dataf.head()"
   ]
  },
  {
   "cell_type": "markdown",
   "metadata": {},
   "source": [
    "### Example 21\n",
    "- `Demonstrate the use of iloc function`"
   ]
  },
  {
   "cell_type": "code",
   "execution_count": 23,
   "metadata": {},
   "outputs": [
    {
     "data": {
      "text/html": [
       "<div>\n",
       "<style scoped>\n",
       "    .dataframe tbody tr th:only-of-type {\n",
       "        vertical-align: middle;\n",
       "    }\n",
       "\n",
       "    .dataframe tbody tr th {\n",
       "        vertical-align: top;\n",
       "    }\n",
       "\n",
       "    .dataframe thead th {\n",
       "        text-align: right;\n",
       "    }\n",
       "</style>\n",
       "<table border=\"1\" class=\"dataframe\">\n",
       "  <thead>\n",
       "    <tr style=\"text-align: right;\">\n",
       "      <th></th>\n",
       "      <th>A</th>\n",
       "      <th>B</th>\n",
       "    </tr>\n",
       "  </thead>\n",
       "  <tbody>\n",
       "    <tr>\n",
       "      <th>0</th>\n",
       "      <td>0.739351</td>\n",
       "      <td>0.141011</td>\n",
       "    </tr>\n",
       "    <tr>\n",
       "      <th>1</th>\n",
       "      <td>0.671057</td>\n",
       "      <td>0.957209</td>\n",
       "    </tr>\n",
       "    <tr>\n",
       "      <th>2</th>\n",
       "      <td>0.169492</td>\n",
       "      <td>0.909634</td>\n",
       "    </tr>\n",
       "    <tr>\n",
       "      <th>3</th>\n",
       "      <td>0.852941</td>\n",
       "      <td>0.299908</td>\n",
       "    </tr>\n",
       "    <tr>\n",
       "      <th>4</th>\n",
       "      <td>0.389732</td>\n",
       "      <td>0.143415</td>\n",
       "    </tr>\n",
       "    <tr>\n",
       "      <th>5</th>\n",
       "      <td>0.378361</td>\n",
       "      <td>0.066202</td>\n",
       "    </tr>\n",
       "    <tr>\n",
       "      <th>6</th>\n",
       "      <td>0.334790</td>\n",
       "      <td>0.953660</td>\n",
       "    </tr>\n",
       "    <tr>\n",
       "      <th>7</th>\n",
       "      <td>0.649807</td>\n",
       "      <td>0.847418</td>\n",
       "    </tr>\n",
       "    <tr>\n",
       "      <th>8</th>\n",
       "      <td>0.973405</td>\n",
       "      <td>0.593625</td>\n",
       "    </tr>\n",
       "    <tr>\n",
       "      <th>9</th>\n",
       "      <td>0.336239</td>\n",
       "      <td>0.974351</td>\n",
       "    </tr>\n",
       "    <tr>\n",
       "      <th>10</th>\n",
       "      <td>0.704034</td>\n",
       "      <td>0.159638</td>\n",
       "    </tr>\n",
       "    <tr>\n",
       "      <th>11</th>\n",
       "      <td>0.532774</td>\n",
       "      <td>0.282884</td>\n",
       "    </tr>\n",
       "    <tr>\n",
       "      <th>12</th>\n",
       "      <td>0.904454</td>\n",
       "      <td>0.574888</td>\n",
       "    </tr>\n",
       "    <tr>\n",
       "      <th>13</th>\n",
       "      <td>0.483790</td>\n",
       "      <td>0.631583</td>\n",
       "    </tr>\n",
       "    <tr>\n",
       "      <th>14</th>\n",
       "      <td>0.986248</td>\n",
       "      <td>0.248179</td>\n",
       "    </tr>\n",
       "    <tr>\n",
       "      <th>15</th>\n",
       "      <td>0.422537</td>\n",
       "      <td>0.244749</td>\n",
       "    </tr>\n",
       "    <tr>\n",
       "      <th>16</th>\n",
       "      <td>0.573356</td>\n",
       "      <td>0.613005</td>\n",
       "    </tr>\n",
       "    <tr>\n",
       "      <th>17</th>\n",
       "      <td>0.965291</td>\n",
       "      <td>0.879469</td>\n",
       "    </tr>\n",
       "    <tr>\n",
       "      <th>18</th>\n",
       "      <td>0.579687</td>\n",
       "      <td>0.971429</td>\n",
       "    </tr>\n",
       "    <tr>\n",
       "      <th>19</th>\n",
       "      <td>0.239572</td>\n",
       "      <td>0.977371</td>\n",
       "    </tr>\n",
       "    <tr>\n",
       "      <th>20</th>\n",
       "      <td>0.443462</td>\n",
       "      <td>0.480756</td>\n",
       "    </tr>\n",
       "    <tr>\n",
       "      <th>21</th>\n",
       "      <td>0.091980</td>\n",
       "      <td>0.812475</td>\n",
       "    </tr>\n",
       "    <tr>\n",
       "      <th>22</th>\n",
       "      <td>0.133537</td>\n",
       "      <td>0.467238</td>\n",
       "    </tr>\n",
       "    <tr>\n",
       "      <th>23</th>\n",
       "      <td>0.783642</td>\n",
       "      <td>0.850356</td>\n",
       "    </tr>\n",
       "    <tr>\n",
       "      <th>24</th>\n",
       "      <td>0.940832</td>\n",
       "      <td>0.177145</td>\n",
       "    </tr>\n",
       "    <tr>\n",
       "      <th>25</th>\n",
       "      <td>0.926650</td>\n",
       "      <td>0.361069</td>\n",
       "    </tr>\n",
       "    <tr>\n",
       "      <th>26</th>\n",
       "      <td>0.613421</td>\n",
       "      <td>0.579087</td>\n",
       "    </tr>\n",
       "    <tr>\n",
       "      <th>27</th>\n",
       "      <td>0.135872</td>\n",
       "      <td>0.493198</td>\n",
       "    </tr>\n",
       "    <tr>\n",
       "      <th>28</th>\n",
       "      <td>0.482030</td>\n",
       "      <td>0.560455</td>\n",
       "    </tr>\n",
       "    <tr>\n",
       "      <th>29</th>\n",
       "      <td>0.695375</td>\n",
       "      <td>0.988014</td>\n",
       "    </tr>\n",
       "    <tr>\n",
       "      <th>30</th>\n",
       "      <td>0.705244</td>\n",
       "      <td>0.900774</td>\n",
       "    </tr>\n",
       "    <tr>\n",
       "      <th>31</th>\n",
       "      <td>0.442095</td>\n",
       "      <td>0.049852</td>\n",
       "    </tr>\n",
       "    <tr>\n",
       "      <th>32</th>\n",
       "      <td>0.994831</td>\n",
       "      <td>0.682817</td>\n",
       "    </tr>\n",
       "    <tr>\n",
       "      <th>33</th>\n",
       "      <td>0.318879</td>\n",
       "      <td>0.176825</td>\n",
       "    </tr>\n",
       "    <tr>\n",
       "      <th>34</th>\n",
       "      <td>0.620854</td>\n",
       "      <td>0.099304</td>\n",
       "    </tr>\n",
       "    <tr>\n",
       "      <th>35</th>\n",
       "      <td>0.707575</td>\n",
       "      <td>0.042292</td>\n",
       "    </tr>\n",
       "    <tr>\n",
       "      <th>36</th>\n",
       "      <td>0.059367</td>\n",
       "      <td>0.047486</td>\n",
       "    </tr>\n",
       "    <tr>\n",
       "      <th>37</th>\n",
       "      <td>0.431571</td>\n",
       "      <td>0.293894</td>\n",
       "    </tr>\n",
       "    <tr>\n",
       "      <th>38</th>\n",
       "      <td>0.499900</td>\n",
       "      <td>0.853493</td>\n",
       "    </tr>\n",
       "    <tr>\n",
       "      <th>39</th>\n",
       "      <td>0.402778</td>\n",
       "      <td>0.197702</td>\n",
       "    </tr>\n",
       "    <tr>\n",
       "      <th>40</th>\n",
       "      <td>0.838464</td>\n",
       "      <td>0.161094</td>\n",
       "    </tr>\n",
       "    <tr>\n",
       "      <th>41</th>\n",
       "      <td>0.786861</td>\n",
       "      <td>0.397042</td>\n",
       "    </tr>\n",
       "    <tr>\n",
       "      <th>42</th>\n",
       "      <td>0.548655</td>\n",
       "      <td>0.661568</td>\n",
       "    </tr>\n",
       "    <tr>\n",
       "      <th>43</th>\n",
       "      <td>0.443231</td>\n",
       "      <td>0.140439</td>\n",
       "    </tr>\n",
       "    <tr>\n",
       "      <th>44</th>\n",
       "      <td>0.290662</td>\n",
       "      <td>0.071868</td>\n",
       "    </tr>\n",
       "    <tr>\n",
       "      <th>45</th>\n",
       "      <td>0.123942</td>\n",
       "      <td>0.795996</td>\n",
       "    </tr>\n",
       "    <tr>\n",
       "      <th>46</th>\n",
       "      <td>0.276016</td>\n",
       "      <td>0.386903</td>\n",
       "    </tr>\n",
       "    <tr>\n",
       "      <th>47</th>\n",
       "      <td>0.593154</td>\n",
       "      <td>0.320129</td>\n",
       "    </tr>\n",
       "    <tr>\n",
       "      <th>48</th>\n",
       "      <td>0.337929</td>\n",
       "      <td>0.392390</td>\n",
       "    </tr>\n",
       "    <tr>\n",
       "      <th>49</th>\n",
       "      <td>0.723862</td>\n",
       "      <td>0.767882</td>\n",
       "    </tr>\n",
       "  </tbody>\n",
       "</table>\n",
       "</div>"
      ],
      "text/plain": [
       "           A         B\n",
       "0   0.739351  0.141011\n",
       "1   0.671057  0.957209\n",
       "2   0.169492  0.909634\n",
       "3   0.852941  0.299908\n",
       "4   0.389732  0.143415\n",
       "5   0.378361  0.066202\n",
       "6   0.334790  0.953660\n",
       "7   0.649807  0.847418\n",
       "8   0.973405  0.593625\n",
       "9   0.336239  0.974351\n",
       "10  0.704034  0.159638\n",
       "11  0.532774  0.282884\n",
       "12  0.904454  0.574888\n",
       "13  0.483790  0.631583\n",
       "14  0.986248  0.248179\n",
       "15  0.422537  0.244749\n",
       "16  0.573356  0.613005\n",
       "17  0.965291  0.879469\n",
       "18  0.579687  0.971429\n",
       "19  0.239572  0.977371\n",
       "20  0.443462  0.480756\n",
       "21  0.091980  0.812475\n",
       "22  0.133537  0.467238\n",
       "23  0.783642  0.850356\n",
       "24  0.940832  0.177145\n",
       "25  0.926650  0.361069\n",
       "26  0.613421  0.579087\n",
       "27  0.135872  0.493198\n",
       "28  0.482030  0.560455\n",
       "29  0.695375  0.988014\n",
       "30  0.705244  0.900774\n",
       "31  0.442095  0.049852\n",
       "32  0.994831  0.682817\n",
       "33  0.318879  0.176825\n",
       "34  0.620854  0.099304\n",
       "35  0.707575  0.042292\n",
       "36  0.059367  0.047486\n",
       "37  0.431571  0.293894\n",
       "38  0.499900  0.853493\n",
       "39  0.402778  0.197702\n",
       "40  0.838464  0.161094\n",
       "41  0.786861  0.397042\n",
       "42  0.548655  0.661568\n",
       "43  0.443231  0.140439\n",
       "44  0.290662  0.071868\n",
       "45  0.123942  0.795996\n",
       "46  0.276016  0.386903\n",
       "47  0.593154  0.320129\n",
       "48  0.337929  0.392390\n",
       "49  0.723862  0.767882"
      ]
     },
     "execution_count": 23,
     "metadata": {},
     "output_type": "execute_result"
    }
   ],
   "source": [
    "dataf.iloc[:, 0:2]   # : means all rows and 0:2 means cloumns till 2 "
   ]
  },
  {
   "cell_type": "markdown",
   "metadata": {},
   "source": [
    "### Example 22\n",
    "- `Print column A to C and fimd the value on 0,0`"
   ]
  },
  {
   "cell_type": "code",
   "execution_count": 26,
   "metadata": {},
   "outputs": [
    {
     "data": {
      "text/html": [
       "<div>\n",
       "<style scoped>\n",
       "    .dataframe tbody tr th:only-of-type {\n",
       "        vertical-align: middle;\n",
       "    }\n",
       "\n",
       "    .dataframe tbody tr th {\n",
       "        vertical-align: top;\n",
       "    }\n",
       "\n",
       "    .dataframe thead th {\n",
       "        text-align: right;\n",
       "    }\n",
       "</style>\n",
       "<table border=\"1\" class=\"dataframe\">\n",
       "  <thead>\n",
       "    <tr style=\"text-align: right;\">\n",
       "      <th></th>\n",
       "      <th>A</th>\n",
       "      <th>B</th>\n",
       "      <th>C</th>\n",
       "    </tr>\n",
       "  </thead>\n",
       "  <tbody>\n",
       "    <tr>\n",
       "      <th>0</th>\n",
       "      <td>0.739351</td>\n",
       "      <td>0.141011</td>\n",
       "      <td>0.952324</td>\n",
       "    </tr>\n",
       "    <tr>\n",
       "      <th>1</th>\n",
       "      <td>0.671057</td>\n",
       "      <td>0.957209</td>\n",
       "      <td>0.762740</td>\n",
       "    </tr>\n",
       "    <tr>\n",
       "      <th>2</th>\n",
       "      <td>0.169492</td>\n",
       "      <td>0.909634</td>\n",
       "      <td>0.056686</td>\n",
       "    </tr>\n",
       "    <tr>\n",
       "      <th>3</th>\n",
       "      <td>0.852941</td>\n",
       "      <td>0.299908</td>\n",
       "      <td>0.327084</td>\n",
       "    </tr>\n",
       "    <tr>\n",
       "      <th>4</th>\n",
       "      <td>0.389732</td>\n",
       "      <td>0.143415</td>\n",
       "      <td>0.529747</td>\n",
       "    </tr>\n",
       "    <tr>\n",
       "      <th>5</th>\n",
       "      <td>0.378361</td>\n",
       "      <td>0.066202</td>\n",
       "      <td>0.407777</td>\n",
       "    </tr>\n",
       "    <tr>\n",
       "      <th>6</th>\n",
       "      <td>0.334790</td>\n",
       "      <td>0.953660</td>\n",
       "      <td>0.636221</td>\n",
       "    </tr>\n",
       "    <tr>\n",
       "      <th>7</th>\n",
       "      <td>0.649807</td>\n",
       "      <td>0.847418</td>\n",
       "      <td>0.977716</td>\n",
       "    </tr>\n",
       "    <tr>\n",
       "      <th>8</th>\n",
       "      <td>0.973405</td>\n",
       "      <td>0.593625</td>\n",
       "      <td>0.829628</td>\n",
       "    </tr>\n",
       "    <tr>\n",
       "      <th>9</th>\n",
       "      <td>0.336239</td>\n",
       "      <td>0.974351</td>\n",
       "      <td>0.610547</td>\n",
       "    </tr>\n",
       "    <tr>\n",
       "      <th>10</th>\n",
       "      <td>0.704034</td>\n",
       "      <td>0.159638</td>\n",
       "      <td>0.049990</td>\n",
       "    </tr>\n",
       "    <tr>\n",
       "      <th>11</th>\n",
       "      <td>0.532774</td>\n",
       "      <td>0.282884</td>\n",
       "      <td>0.207842</td>\n",
       "    </tr>\n",
       "    <tr>\n",
       "      <th>12</th>\n",
       "      <td>0.904454</td>\n",
       "      <td>0.574888</td>\n",
       "      <td>0.197923</td>\n",
       "    </tr>\n",
       "    <tr>\n",
       "      <th>13</th>\n",
       "      <td>0.483790</td>\n",
       "      <td>0.631583</td>\n",
       "      <td>0.433783</td>\n",
       "    </tr>\n",
       "    <tr>\n",
       "      <th>14</th>\n",
       "      <td>0.986248</td>\n",
       "      <td>0.248179</td>\n",
       "      <td>0.513318</td>\n",
       "    </tr>\n",
       "    <tr>\n",
       "      <th>15</th>\n",
       "      <td>0.422537</td>\n",
       "      <td>0.244749</td>\n",
       "      <td>0.279639</td>\n",
       "    </tr>\n",
       "    <tr>\n",
       "      <th>16</th>\n",
       "      <td>0.573356</td>\n",
       "      <td>0.613005</td>\n",
       "      <td>0.407177</td>\n",
       "    </tr>\n",
       "    <tr>\n",
       "      <th>17</th>\n",
       "      <td>0.965291</td>\n",
       "      <td>0.879469</td>\n",
       "      <td>0.718060</td>\n",
       "    </tr>\n",
       "    <tr>\n",
       "      <th>18</th>\n",
       "      <td>0.579687</td>\n",
       "      <td>0.971429</td>\n",
       "      <td>0.094396</td>\n",
       "    </tr>\n",
       "    <tr>\n",
       "      <th>19</th>\n",
       "      <td>0.239572</td>\n",
       "      <td>0.977371</td>\n",
       "      <td>0.802341</td>\n",
       "    </tr>\n",
       "    <tr>\n",
       "      <th>20</th>\n",
       "      <td>0.443462</td>\n",
       "      <td>0.480756</td>\n",
       "      <td>0.901358</td>\n",
       "    </tr>\n",
       "    <tr>\n",
       "      <th>21</th>\n",
       "      <td>0.091980</td>\n",
       "      <td>0.812475</td>\n",
       "      <td>0.123950</td>\n",
       "    </tr>\n",
       "    <tr>\n",
       "      <th>22</th>\n",
       "      <td>0.133537</td>\n",
       "      <td>0.467238</td>\n",
       "      <td>0.046227</td>\n",
       "    </tr>\n",
       "    <tr>\n",
       "      <th>23</th>\n",
       "      <td>0.783642</td>\n",
       "      <td>0.850356</td>\n",
       "      <td>0.427071</td>\n",
       "    </tr>\n",
       "    <tr>\n",
       "      <th>24</th>\n",
       "      <td>0.940832</td>\n",
       "      <td>0.177145</td>\n",
       "      <td>0.404972</td>\n",
       "    </tr>\n",
       "    <tr>\n",
       "      <th>25</th>\n",
       "      <td>0.926650</td>\n",
       "      <td>0.361069</td>\n",
       "      <td>0.404966</td>\n",
       "    </tr>\n",
       "    <tr>\n",
       "      <th>26</th>\n",
       "      <td>0.613421</td>\n",
       "      <td>0.579087</td>\n",
       "      <td>0.210741</td>\n",
       "    </tr>\n",
       "    <tr>\n",
       "      <th>27</th>\n",
       "      <td>0.135872</td>\n",
       "      <td>0.493198</td>\n",
       "      <td>0.415136</td>\n",
       "    </tr>\n",
       "    <tr>\n",
       "      <th>28</th>\n",
       "      <td>0.482030</td>\n",
       "      <td>0.560455</td>\n",
       "      <td>0.500250</td>\n",
       "    </tr>\n",
       "    <tr>\n",
       "      <th>29</th>\n",
       "      <td>0.695375</td>\n",
       "      <td>0.988014</td>\n",
       "      <td>0.358015</td>\n",
       "    </tr>\n",
       "    <tr>\n",
       "      <th>30</th>\n",
       "      <td>0.705244</td>\n",
       "      <td>0.900774</td>\n",
       "      <td>0.509583</td>\n",
       "    </tr>\n",
       "    <tr>\n",
       "      <th>31</th>\n",
       "      <td>0.442095</td>\n",
       "      <td>0.049852</td>\n",
       "      <td>0.891915</td>\n",
       "    </tr>\n",
       "    <tr>\n",
       "      <th>32</th>\n",
       "      <td>0.994831</td>\n",
       "      <td>0.682817</td>\n",
       "      <td>0.947765</td>\n",
       "    </tr>\n",
       "    <tr>\n",
       "      <th>33</th>\n",
       "      <td>0.318879</td>\n",
       "      <td>0.176825</td>\n",
       "      <td>0.633753</td>\n",
       "    </tr>\n",
       "    <tr>\n",
       "      <th>34</th>\n",
       "      <td>0.620854</td>\n",
       "      <td>0.099304</td>\n",
       "      <td>0.890925</td>\n",
       "    </tr>\n",
       "    <tr>\n",
       "      <th>35</th>\n",
       "      <td>0.707575</td>\n",
       "      <td>0.042292</td>\n",
       "      <td>0.696687</td>\n",
       "    </tr>\n",
       "    <tr>\n",
       "      <th>36</th>\n",
       "      <td>0.059367</td>\n",
       "      <td>0.047486</td>\n",
       "      <td>0.037593</td>\n",
       "    </tr>\n",
       "    <tr>\n",
       "      <th>37</th>\n",
       "      <td>0.431571</td>\n",
       "      <td>0.293894</td>\n",
       "      <td>0.904531</td>\n",
       "    </tr>\n",
       "    <tr>\n",
       "      <th>38</th>\n",
       "      <td>0.499900</td>\n",
       "      <td>0.853493</td>\n",
       "      <td>0.532019</td>\n",
       "    </tr>\n",
       "    <tr>\n",
       "      <th>39</th>\n",
       "      <td>0.402778</td>\n",
       "      <td>0.197702</td>\n",
       "      <td>0.260954</td>\n",
       "    </tr>\n",
       "    <tr>\n",
       "      <th>40</th>\n",
       "      <td>0.838464</td>\n",
       "      <td>0.161094</td>\n",
       "      <td>0.667247</td>\n",
       "    </tr>\n",
       "    <tr>\n",
       "      <th>41</th>\n",
       "      <td>0.786861</td>\n",
       "      <td>0.397042</td>\n",
       "      <td>0.860077</td>\n",
       "    </tr>\n",
       "    <tr>\n",
       "      <th>42</th>\n",
       "      <td>0.548655</td>\n",
       "      <td>0.661568</td>\n",
       "      <td>0.347107</td>\n",
       "    </tr>\n",
       "    <tr>\n",
       "      <th>43</th>\n",
       "      <td>0.443231</td>\n",
       "      <td>0.140439</td>\n",
       "      <td>0.374729</td>\n",
       "    </tr>\n",
       "    <tr>\n",
       "      <th>44</th>\n",
       "      <td>0.290662</td>\n",
       "      <td>0.071868</td>\n",
       "      <td>0.220603</td>\n",
       "    </tr>\n",
       "    <tr>\n",
       "      <th>45</th>\n",
       "      <td>0.123942</td>\n",
       "      <td>0.795996</td>\n",
       "      <td>0.546575</td>\n",
       "    </tr>\n",
       "    <tr>\n",
       "      <th>46</th>\n",
       "      <td>0.276016</td>\n",
       "      <td>0.386903</td>\n",
       "      <td>0.537683</td>\n",
       "    </tr>\n",
       "    <tr>\n",
       "      <th>47</th>\n",
       "      <td>0.593154</td>\n",
       "      <td>0.320129</td>\n",
       "      <td>0.397071</td>\n",
       "    </tr>\n",
       "    <tr>\n",
       "      <th>48</th>\n",
       "      <td>0.337929</td>\n",
       "      <td>0.392390</td>\n",
       "      <td>0.766984</td>\n",
       "    </tr>\n",
       "    <tr>\n",
       "      <th>49</th>\n",
       "      <td>0.723862</td>\n",
       "      <td>0.767882</td>\n",
       "      <td>0.643503</td>\n",
       "    </tr>\n",
       "  </tbody>\n",
       "</table>\n",
       "</div>"
      ],
      "text/plain": [
       "           A         B         C\n",
       "0   0.739351  0.141011  0.952324\n",
       "1   0.671057  0.957209  0.762740\n",
       "2   0.169492  0.909634  0.056686\n",
       "3   0.852941  0.299908  0.327084\n",
       "4   0.389732  0.143415  0.529747\n",
       "5   0.378361  0.066202  0.407777\n",
       "6   0.334790  0.953660  0.636221\n",
       "7   0.649807  0.847418  0.977716\n",
       "8   0.973405  0.593625  0.829628\n",
       "9   0.336239  0.974351  0.610547\n",
       "10  0.704034  0.159638  0.049990\n",
       "11  0.532774  0.282884  0.207842\n",
       "12  0.904454  0.574888  0.197923\n",
       "13  0.483790  0.631583  0.433783\n",
       "14  0.986248  0.248179  0.513318\n",
       "15  0.422537  0.244749  0.279639\n",
       "16  0.573356  0.613005  0.407177\n",
       "17  0.965291  0.879469  0.718060\n",
       "18  0.579687  0.971429  0.094396\n",
       "19  0.239572  0.977371  0.802341\n",
       "20  0.443462  0.480756  0.901358\n",
       "21  0.091980  0.812475  0.123950\n",
       "22  0.133537  0.467238  0.046227\n",
       "23  0.783642  0.850356  0.427071\n",
       "24  0.940832  0.177145  0.404972\n",
       "25  0.926650  0.361069  0.404966\n",
       "26  0.613421  0.579087  0.210741\n",
       "27  0.135872  0.493198  0.415136\n",
       "28  0.482030  0.560455  0.500250\n",
       "29  0.695375  0.988014  0.358015\n",
       "30  0.705244  0.900774  0.509583\n",
       "31  0.442095  0.049852  0.891915\n",
       "32  0.994831  0.682817  0.947765\n",
       "33  0.318879  0.176825  0.633753\n",
       "34  0.620854  0.099304  0.890925\n",
       "35  0.707575  0.042292  0.696687\n",
       "36  0.059367  0.047486  0.037593\n",
       "37  0.431571  0.293894  0.904531\n",
       "38  0.499900  0.853493  0.532019\n",
       "39  0.402778  0.197702  0.260954\n",
       "40  0.838464  0.161094  0.667247\n",
       "41  0.786861  0.397042  0.860077\n",
       "42  0.548655  0.661568  0.347107\n",
       "43  0.443231  0.140439  0.374729\n",
       "44  0.290662  0.071868  0.220603\n",
       "45  0.123942  0.795996  0.546575\n",
       "46  0.276016  0.386903  0.537683\n",
       "47  0.593154  0.320129  0.397071\n",
       "48  0.337929  0.392390  0.766984\n",
       "49  0.723862  0.767882  0.643503"
      ]
     },
     "execution_count": 26,
     "metadata": {},
     "output_type": "execute_result"
    }
   ],
   "source": [
    "dataf.loc[:, 'A':'C'] # loc function use to specify the columns label or name"
   ]
  },
  {
   "cell_type": "markdown",
   "metadata": {},
   "source": [
    "### Example 23\n",
    "- `Print 1st 12 elements of column 2 and 4`"
   ]
  },
  {
   "cell_type": "code",
   "execution_count": 27,
   "metadata": {},
   "outputs": [
    {
     "data": {
      "text/html": [
       "<div>\n",
       "<style scoped>\n",
       "    .dataframe tbody tr th:only-of-type {\n",
       "        vertical-align: middle;\n",
       "    }\n",
       "\n",
       "    .dataframe tbody tr th {\n",
       "        vertical-align: top;\n",
       "    }\n",
       "\n",
       "    .dataframe thead th {\n",
       "        text-align: right;\n",
       "    }\n",
       "</style>\n",
       "<table border=\"1\" class=\"dataframe\">\n",
       "  <thead>\n",
       "    <tr style=\"text-align: right;\">\n",
       "      <th></th>\n",
       "      <th>C</th>\n",
       "      <th>D</th>\n",
       "    </tr>\n",
       "  </thead>\n",
       "  <tbody>\n",
       "    <tr>\n",
       "      <th>0</th>\n",
       "      <td>0.952324</td>\n",
       "      <td>0.279686</td>\n",
       "    </tr>\n",
       "    <tr>\n",
       "      <th>1</th>\n",
       "      <td>0.762740</td>\n",
       "      <td>0.203187</td>\n",
       "    </tr>\n",
       "    <tr>\n",
       "      <th>2</th>\n",
       "      <td>0.056686</td>\n",
       "      <td>0.054225</td>\n",
       "    </tr>\n",
       "    <tr>\n",
       "      <th>3</th>\n",
       "      <td>0.327084</td>\n",
       "      <td>0.450650</td>\n",
       "    </tr>\n",
       "    <tr>\n",
       "      <th>4</th>\n",
       "      <td>0.529747</td>\n",
       "      <td>0.810875</td>\n",
       "    </tr>\n",
       "    <tr>\n",
       "      <th>5</th>\n",
       "      <td>0.407777</td>\n",
       "      <td>0.939892</td>\n",
       "    </tr>\n",
       "    <tr>\n",
       "      <th>6</th>\n",
       "      <td>0.636221</td>\n",
       "      <td>0.343725</td>\n",
       "    </tr>\n",
       "    <tr>\n",
       "      <th>7</th>\n",
       "      <td>0.977716</td>\n",
       "      <td>0.763492</td>\n",
       "    </tr>\n",
       "    <tr>\n",
       "      <th>8</th>\n",
       "      <td>0.829628</td>\n",
       "      <td>0.877099</td>\n",
       "    </tr>\n",
       "    <tr>\n",
       "      <th>9</th>\n",
       "      <td>0.610547</td>\n",
       "      <td>0.554614</td>\n",
       "    </tr>\n",
       "    <tr>\n",
       "      <th>10</th>\n",
       "      <td>0.049990</td>\n",
       "      <td>0.140368</td>\n",
       "    </tr>\n",
       "    <tr>\n",
       "      <th>11</th>\n",
       "      <td>0.207842</td>\n",
       "      <td>0.319099</td>\n",
       "    </tr>\n",
       "  </tbody>\n",
       "</table>\n",
       "</div>"
      ],
      "text/plain": [
       "           C         D\n",
       "0   0.952324  0.279686\n",
       "1   0.762740  0.203187\n",
       "2   0.056686  0.054225\n",
       "3   0.327084  0.450650\n",
       "4   0.529747  0.810875\n",
       "5   0.407777  0.939892\n",
       "6   0.636221  0.343725\n",
       "7   0.977716  0.763492\n",
       "8   0.829628  0.877099\n",
       "9   0.610547  0.554614\n",
       "10  0.049990  0.140368\n",
       "11  0.207842  0.319099"
      ]
     },
     "execution_count": 27,
     "metadata": {},
     "output_type": "execute_result"
    }
   ],
   "source": [
    "dataf.iloc[0:12, 2:4]"
   ]
  },
  {
   "cell_type": "markdown",
   "metadata": {},
   "source": [
    "# 03. Matplotlib"
   ]
  },
  {
   "cell_type": "markdown",
   "metadata": {},
   "source": [
    "### Example 01\n",
    "- `Use plot and show function to create and show the graph`"
   ]
  },
  {
   "cell_type": "code",
   "execution_count": 28,
   "metadata": {},
   "outputs": [
    {
     "name": "stdout",
     "output_type": "stream",
     "text": [
      "[ 1  2  3  4  5  6  7  8  9 10]\n"
     ]
    },
    {
     "data": {
      "image/png": "[encoded data removed]",
      "text/plain": [
       "<Figure size 640x480 with 1 Axes>"
      ]
     },
     "metadata": {},
     "output_type": "display_data"
    }
   ],
   "source": [
    "import numpy as np\n",
    "import matplotlib.pyplot as plt\n",
    "\n",
    "x = np.array((1,2,3,4,5,6,7,8,9,10))\n",
    "y = x**2\n",
    "\n",
    "print(x)\n",
    "\n",
    "plt.plot(x,y)\n",
    "plt.show()"
   ]
  },
  {
   "cell_type": "markdown",
   "metadata": {},
   "source": [
    "### Example 02\n",
    "- `Add labels and tittle to the graph`"
   ]
  },
  {
   "cell_type": "code",
   "execution_count": 29,
   "metadata": {},
   "outputs": [
    {
     "name": "stdout",
     "output_type": "stream",
     "text": [
      "[ 1  2  3  4  5  6  7  8  9 10]\n"
     ]
    },
    {
     "data": {
      "image/png": "[encoded data removed]",
      "text/plain": [
       "<Figure size 640x480 with 1 Axes>"
      ]
     },
     "metadata": {},
     "output_type": "display_data"
    }
   ],
   "source": [
    "import numpy as np\n",
    "import matplotlib.pyplot as plt\n",
    "\n",
    "x = np.array((1,2,3,4,5,6,7,8,9,10))\n",
    "y = x**2\n",
    "\n",
    "print(x)\n",
    "\n",
    "plt.plot(x,y)\n",
    "plt.xlabel('x-axis')\n",
    "plt.ylabel('y-axis')\n",
    "plt.title(\"y = x^2\")\n",
    "plt.show()"
   ]
  },
  {
   "cell_type": "markdown",
   "metadata": {},
   "source": [
    "### Exampel 03\n",
    "- `Plot 3 variables on a single graph`"
   ]
  },
  {
   "cell_type": "code",
   "execution_count": 31,
   "metadata": {},
   "outputs": [
    {
     "name": "stdout",
     "output_type": "stream",
     "text": [
      "[ 1  2  3  4  5  6  7  8  9 10]\n",
      "[  1   4   9  16  25  36  49  64  81 100]\n",
      "[ 5  6  7  8  9 10 11 12 13 14]\n"
     ]
    },
    {
     "data": {
      "image/png": "[encoded data removed]",
      "text/plain": [
       "<Figure size 640x480 with 1 Axes>"
      ]
     },
     "metadata": {},
     "output_type": "display_data"
    }
   ],
   "source": [
    "import numpy as np\n",
    "import matplotlib.pyplot as plt\n",
    "\n",
    "x = np.array((1,2,3,4,5,6,7,8,9,10))\n",
    "y = x**2\n",
    "z = x + 4\n",
    "\n",
    "print(f\"{x}\\n{y}\\n{z}\")\n",
    "\n",
    "plt.plot(x,x)\n",
    "plt.plot(x,y)\n",
    "plt.plot(x,z)\n",
    "plt.xlabel('x-axis')\n",
    "plt.ylabel('y-axis')\n",
    "plt.title(\"Plotting the x, y adn z\")\n",
    "plt.show()"
   ]
  },
  {
   "cell_type": "markdown",
   "metadata": {},
   "source": [
    "### Example 04\n",
    "- `Change the color linestyle and linewidth of the graph`"
   ]
  },
  {
   "cell_type": "code",
   "execution_count": 6,
   "metadata": {},
   "outputs": [
    {
     "name": "stdout",
     "output_type": "stream",
     "text": [
      "[ 1  2  3  4  5  6  7  8  9 10]\n",
      "[  1   4   9  16  25  36  49  64  81 100]\n",
      "[ 5  6  7  8  9 10 11 12 13 14]\n"
     ]
    },
    {
     "data": {
      "image/png": "[encoded data removed]",
      "text/plain": [
       "<Figure size 640x480 with 1 Axes>"
      ]
     },
     "metadata": {},
     "output_type": "display_data"
    }
   ],
   "source": [
    "import numpy as np\n",
    "import matplotlib.pyplot as plt\n",
    "\n",
    "x = np.array((1,2,3,4,5,6,7,8,9,10))\n",
    "y = x**2\n",
    "z = x + 4\n",
    "\n",
    "print(f\"{x}\\n{y}\\n{z}\")\n",
    "\n",
    "plt.plot(x,x)\n",
    "plt.plot(x,y, color='g', linestyle = ':', linewidth=15)\n",
    "plt.plot(x,z)\n",
    "plt.xlabel('x-axis')\n",
    "plt.ylabel('y-axis')\n",
    "plt.title(\"Plotting the x, y adn z\")\n",
    "plt.show()"
   ]
  },
  {
   "cell_type": "code",
   "execution_count": null,
   "metadata": {},
   "outputs": [],
   "source": []
  }
 ],
 "metadata": {
  "kernelspec": {
   "display_name": "Python 3",
   "language": "python",
   "name": "python3"
  },
  "language_info": {
   "codemirror_mode": {
    "name": "ipython",
    "version": 3
   },
   "file_extension": ".py",
   "mimetype": "text/x-python",
   "name": "python",
   "nbconvert_exporter": "python",
   "pygments_lexer": "ipython3",
   "version": "3.9.1"
  },
  "orig_nbformat": 4
 },
 "nbformat": 4,
 "nbformat_minor": 2
}
